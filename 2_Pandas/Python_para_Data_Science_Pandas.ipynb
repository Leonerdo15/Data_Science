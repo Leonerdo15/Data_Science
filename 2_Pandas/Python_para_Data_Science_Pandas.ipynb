{
 "nbformat": 4,
 "nbformat_minor": 0,
 "metadata": {
  "kernelspec": {
   "display_name": "Python 3",
   "language": "python",
   "name": "python3"
  },
  "language_info": {
   "codemirror_mode": {
    "name": "ipython",
    "version": 3
   },
   "file_extension": ".py",
   "mimetype": "text/x-python",
   "name": "python",
   "nbconvert_exporter": "python",
   "pygments_lexer": "ipython3",
   "version": "3.7.3"
  },
  "colab": {
   "name": "Python_para_Data_Science_Pandas.ipynb",
   "provenance": []
  }
 },
 "cells": [
  {
   "cell_type": "code",
   "execution_count": 6,
   "outputs": [],
   "source": [
    "# <font color=green> PYTHON PARA DATA SCIENCE - PANDAS"
   ],
   "metadata": {
    "collapsed": false,
    "pycharm": {
     "name": "#%%\n"
    }
   }
  },
  {
   "cell_type": "markdown",
   "metadata": {
    "id": "GOEcCc62D0-x",
    "colab_type": "text",
    "pycharm": {
     "name": "#%% md\n"
    }
   },
   "source": [
    "# <font color=green> 1. INTRODUÇÃO AO PYTHON\n",
    "---"
   ]
  },
  {
   "cell_type": "markdown",
   "metadata": {
    "id": "oGvoOJ-XD0-y",
    "colab_type": "text",
    "pycharm": {
     "name": "#%% md\n"
    }
   },
   "source": [
    "# 1.1 Introdução"
   ]
  },
  {
   "cell_type": "markdown",
   "metadata": {
    "id": "fam3BM0aD0-z",
    "colab_type": "text",
    "pycharm": {
     "name": "#%% md\n"
    }
   },
   "source": [
    "> Python é uma linguagem de programação de alto nível com suporte a múltiplos paradigmas de programação. É um projeto *open source* e desde seu surgimento, em 1991, vem se tornando uma das linguagens de programação interpretadas mais populares. \n",
    ">\n",
    "> Nos últimos anos Python desenvolveu uma comunidade ativa de processamento científico e análise de dados e vem se destacando como uma das linguagens mais relevantes quando o assundo é ciência de dados e machine learning, tanto no ambiente acadêmico como também no mercado."
   ]
  },
  {
   "cell_type": "markdown",
   "metadata": {
    "id": "6kH5DY-vD0-1",
    "colab_type": "text",
    "pycharm": {
     "name": "#%% md\n"
    }
   },
   "source": [
    "# 1.2 Instalação e ambiente de desenvolvimento"
   ]
  },
  {
   "cell_type": "markdown",
   "metadata": {
    "id": "BTpm79I2D0-2",
    "colab_type": "text",
    "pycharm": {
     "name": "#%% md\n"
    }
   },
   "source": [
    "### Instalação Local\n",
    "\n",
    "### https://www.python.org/downloads/\n",
    "### ou\n",
    "### https://www.anaconda.com/distribution/"
   ]
  },
  {
   "cell_type": "markdown",
   "metadata": {
    "id": "AuPS_XwRD0-3",
    "colab_type": "text",
    "pycharm": {
     "name": "#%% md\n"
    }
   },
   "source": [
    "### Google Colaboratory\n",
    "\n",
    "### https://colab.research.google.com"
   ]
  },
  {
   "cell_type": "markdown",
   "metadata": {
    "id": "4rUYsPrXD0-4",
    "colab_type": "text",
    "pycharm": {
     "name": "#%% md\n"
    }
   },
   "source": [
    "### Verificando versão"
   ]
  },
  {
   "cell_type": "code",
   "metadata": {
    "id": "PgTCVRB2D0-5",
    "colab_type": "code",
    "colab": {
     "base_uri": "https://localhost:8080/",
     "height": 34
    },
    "outputId": "e7856a09-3f77-4525-a978-3c46c6b3cf4f",
    "pycharm": {
     "name": "#%%\n"
    }
   },
   "source": [
    "!python -V"
   ],
   "execution_count": 7,
   "outputs": [
    {
     "name": "stdout",
     "output_type": "stream",
     "text": [
      "Python 3.8.5\n"
     ]
    }
   ]
  },
  {
   "cell_type": "markdown",
   "metadata": {
    "id": "lTtI6so4D0-9",
    "colab_type": "text",
    "pycharm": {
     "name": "#%% md\n"
    }
   },
   "source": [
    "# 1.3 Trabalhando com dados\n",
    "\n",
    "https://pandas.pydata.org/pandas-docs/stable/reference/api/pandas.set_option.html"
   ]
  },
  {
   "cell_type": "code",
   "metadata": {
    "id": "E_n4FUUWD0-9",
    "colab_type": "code",
    "colab": {},
    "pycharm": {
     "name": "#%%\n"
    }
   },
   "source": [
    "import pandas as pd\n",
    "# pd.set_option('display.max_rows', 10)\n",
    "# pd.set_option('display.max_columns', 1000)"
   ],
   "execution_count": 8,
   "outputs": []
  },
  {
   "cell_type": "code",
   "metadata": {
    "id": "Kq-JdRHFD0-_",
    "colab_type": "code",
    "colab": {},
    "pycharm": {
     "name": "#%%\n"
    }
   },
   "source": [
    "dataset = pd.read_csv('data/db.csv', sep = ';')"
   ],
   "execution_count": 10,
   "outputs": []
  },
  {
   "cell_type": "code",
   "metadata": {
    "scrolled": true,
    "id": "mOV1rCA6D0_A",
    "colab_type": "code",
    "colab": {
     "base_uri": "https://localhost:8080/",
     "height": 419
    },
    "outputId": "2f1aca68-0f01-4df2-9d6f-cfcdf0e302a7",
    "pycharm": {
     "name": "#%%\n"
    }
   },
   "source": [
    "dataset"
   ],
   "execution_count": 11,
   "outputs": [
    {
     "data": {
      "text/plain": "                      Nome                  Motor   Ano  Quilometragem  \\\n0            Jetta Variant        Motor 4.0 Turbo  2003        44410.0   \n1                   Passat           Motor Diesel  1991         5712.0   \n2                 Crossfox        Motor Diesel V8  1990        37123.0   \n3                      DS5        Motor 2.4 Turbo  2019            NaN   \n4         Aston Martin DB4        Motor 2.4 Turbo  2006        25757.0   \n..                     ...                    ...   ...            ...   \n253           Phantom 2013               Motor V8  2014        27505.0   \n254  Cadillac Ciel concept               Motor V8  1991        29981.0   \n255             Classe GLK  Motor 5.0 V8 Bi-Turbo  2002        52637.0   \n256       Aston Martin DB5           Motor Diesel  1996         7685.0   \n257                  Macan        Motor Diesel V6  1992        50188.0   \n\n     Zero_km                                         Acessórios      Valor  \n0      False  ['Rodas de liga', 'Travas elétricas', 'Piloto ...   88078.64  \n1      False  ['Central multimídia', 'Teto panorâmico', 'Fre...  106161.94  \n2      False  ['Piloto automático', 'Controle de estabilidad...   72832.16  \n3       True  ['Travas elétricas', '4 X 4', 'Vidros elétrico...  124549.07  \n4      False  ['Rodas de liga', '4 X 4', 'Central multimídia...   92612.10  \n..       ...                                                ...        ...  \n253    False  ['Controle de estabilidade', 'Piloto automátic...   51759.58  \n254    False  ['Bancos de couro', 'Painel digital', 'Sensor ...   51667.06  \n255    False  ['Rodas de liga', 'Controle de tração', 'Câmbi...   68934.03  \n256    False  ['Ar condicionado', '4 X 4', 'Câmbio automátic...  122110.90  \n257    False  ['Central multimídia', 'Teto panorâmico', 'Vid...   90381.47  \n\n[258 rows x 7 columns]",
      "text/html": "<div>\n<style scoped>\n    .dataframe tbody tr th:only-of-type {\n        vertical-align: middle;\n    }\n\n    .dataframe tbody tr th {\n        vertical-align: top;\n    }\n\n    .dataframe thead th {\n        text-align: right;\n    }\n</style>\n<table border=\"1\" class=\"dataframe\">\n  <thead>\n    <tr style=\"text-align: right;\">\n      <th></th>\n      <th>Nome</th>\n      <th>Motor</th>\n      <th>Ano</th>\n      <th>Quilometragem</th>\n      <th>Zero_km</th>\n      <th>Acessórios</th>\n      <th>Valor</th>\n    </tr>\n  </thead>\n  <tbody>\n    <tr>\n      <th>0</th>\n      <td>Jetta Variant</td>\n      <td>Motor 4.0 Turbo</td>\n      <td>2003</td>\n      <td>44410.0</td>\n      <td>False</td>\n      <td>['Rodas de liga', 'Travas elétricas', 'Piloto ...</td>\n      <td>88078.64</td>\n    </tr>\n    <tr>\n      <th>1</th>\n      <td>Passat</td>\n      <td>Motor Diesel</td>\n      <td>1991</td>\n      <td>5712.0</td>\n      <td>False</td>\n      <td>['Central multimídia', 'Teto panorâmico', 'Fre...</td>\n      <td>106161.94</td>\n    </tr>\n    <tr>\n      <th>2</th>\n      <td>Crossfox</td>\n      <td>Motor Diesel V8</td>\n      <td>1990</td>\n      <td>37123.0</td>\n      <td>False</td>\n      <td>['Piloto automático', 'Controle de estabilidad...</td>\n      <td>72832.16</td>\n    </tr>\n    <tr>\n      <th>3</th>\n      <td>DS5</td>\n      <td>Motor 2.4 Turbo</td>\n      <td>2019</td>\n      <td>NaN</td>\n      <td>True</td>\n      <td>['Travas elétricas', '4 X 4', 'Vidros elétrico...</td>\n      <td>124549.07</td>\n    </tr>\n    <tr>\n      <th>4</th>\n      <td>Aston Martin DB4</td>\n      <td>Motor 2.4 Turbo</td>\n      <td>2006</td>\n      <td>25757.0</td>\n      <td>False</td>\n      <td>['Rodas de liga', '4 X 4', 'Central multimídia...</td>\n      <td>92612.10</td>\n    </tr>\n    <tr>\n      <th>...</th>\n      <td>...</td>\n      <td>...</td>\n      <td>...</td>\n      <td>...</td>\n      <td>...</td>\n      <td>...</td>\n      <td>...</td>\n    </tr>\n    <tr>\n      <th>253</th>\n      <td>Phantom 2013</td>\n      <td>Motor V8</td>\n      <td>2014</td>\n      <td>27505.0</td>\n      <td>False</td>\n      <td>['Controle de estabilidade', 'Piloto automátic...</td>\n      <td>51759.58</td>\n    </tr>\n    <tr>\n      <th>254</th>\n      <td>Cadillac Ciel concept</td>\n      <td>Motor V8</td>\n      <td>1991</td>\n      <td>29981.0</td>\n      <td>False</td>\n      <td>['Bancos de couro', 'Painel digital', 'Sensor ...</td>\n      <td>51667.06</td>\n    </tr>\n    <tr>\n      <th>255</th>\n      <td>Classe GLK</td>\n      <td>Motor 5.0 V8 Bi-Turbo</td>\n      <td>2002</td>\n      <td>52637.0</td>\n      <td>False</td>\n      <td>['Rodas de liga', 'Controle de tração', 'Câmbi...</td>\n      <td>68934.03</td>\n    </tr>\n    <tr>\n      <th>256</th>\n      <td>Aston Martin DB5</td>\n      <td>Motor Diesel</td>\n      <td>1996</td>\n      <td>7685.0</td>\n      <td>False</td>\n      <td>['Ar condicionado', '4 X 4', 'Câmbio automátic...</td>\n      <td>122110.90</td>\n    </tr>\n    <tr>\n      <th>257</th>\n      <td>Macan</td>\n      <td>Motor Diesel V6</td>\n      <td>1992</td>\n      <td>50188.0</td>\n      <td>False</td>\n      <td>['Central multimídia', 'Teto panorâmico', 'Vid...</td>\n      <td>90381.47</td>\n    </tr>\n  </tbody>\n</table>\n<p>258 rows × 7 columns</p>\n</div>"
     },
     "execution_count": 11,
     "metadata": {},
     "output_type": "execute_result"
    }
   ]
  },
  {
   "cell_type": "code",
   "metadata": {
    "id": "5D739PzJD0_B",
    "colab_type": "code",
    "colab": {
     "base_uri": "https://localhost:8080/",
     "height": 153
    },
    "outputId": "1b63b21c-9212-4c0b-c408-b8409a8a53fb",
    "pycharm": {
     "name": "#%%\n"
    }
   },
   "source": [
    "dataset.dtypes"
   ],
   "execution_count": 12,
   "outputs": [
    {
     "data": {
      "text/plain": "Nome              object\nMotor             object\nAno                int64\nQuilometragem    float64\nZero_km             bool\nAcessórios        object\nValor            float64\ndtype: object"
     },
     "execution_count": 12,
     "metadata": {},
     "output_type": "execute_result"
    }
   ]
  },
  {
   "cell_type": "code",
   "metadata": {
    "id": "r_qUf16LD0_D",
    "colab_type": "code",
    "colab": {
     "base_uri": "https://localhost:8080/",
     "height": 297
    },
    "outputId": "f89ff5e3-c02a-4b0d-eb7f-de59949f9468",
    "pycharm": {
     "name": "#%%\n"
    }
   },
   "source": [
    "dataset[['Quilometragem', 'Valor']].describe()"
   ],
   "execution_count": 13,
   "outputs": [
    {
     "data": {
      "text/plain": "       Quilometragem          Valor\ncount     197.000000     258.000000\nmean    58278.421320   98960.513101\nstd     35836.733259   29811.932305\nmin       107.000000   50742.100000\n25%     27505.000000   70743.512500\n50%     55083.000000   97724.380000\n75%     90495.000000  124633.302500\nmax    119945.000000  149489.920000",
      "text/html": "<div>\n<style scoped>\n    .dataframe tbody tr th:only-of-type {\n        vertical-align: middle;\n    }\n\n    .dataframe tbody tr th {\n        vertical-align: top;\n    }\n\n    .dataframe thead th {\n        text-align: right;\n    }\n</style>\n<table border=\"1\" class=\"dataframe\">\n  <thead>\n    <tr style=\"text-align: right;\">\n      <th></th>\n      <th>Quilometragem</th>\n      <th>Valor</th>\n    </tr>\n  </thead>\n  <tbody>\n    <tr>\n      <th>count</th>\n      <td>197.000000</td>\n      <td>258.000000</td>\n    </tr>\n    <tr>\n      <th>mean</th>\n      <td>58278.421320</td>\n      <td>98960.513101</td>\n    </tr>\n    <tr>\n      <th>std</th>\n      <td>35836.733259</td>\n      <td>29811.932305</td>\n    </tr>\n    <tr>\n      <th>min</th>\n      <td>107.000000</td>\n      <td>50742.100000</td>\n    </tr>\n    <tr>\n      <th>25%</th>\n      <td>27505.000000</td>\n      <td>70743.512500</td>\n    </tr>\n    <tr>\n      <th>50%</th>\n      <td>55083.000000</td>\n      <td>97724.380000</td>\n    </tr>\n    <tr>\n      <th>75%</th>\n      <td>90495.000000</td>\n      <td>124633.302500</td>\n    </tr>\n    <tr>\n      <th>max</th>\n      <td>119945.000000</td>\n      <td>149489.920000</td>\n    </tr>\n  </tbody>\n</table>\n</div>"
     },
     "execution_count": 13,
     "metadata": {},
     "output_type": "execute_result"
    }
   ]
  },
  {
   "cell_type": "code",
   "metadata": {
    "id": "0R-_7PH5D0_E",
    "colab_type": "code",
    "colab": {
     "base_uri": "https://localhost:8080/",
     "height": 221
    },
    "outputId": "1676c224-3829-4501-986a-b117b1d5b250",
    "pycharm": {
     "name": "#%%\n"
    }
   },
   "source": [
    "dataset.info()"
   ],
   "execution_count": 14,
   "outputs": [
    {
     "name": "stdout",
     "output_type": "stream",
     "text": [
      "<class 'pandas.core.frame.DataFrame'>\n",
      "RangeIndex: 258 entries, 0 to 257\n",
      "Data columns (total 7 columns):\n",
      " #   Column         Non-Null Count  Dtype  \n",
      "---  ------         --------------  -----  \n",
      " 0   Nome           258 non-null    object \n",
      " 1   Motor          258 non-null    object \n",
      " 2   Ano            258 non-null    int64  \n",
      " 3   Quilometragem  197 non-null    float64\n",
      " 4   Zero_km        258 non-null    bool   \n",
      " 5   Acessórios     258 non-null    object \n",
      " 6   Valor          258 non-null    float64\n",
      "dtypes: bool(1), float64(2), int64(1), object(3)\n",
      "memory usage: 12.5+ KB\n"
     ]
    }
   ]
  },
  {
   "cell_type": "markdown",
   "metadata": {
    "id": "htjoBLwiD0_F",
    "colab_type": "text",
    "pycharm": {
     "name": "#%% md\n"
    }
   },
   "source": [
    "# <font color=green> 2. TRABALHANDO COM TUPLAS\n",
    "---"
   ]
  },
  {
   "cell_type": "markdown",
   "metadata": {
    "id": "MZH5_QnYD0_G",
    "colab_type": "text",
    "pycharm": {
     "name": "#%% md\n"
    }
   },
   "source": [
    "# 2.1 Criando tuplas\n",
    "\n",
    "Tuplas são sequências imutáveis que são utilizadas para armazenar coleções de itens, geralmente heterogêneos. Podem ser construídas de várias formas:\n",
    "```\n",
    "- Utilizando um par de parênteses: ( )\n",
    "- Utilizando uma vírgula à direita: x,\n",
    "- Utilizando um par de parênteses com itens separados por vírgulas: ( x, y, z )\n",
    "- Utilizando: tuple() ou tuple(iterador)\n",
    "```"
   ]
  },
  {
   "cell_type": "code",
   "metadata": {
    "id": "xzcs9fzeD0_G",
    "colab_type": "code",
    "colab": {
     "base_uri": "https://localhost:8080/",
     "height": 34
    },
    "outputId": "878dfeb9-d752-4b23-cb05-cc8e81db4a66",
    "pycharm": {
     "name": "#%%\n"
    }
   },
   "source": [
    "()"
   ],
   "execution_count": 15,
   "outputs": [
    {
     "data": {
      "text/plain": "()"
     },
     "execution_count": 15,
     "metadata": {},
     "output_type": "execute_result"
    }
   ]
  },
  {
   "cell_type": "code",
   "metadata": {
    "id": "qJq7a2qTD0_I",
    "colab_type": "code",
    "colab": {
     "base_uri": "https://localhost:8080/",
     "height": 34
    },
    "outputId": "bfb37196-06e8-423f-c649-af925796ecce",
    "pycharm": {
     "name": "#%%\n"
    }
   },
   "source": [
    "1, 2, 3"
   ],
   "execution_count": 16,
   "outputs": [
    {
     "data": {
      "text/plain": "(1, 2, 3)"
     },
     "execution_count": 16,
     "metadata": {},
     "output_type": "execute_result"
    }
   ]
  },
  {
   "cell_type": "code",
   "metadata": {
    "id": "sg7LdvptD0_J",
    "colab_type": "code",
    "colab": {
     "base_uri": "https://localhost:8080/",
     "height": 34
    },
    "outputId": "e3b7a55f-305e-48f7-996a-b850a4ee2a72",
    "pycharm": {
     "name": "#%%\n"
    }
   },
   "source": [
    "nome = 'Passat'\n",
    "valor = 153000\n",
    "(nome, valor)"
   ],
   "execution_count": 17,
   "outputs": [
    {
     "data": {
      "text/plain": "('Passat', 153000)"
     },
     "execution_count": 17,
     "metadata": {},
     "output_type": "execute_result"
    }
   ]
  },
  {
   "cell_type": "code",
   "metadata": {
    "id": "XSSMebXjD0_K",
    "colab_type": "code",
    "colab": {
     "base_uri": "https://localhost:8080/",
     "height": 34
    },
    "outputId": "0f9b6214-5ae7-4bdd-9bc9-380bb3c8e4c6",
    "pycharm": {
     "name": "#%%\n"
    }
   },
   "source": [
    "nomes_carros = ('Jetta Variant', 'Passat', 'Crossfox', 'DS5')\n",
    "nomes_carros"
   ],
   "execution_count": 18,
   "outputs": [
    {
     "data": {
      "text/plain": "('Jetta Variant', 'Passat', 'Crossfox', 'DS5')"
     },
     "execution_count": 18,
     "metadata": {},
     "output_type": "execute_result"
    }
   ]
  },
  {
   "cell_type": "code",
   "metadata": {
    "id": "dpkdzrzRD0_M",
    "colab_type": "code",
    "colab": {
     "base_uri": "https://localhost:8080/",
     "height": 34
    },
    "outputId": "6c1cdaba-4065-4b58-d256-a7b6b81b8fcc",
    "pycharm": {
     "name": "#%%\n"
    }
   },
   "source": [
    "type(nomes_carros)"
   ],
   "execution_count": 19,
   "outputs": [
    {
     "data": {
      "text/plain": "tuple"
     },
     "execution_count": 19,
     "metadata": {},
     "output_type": "execute_result"
    }
   ]
  },
  {
   "cell_type": "markdown",
   "metadata": {
    "id": "iKUY2DOUD0_N",
    "colab_type": "text",
    "pycharm": {
     "name": "#%% md\n"
    }
   },
   "source": [
    "# 2.2 Seleções em tuplas"
   ]
  },
  {
   "cell_type": "code",
   "metadata": {
    "id": "hBEeAM7_D0_N",
    "colab_type": "code",
    "colab": {
     "base_uri": "https://localhost:8080/",
     "height": 34
    },
    "outputId": "c8ffdeb4-c4e5-499f-b9d5-cf535d7fc2c3",
    "pycharm": {
     "name": "#%%\n"
    }
   },
   "source": [
    "nomes_carros = ('Jetta Variant', 'Passat', 'Crossfox', 'DS5')\n",
    "nomes_carros"
   ],
   "execution_count": 20,
   "outputs": [
    {
     "data": {
      "text/plain": "('Jetta Variant', 'Passat', 'Crossfox', 'DS5')"
     },
     "execution_count": 20,
     "metadata": {},
     "output_type": "execute_result"
    }
   ]
  },
  {
   "cell_type": "code",
   "metadata": {
    "id": "-mx_1E_tD0_P",
    "colab_type": "code",
    "colab": {
     "base_uri": "https://localhost:8080/",
     "height": 34
    },
    "outputId": "a2e36029-d63a-4f30-dc69-594d7d70a328",
    "pycharm": {
     "name": "#%%\n"
    }
   },
   "source": [
    "nomes_carros[0]"
   ],
   "execution_count": 21,
   "outputs": [
    {
     "data": {
      "text/plain": "'Jetta Variant'"
     },
     "execution_count": 21,
     "metadata": {},
     "output_type": "execute_result"
    }
   ]
  },
  {
   "cell_type": "code",
   "metadata": {
    "id": "LMhyqnFID0_Q",
    "colab_type": "code",
    "colab": {
     "base_uri": "https://localhost:8080/",
     "height": 34
    },
    "outputId": "27b87d5d-a995-4670-f040-e601fafed90c",
    "pycharm": {
     "name": "#%%\n"
    }
   },
   "source": [
    "nomes_carros[1]"
   ],
   "execution_count": 22,
   "outputs": [
    {
     "data": {
      "text/plain": "'Passat'"
     },
     "execution_count": 22,
     "metadata": {},
     "output_type": "execute_result"
    }
   ]
  },
  {
   "cell_type": "code",
   "metadata": {
    "id": "6btHff4BD0_T",
    "colab_type": "code",
    "colab": {
     "base_uri": "https://localhost:8080/",
     "height": 34
    },
    "outputId": "91bbea38-ae63-4a1a-dddb-842ecff7f6af",
    "pycharm": {
     "name": "#%%\n"
    }
   },
   "source": [
    "nomes_carros[-1]"
   ],
   "execution_count": 23,
   "outputs": [
    {
     "data": {
      "text/plain": "'DS5'"
     },
     "execution_count": 23,
     "metadata": {},
     "output_type": "execute_result"
    }
   ]
  },
  {
   "cell_type": "code",
   "metadata": {
    "id": "K_Dc12xBD0_U",
    "colab_type": "code",
    "colab": {
     "base_uri": "https://localhost:8080/",
     "height": 34
    },
    "outputId": "911e99b6-71c8-476f-d622-7eca8fbe9234",
    "pycharm": {
     "name": "#%%\n"
    }
   },
   "source": [
    "nomes_carros[1:3]"
   ],
   "execution_count": 24,
   "outputs": [
    {
     "data": {
      "text/plain": "('Passat', 'Crossfox')"
     },
     "execution_count": 24,
     "metadata": {},
     "output_type": "execute_result"
    }
   ]
  },
  {
   "cell_type": "code",
   "metadata": {
    "id": "zvrWYkkeD0_W",
    "colab_type": "code",
    "colab": {
     "base_uri": "https://localhost:8080/",
     "height": 34
    },
    "outputId": "966dd3ab-53c0-47d0-b3be-286895642ac4",
    "pycharm": {
     "name": "#%%\n"
    }
   },
   "source": [
    "nomes_carros = ('Jetta Variant', 'Passat', 'Crossfox', 'DS5', ('Fusca', 'Gol', 'C4'))\n",
    "nomes_carros"
   ],
   "execution_count": 25,
   "outputs": [
    {
     "data": {
      "text/plain": "('Jetta Variant', 'Passat', 'Crossfox', 'DS5', ('Fusca', 'Gol', 'C4'))"
     },
     "execution_count": 25,
     "metadata": {},
     "output_type": "execute_result"
    }
   ]
  },
  {
   "cell_type": "code",
   "metadata": {
    "id": "Dw7tbM2ED0_Z",
    "colab_type": "code",
    "colab": {
     "base_uri": "https://localhost:8080/",
     "height": 34
    },
    "outputId": "6fd4ad90-959a-4867-e9d8-a5e900841ce4",
    "pycharm": {
     "name": "#%%\n"
    }
   },
   "source": [
    "nomes_carros[-1]"
   ],
   "execution_count": 26,
   "outputs": [
    {
     "data": {
      "text/plain": "('Fusca', 'Gol', 'C4')"
     },
     "execution_count": 26,
     "metadata": {},
     "output_type": "execute_result"
    }
   ]
  },
  {
   "cell_type": "code",
   "metadata": {
    "id": "SAMD3BtXD0_b",
    "colab_type": "code",
    "colab": {
     "base_uri": "https://localhost:8080/",
     "height": 34
    },
    "outputId": "6e31b84c-1839-4bb7-d5b1-cd9c219fb21c",
    "pycharm": {
     "name": "#%%\n"
    }
   },
   "source": [
    "nomes_carros[-1][1]"
   ],
   "execution_count": 27,
   "outputs": [
    {
     "data": {
      "text/plain": "'Gol'"
     },
     "execution_count": 27,
     "metadata": {},
     "output_type": "execute_result"
    }
   ]
  },
  {
   "cell_type": "markdown",
   "metadata": {
    "id": "KLMxh4-0D0_c",
    "colab_type": "text",
    "pycharm": {
     "name": "#%% md\n"
    }
   },
   "source": [
    "# 2.3 Iterando em tuplas"
   ]
  },
  {
   "cell_type": "code",
   "metadata": {
    "id": "K53elKsYD0_c",
    "colab_type": "code",
    "colab": {
     "base_uri": "https://localhost:8080/",
     "height": 34
    },
    "outputId": "ec1bcac5-5aa3-48d8-a0c8-69862bb6c376",
    "pycharm": {
     "name": "#%%\n"
    }
   },
   "source": [
    "nomes_carros = ('Jetta Variant', 'Passat', 'Crossfox', 'DS5')\n",
    "nomes_carros"
   ],
   "execution_count": 28,
   "outputs": [
    {
     "data": {
      "text/plain": "('Jetta Variant', 'Passat', 'Crossfox', 'DS5')"
     },
     "execution_count": 28,
     "metadata": {},
     "output_type": "execute_result"
    }
   ]
  },
  {
   "cell_type": "code",
   "metadata": {
    "id": "igZhZ5zdD0_d",
    "colab_type": "code",
    "colab": {
     "base_uri": "https://localhost:8080/",
     "height": 85
    },
    "outputId": "85663804-152c-4ed6-a653-535623b4c087",
    "pycharm": {
     "name": "#%%\n"
    }
   },
   "source": [
    "for item in nomes_carros:\n",
    "  print(item)"
   ],
   "execution_count": 29,
   "outputs": [
    {
     "name": "stdout",
     "output_type": "stream",
     "text": [
      "Jetta Variant\n",
      "Passat\n",
      "Crossfox\n",
      "DS5\n"
     ]
    }
   ]
  },
  {
   "cell_type": "markdown",
   "metadata": {
    "id": "AOBjxBk8D0_f",
    "colab_type": "text",
    "pycharm": {
     "name": "#%% md\n"
    }
   },
   "source": [
    "### Desempacotamento de tuplas"
   ]
  },
  {
   "cell_type": "code",
   "metadata": {
    "id": "UoEFnumhD0_f",
    "colab_type": "code",
    "colab": {
     "base_uri": "https://localhost:8080/",
     "height": 34
    },
    "outputId": "bb4f8349-87ca-49f9-ea4e-278e1cccf8ce",
    "pycharm": {
     "name": "#%%\n"
    }
   },
   "source": [
    "nomes_carros = ('Jetta Variant', 'Passat', 'Crossfox', 'DS5')\n",
    "nomes_carros"
   ],
   "execution_count": 30,
   "outputs": [
    {
     "data": {
      "text/plain": "('Jetta Variant', 'Passat', 'Crossfox', 'DS5')"
     },
     "execution_count": 30,
     "metadata": {},
     "output_type": "execute_result"
    }
   ]
  },
  {
   "cell_type": "code",
   "metadata": {
    "id": "AaCLcNYTD0_g",
    "colab_type": "code",
    "colab": {},
    "pycharm": {
     "name": "#%%\n"
    }
   },
   "source": [
    "carro_1, carro_2, carro_3, carro_4 = nomes_carros"
   ],
   "execution_count": 31,
   "outputs": []
  },
  {
   "cell_type": "code",
   "metadata": {
    "id": "TA71S9egD0_h",
    "colab_type": "code",
    "colab": {
     "base_uri": "https://localhost:8080/",
     "height": 34
    },
    "outputId": "3060b29f-57c3-4f7f-b310-c7e86a1e20e3",
    "pycharm": {
     "name": "#%%\n"
    }
   },
   "source": [
    "carro_1"
   ],
   "execution_count": 32,
   "outputs": [
    {
     "data": {
      "text/plain": "'Jetta Variant'"
     },
     "execution_count": 32,
     "metadata": {},
     "output_type": "execute_result"
    }
   ]
  },
  {
   "cell_type": "code",
   "metadata": {
    "id": "CHoJ034MD0_i",
    "colab_type": "code",
    "colab": {
     "base_uri": "https://localhost:8080/",
     "height": 34
    },
    "outputId": "8ed6d7f2-5953-4ebc-de54-834add974e84",
    "pycharm": {
     "name": "#%%\n"
    }
   },
   "source": [
    "carro_2"
   ],
   "execution_count": 33,
   "outputs": [
    {
     "data": {
      "text/plain": "'Passat'"
     },
     "execution_count": 33,
     "metadata": {},
     "output_type": "execute_result"
    }
   ]
  },
  {
   "cell_type": "code",
   "metadata": {
    "id": "oxJrOuCSD0_j",
    "colab_type": "code",
    "colab": {
     "base_uri": "https://localhost:8080/",
     "height": 34
    },
    "outputId": "b59788d6-6159-4918-ec83-10aa43175951",
    "pycharm": {
     "name": "#%%\n"
    }
   },
   "source": [
    "carro_3"
   ],
   "execution_count": 34,
   "outputs": [
    {
     "data": {
      "text/plain": "'Crossfox'"
     },
     "execution_count": 34,
     "metadata": {},
     "output_type": "execute_result"
    }
   ]
  },
  {
   "cell_type": "code",
   "metadata": {
    "id": "BbR9sB4BD0_k",
    "colab_type": "code",
    "colab": {
     "base_uri": "https://localhost:8080/",
     "height": 34
    },
    "outputId": "28a6c5a8-e30c-4467-bc22-514a87449387",
    "pycharm": {
     "name": "#%%\n"
    }
   },
   "source": [
    "carro_4"
   ],
   "execution_count": 35,
   "outputs": [
    {
     "data": {
      "text/plain": "'DS5'"
     },
     "execution_count": 35,
     "metadata": {},
     "output_type": "execute_result"
    }
   ]
  },
  {
   "cell_type": "code",
   "metadata": {
    "id": "aZvokrjPD0_m",
    "colab_type": "code",
    "colab": {},
    "pycharm": {
     "name": "#%%\n"
    }
   },
   "source": [
    "_, A, _, B = nomes_carros"
   ],
   "execution_count": 36,
   "outputs": []
  },
  {
   "cell_type": "code",
   "metadata": {
    "id": "wZXDbVg0D0_o",
    "colab_type": "code",
    "colab": {
     "base_uri": "https://localhost:8080/",
     "height": 34
    },
    "outputId": "e3f3f449-6896-489b-e9cc-1c6ce19d7411",
    "pycharm": {
     "name": "#%%\n"
    }
   },
   "source": [
    "A"
   ],
   "execution_count": 37,
   "outputs": [
    {
     "data": {
      "text/plain": "'Passat'"
     },
     "execution_count": 37,
     "metadata": {},
     "output_type": "execute_result"
    }
   ]
  },
  {
   "cell_type": "code",
   "metadata": {
    "id": "aWgDMBXiD0_p",
    "colab_type": "code",
    "colab": {
     "base_uri": "https://localhost:8080/",
     "height": 34
    },
    "outputId": "ea557216-fe14-4873-e14c-50d3e47dea0b",
    "pycharm": {
     "name": "#%%\n"
    }
   },
   "source": [
    "B"
   ],
   "execution_count": 38,
   "outputs": [
    {
     "data": {
      "text/plain": "'DS5'"
     },
     "execution_count": 38,
     "metadata": {},
     "output_type": "execute_result"
    }
   ]
  },
  {
   "cell_type": "code",
   "metadata": {
    "id": "OdpgNh-ND0_q",
    "colab_type": "code",
    "colab": {},
    "pycharm": {
     "name": "#%%\n"
    }
   },
   "source": [
    "_, C, *_ = nomes_carros"
   ],
   "execution_count": 39,
   "outputs": []
  },
  {
   "cell_type": "code",
   "metadata": {
    "id": "upVYFnMdD0_r",
    "colab_type": "code",
    "colab": {
     "base_uri": "https://localhost:8080/",
     "height": 34
    },
    "outputId": "c4bb9657-6b90-49a1-dbf4-398e9479b60a",
    "pycharm": {
     "name": "#%%\n"
    }
   },
   "source": [
    "C"
   ],
   "execution_count": 40,
   "outputs": [
    {
     "data": {
      "text/plain": "'Passat'"
     },
     "execution_count": 40,
     "metadata": {},
     "output_type": "execute_result"
    }
   ]
  },
  {
   "cell_type": "markdown",
   "metadata": {
    "id": "u85Aou8WD0_s",
    "colab_type": "text",
    "pycharm": {
     "name": "#%% md\n"
    }
   },
   "source": [
    "## *zip()*\n",
    "\n",
    "https://docs.python.org/3.6/library/functions.html#zip"
   ]
  },
  {
   "cell_type": "code",
   "metadata": {
    "id": "PaC2oXGED0_t",
    "colab_type": "code",
    "colab": {
     "base_uri": "https://localhost:8080/",
     "height": 34
    },
    "outputId": "65d33292-4d34-4081-975e-0ec32c99145f",
    "pycharm": {
     "name": "#%%\n"
    }
   },
   "source": [
    "carros = ['Jetta Variant', 'Passat', 'Crossfox', 'DS5']\n",
    "carros"
   ],
   "execution_count": 41,
   "outputs": [
    {
     "data": {
      "text/plain": "['Jetta Variant', 'Passat', 'Crossfox', 'DS5']"
     },
     "execution_count": 41,
     "metadata": {},
     "output_type": "execute_result"
    }
   ]
  },
  {
   "cell_type": "code",
   "metadata": {
    "id": "_02O1VnHD0_u",
    "colab_type": "code",
    "colab": {
     "base_uri": "https://localhost:8080/",
     "height": 34
    },
    "outputId": "e28bd0ca-5b71-4dff-c862-5f89c6161a08",
    "pycharm": {
     "name": "#%%\n"
    }
   },
   "source": [
    "valores = [88078.64, 106161.94, 72832.16, 124549.07]\n",
    "valores"
   ],
   "execution_count": 42,
   "outputs": [
    {
     "data": {
      "text/plain": "[88078.64, 106161.94, 72832.16, 124549.07]"
     },
     "execution_count": 42,
     "metadata": {},
     "output_type": "execute_result"
    }
   ]
  },
  {
   "cell_type": "code",
   "metadata": {
    "id": "roQK5nYRD0_v",
    "colab_type": "code",
    "colab": {
     "base_uri": "https://localhost:8080/",
     "height": 85
    },
    "outputId": "1d503860-e11b-4db5-d343-df48947a6641",
    "pycharm": {
     "name": "#%%\n"
    }
   },
   "source": [
    "list(zip(carros, valores))"
   ],
   "execution_count": 43,
   "outputs": [
    {
     "data": {
      "text/plain": "[('Jetta Variant', 88078.64),\n ('Passat', 106161.94),\n ('Crossfox', 72832.16),\n ('DS5', 124549.07)]"
     },
     "execution_count": 43,
     "metadata": {},
     "output_type": "execute_result"
    }
   ]
  },
  {
   "cell_type": "code",
   "metadata": {
    "id": "_WRxIRHrD0_w",
    "colab_type": "code",
    "colab": {
     "base_uri": "https://localhost:8080/",
     "height": 85
    },
    "outputId": "2d6ca504-0e14-4903-fd2b-dfc1b2b827ba",
    "pycharm": {
     "name": "#%%\n"
    }
   },
   "source": [
    "for item in zip(carros, valores):\n",
    "  print(item)"
   ],
   "execution_count": 44,
   "outputs": [
    {
     "name": "stdout",
     "output_type": "stream",
     "text": [
      "('Jetta Variant', 88078.64)\n",
      "('Passat', 106161.94)\n",
      "('Crossfox', 72832.16)\n",
      "('DS5', 124549.07)\n"
     ]
    }
   ]
  },
  {
   "cell_type": "code",
   "metadata": {
    "id": "2zIuhIILD0_x",
    "colab_type": "code",
    "colab": {
     "base_uri": "https://localhost:8080/",
     "height": 85
    },
    "outputId": "14389b9b-42f5-462d-a581-58c8b2bcbf78",
    "pycharm": {
     "name": "#%%\n"
    }
   },
   "source": [
    "for carro, valor in zip(carros, valores):\n",
    "  print(carro, valor)"
   ],
   "execution_count": 45,
   "outputs": [
    {
     "name": "stdout",
     "output_type": "stream",
     "text": [
      "Jetta Variant 88078.64\n",
      "Passat 106161.94\n",
      "Crossfox 72832.16\n",
      "DS5 124549.07\n"
     ]
    }
   ]
  },
  {
   "cell_type": "code",
   "metadata": {
    "id": "ZJaL62IpD0_y",
    "colab_type": "code",
    "colab": {
     "base_uri": "https://localhost:8080/",
     "height": 51
    },
    "outputId": "02aff269-ca96-44a3-dae9-93d7e8f78300",
    "pycharm": {
     "name": "#%%\n"
    }
   },
   "source": [
    "for carro, valor in zip(carros, valores):\n",
    "  if(valor > 100000):\n",
    "    print(carro)"
   ],
   "execution_count": 46,
   "outputs": [
    {
     "name": "stdout",
     "output_type": "stream",
     "text": [
      "Passat\n",
      "DS5\n"
     ]
    }
   ]
  },
  {
   "cell_type": "markdown",
   "metadata": {
    "id": "xo76nR8rD0_0",
    "colab_type": "text",
    "pycharm": {
     "name": "#%% md\n"
    }
   },
   "source": [
    "# <font color=green> 3. TRABALHANDO COM DICIONÁRIOS\n",
    "---"
   ]
  },
  {
   "cell_type": "markdown",
   "metadata": {
    "id": "wfWzOuztD0_0",
    "colab_type": "text",
    "pycharm": {
     "name": "#%% md\n"
    }
   },
   "source": [
    "# 3.1 Criando dicionários\n",
    "\n",
    "Listas são coleções sequenciais, isto é, os itens destas sequências estão ordenados e utilizam índices (números inteiros) para acessar os valores.\n",
    "\n",
    "Os dicionários são coleções um pouco diferentes. São estruturas de dados que representam um tipo de mapeamento. Mapeamentos são coleções de associações entre pares de valores onde o primeiro elemento do par é conhecido como chave (*key*) e o segundo como valor (*value*).\n",
    "\n",
    "```\n",
    "dicionario = {key_1: value_1, key_2: value_2, ..., key_n: value_n}\n",
    "```\n",
    "\n",
    "https://docs.python.org/3.6/library/stdtypes.html#typesmapping"
   ]
  },
  {
   "cell_type": "code",
   "metadata": {
    "id": "YIFVkWT6D0_1",
    "colab_type": "code",
    "colab": {
     "base_uri": "https://localhost:8080/",
     "height": 34
    },
    "outputId": "3072a4fa-0ca1-44c2-c030-21491e6803bd",
    "pycharm": {
     "name": "#%%\n"
    }
   },
   "source": [
    "carros = ['Jetta Variant', 'Passat', 'Crossfox']\n",
    "carros"
   ],
   "execution_count": 47,
   "outputs": [
    {
     "data": {
      "text/plain": "['Jetta Variant', 'Passat', 'Crossfox']"
     },
     "execution_count": 47,
     "metadata": {},
     "output_type": "execute_result"
    }
   ]
  },
  {
   "cell_type": "code",
   "metadata": {
    "id": "2LHiBn3-D0_2",
    "colab_type": "code",
    "colab": {
     "base_uri": "https://localhost:8080/",
     "height": 34
    },
    "outputId": "767fc4bb-863d-44ee-9453-22d5269d2e00",
    "pycharm": {
     "name": "#%%\n"
    }
   },
   "source": [
    "valores = [88078.64, 106161.94, 72832.16]\n",
    "valores"
   ],
   "execution_count": 48,
   "outputs": [
    {
     "data": {
      "text/plain": "[88078.64, 106161.94, 72832.16]"
     },
     "execution_count": 48,
     "metadata": {},
     "output_type": "execute_result"
    }
   ]
  },
  {
   "cell_type": "code",
   "metadata": {
    "id": "YxLAx_sqD0_4",
    "colab_type": "code",
    "colab": {
     "base_uri": "https://localhost:8080/",
     "height": 34
    },
    "outputId": "795f115a-8b09-4de2-92ea-1e85d0bb2e07",
    "pycharm": {
     "name": "#%%\n"
    }
   },
   "source": [
    "carros.index('Passat')"
   ],
   "execution_count": 49,
   "outputs": [
    {
     "data": {
      "text/plain": "1"
     },
     "execution_count": 49,
     "metadata": {},
     "output_type": "execute_result"
    }
   ]
  },
  {
   "cell_type": "code",
   "metadata": {
    "id": "WITNWExID0_7",
    "colab_type": "code",
    "colab": {
     "base_uri": "https://localhost:8080/",
     "height": 34
    },
    "outputId": "0ae513e3-f8be-48ad-dc15-7e7a38ac92ac",
    "pycharm": {
     "name": "#%%\n"
    }
   },
   "source": [
    "valores[carros.index('Passat')]"
   ],
   "execution_count": 50,
   "outputs": [
    {
     "data": {
      "text/plain": "106161.94"
     },
     "execution_count": 50,
     "metadata": {},
     "output_type": "execute_result"
    }
   ]
  },
  {
   "cell_type": "code",
   "metadata": {
    "id": "bHNqoDbTD0_8",
    "colab_type": "code",
    "colab": {
     "base_uri": "https://localhost:8080/",
     "height": 34
    },
    "outputId": "98c4ab89-6dd1-4a55-aa31-4ffd1aa368bc",
    "pycharm": {
     "name": "#%%\n"
    }
   },
   "source": [
    "dados = {'Jetta Variant': 88078.64, 'Passat': 106161.94, 'Crossfox': 72832.16}\n",
    "dados"
   ],
   "execution_count": 51,
   "outputs": [
    {
     "data": {
      "text/plain": "{'Jetta Variant': 88078.64, 'Passat': 106161.94, 'Crossfox': 72832.16}"
     },
     "execution_count": 51,
     "metadata": {},
     "output_type": "execute_result"
    }
   ]
  },
  {
   "cell_type": "code",
   "metadata": {
    "id": "4FyQgmcAD0_9",
    "colab_type": "code",
    "colab": {
     "base_uri": "https://localhost:8080/",
     "height": 34
    },
    "outputId": "d36204b1-dc90-491b-e20a-3abf1ad67892",
    "pycharm": {
     "name": "#%%\n"
    }
   },
   "source": [
    "type(dados)"
   ],
   "execution_count": 52,
   "outputs": [
    {
     "data": {
      "text/plain": "dict"
     },
     "execution_count": 52,
     "metadata": {},
     "output_type": "execute_result"
    }
   ]
  },
  {
   "cell_type": "markdown",
   "metadata": {
    "id": "PQg-MLkGD0_-",
    "colab_type": "text",
    "pycharm": {
     "name": "#%% md\n"
    }
   },
   "source": [
    "### Criando dicionários com *zip()*"
   ]
  },
  {
   "cell_type": "code",
   "metadata": {
    "id": "iB4Q_gbND0__",
    "colab_type": "code",
    "colab": {
     "base_uri": "https://localhost:8080/",
     "height": 34
    },
    "outputId": "3ee92b89-7f30-4d95-f09c-bc6d845ec5f4",
    "pycharm": {
     "name": "#%%\n"
    }
   },
   "source": [
    "list(zip(carros, valores))"
   ],
   "execution_count": 53,
   "outputs": [
    {
     "data": {
      "text/plain": "[('Jetta Variant', 88078.64), ('Passat', 106161.94), ('Crossfox', 72832.16)]"
     },
     "execution_count": 53,
     "metadata": {},
     "output_type": "execute_result"
    }
   ]
  },
  {
   "cell_type": "code",
   "metadata": {
    "id": "mIgZqdKKD1AA",
    "colab_type": "code",
    "colab": {
     "base_uri": "https://localhost:8080/",
     "height": 34
    },
    "outputId": "fc8ef268-3190-4461-a395-4902751d9ca6",
    "pycharm": {
     "name": "#%%\n"
    }
   },
   "source": [
    "dados = dict(zip(carros, valores))\n",
    "dados"
   ],
   "execution_count": 54,
   "outputs": [
    {
     "data": {
      "text/plain": "{'Jetta Variant': 88078.64, 'Passat': 106161.94, 'Crossfox': 72832.16}"
     },
     "execution_count": 54,
     "metadata": {},
     "output_type": "execute_result"
    }
   ]
  },
  {
   "cell_type": "markdown",
   "metadata": {
    "id": "KYeRqavFD1AD",
    "colab_type": "text",
    "pycharm": {
     "name": "#%% md\n"
    }
   },
   "source": [
    "# 3.2 Operações com dicionários"
   ]
  },
  {
   "cell_type": "code",
   "metadata": {
    "id": "1kWUVbM-nH_f",
    "colab_type": "code",
    "colab": {
     "base_uri": "https://localhost:8080/",
     "height": 34
    },
    "outputId": "1411143d-50f2-4d10-b116-bcd4157b39e7",
    "pycharm": {
     "name": "#%%\n"
    }
   },
   "source": [
    "dados = {'Jetta Variant': 88078.64, 'Passat': 106161.94, 'Crossfox': 72832.16}\n",
    "dados"
   ],
   "execution_count": 55,
   "outputs": [
    {
     "data": {
      "text/plain": "{'Jetta Variant': 88078.64, 'Passat': 106161.94, 'Crossfox': 72832.16}"
     },
     "execution_count": 55,
     "metadata": {},
     "output_type": "execute_result"
    }
   ]
  },
  {
   "cell_type": "markdown",
   "metadata": {
    "id": "KzmWbEltD1AD",
    "colab_type": "text",
    "pycharm": {
     "name": "#%% md\n"
    }
   },
   "source": [
    "## *dict[ key ]*\n",
    "\n",
    "Retorna o valor correspondente à chave (*key*) no dicionário."
   ]
  },
  {
   "cell_type": "code",
   "metadata": {
    "id": "hFFDz6wKD1AD",
    "colab_type": "code",
    "colab": {
     "base_uri": "https://localhost:8080/",
     "height": 34
    },
    "outputId": "105062c8-cc3f-44fd-f9c5-96a837019c86",
    "pycharm": {
     "name": "#%%\n"
    }
   },
   "source": [
    "dados['Passat']"
   ],
   "execution_count": 56,
   "outputs": [
    {
     "data": {
      "text/plain": "106161.94"
     },
     "execution_count": 56,
     "metadata": {},
     "output_type": "execute_result"
    }
   ]
  },
  {
   "cell_type": "markdown",
   "metadata": {
    "id": "SWlE6VTBD1AE",
    "colab_type": "text",
    "pycharm": {
     "name": "#%% md\n"
    }
   },
   "source": [
    "## *key in dict*\n",
    "\n",
    "Retorna **True** se a chave (*key*) for encontrada no dicionário."
   ]
  },
  {
   "cell_type": "code",
   "metadata": {
    "id": "Iy88SxBtD1AE",
    "colab_type": "code",
    "colab": {
     "base_uri": "https://localhost:8080/",
     "height": 34
    },
    "outputId": "59e503dc-6356-48cc-bfdd-3926e69cd635",
    "pycharm": {
     "name": "#%%\n"
    }
   },
   "source": [
    "'Passat' in dados"
   ],
   "execution_count": 57,
   "outputs": [
    {
     "data": {
      "text/plain": "True"
     },
     "execution_count": 57,
     "metadata": {},
     "output_type": "execute_result"
    }
   ]
  },
  {
   "cell_type": "code",
   "metadata": {
    "id": "Oma56NkAD1AF",
    "colab_type": "code",
    "colab": {
     "base_uri": "https://localhost:8080/",
     "height": 34
    },
    "outputId": "fabf5dbe-03c2-4572-a0de-538624930a06",
    "pycharm": {
     "name": "#%%\n"
    }
   },
   "source": [
    "'Fusca' in dados"
   ],
   "execution_count": 58,
   "outputs": [
    {
     "data": {
      "text/plain": "False"
     },
     "execution_count": 58,
     "metadata": {},
     "output_type": "execute_result"
    }
   ]
  },
  {
   "cell_type": "code",
   "metadata": {
    "id": "yS2U-_8gD1AG",
    "colab_type": "code",
    "colab": {
     "base_uri": "https://localhost:8080/",
     "height": 34
    },
    "outputId": "44e4dec6-fa4d-4b6a-a734-150524f5681b",
    "pycharm": {
     "name": "#%%\n"
    }
   },
   "source": [
    "'Fusca' not in dados"
   ],
   "execution_count": 59,
   "outputs": [
    {
     "data": {
      "text/plain": "True"
     },
     "execution_count": 59,
     "metadata": {},
     "output_type": "execute_result"
    }
   ]
  },
  {
   "cell_type": "markdown",
   "metadata": {
    "id": "oWbWyDd0D1AI",
    "colab_type": "text",
    "pycharm": {
     "name": "#%% md\n"
    }
   },
   "source": [
    "## *len(dict)*\n",
    "\n",
    "Retorna o número de itens do dicionário."
   ]
  },
  {
   "cell_type": "code",
   "metadata": {
    "id": "k08YkCc1D1AJ",
    "colab_type": "code",
    "colab": {
     "base_uri": "https://localhost:8080/",
     "height": 34
    },
    "outputId": "bf4d2458-964d-4172-95bf-6832f88e8692",
    "pycharm": {
     "name": "#%%\n"
    }
   },
   "source": [
    "len(dados)"
   ],
   "execution_count": 60,
   "outputs": [
    {
     "data": {
      "text/plain": "3"
     },
     "execution_count": 60,
     "metadata": {},
     "output_type": "execute_result"
    }
   ]
  },
  {
   "cell_type": "markdown",
   "metadata": {
    "id": "yYNqIHJBD1AK",
    "colab_type": "text",
    "pycharm": {
     "name": "#%% md\n"
    }
   },
   "source": [
    "## *dict[ key ] = value*\n",
    "\n",
    "Inclui um item ao dicionário."
   ]
  },
  {
   "cell_type": "code",
   "metadata": {
    "id": "5jj3i52bD1AK",
    "colab_type": "code",
    "colab": {},
    "pycharm": {
     "name": "#%%\n"
    }
   },
   "source": [
    "dados['DS5'] = 124549.07"
   ],
   "execution_count": 61,
   "outputs": []
  },
  {
   "cell_type": "code",
   "metadata": {
    "id": "y6rso5hLD1AL",
    "colab_type": "code",
    "colab": {
     "base_uri": "https://localhost:8080/",
     "height": 85
    },
    "outputId": "2711dfc6-98eb-4d25-e52a-5eb02fd07be6",
    "pycharm": {
     "name": "#%%\n"
    }
   },
   "source": [
    "dados"
   ],
   "execution_count": 62,
   "outputs": [
    {
     "data": {
      "text/plain": "{'Jetta Variant': 88078.64,\n 'Passat': 106161.94,\n 'Crossfox': 72832.16,\n 'DS5': 124549.07}"
     },
     "execution_count": 62,
     "metadata": {},
     "output_type": "execute_result"
    }
   ]
  },
  {
   "cell_type": "markdown",
   "metadata": {
    "id": "_z0JySuqD1AL",
    "colab_type": "text",
    "pycharm": {
     "name": "#%% md\n"
    }
   },
   "source": [
    "## *del dict[ key ]*\n",
    "\n",
    "Remove o item de chave (*key*) do dicionário."
   ]
  },
  {
   "cell_type": "code",
   "metadata": {
    "id": "PPfh6sfID1AM",
    "colab_type": "code",
    "colab": {
     "base_uri": "https://localhost:8080/",
     "height": 85
    },
    "outputId": "e5a147b0-8913-4007-fe77-06db686d2cbb",
    "pycharm": {
     "name": "#%%\n"
    }
   },
   "source": [
    "dados"
   ],
   "execution_count": 63,
   "outputs": [
    {
     "data": {
      "text/plain": "{'Jetta Variant': 88078.64,\n 'Passat': 106161.94,\n 'Crossfox': 72832.16,\n 'DS5': 124549.07}"
     },
     "execution_count": 63,
     "metadata": {},
     "output_type": "execute_result"
    }
   ]
  },
  {
   "cell_type": "code",
   "metadata": {
    "id": "BtjGpXtGD1AN",
    "colab_type": "code",
    "colab": {
     "base_uri": "https://localhost:8080/",
     "height": 34
    },
    "outputId": "810618d8-412f-4d26-d846-29bd15dd6328",
    "pycharm": {
     "name": "#%%\n"
    }
   },
   "source": [
    "del dados['Passat']\n",
    "dados"
   ],
   "execution_count": 64,
   "outputs": [
    {
     "data": {
      "text/plain": "{'Jetta Variant': 88078.64, 'Crossfox': 72832.16, 'DS5': 124549.07}"
     },
     "execution_count": 64,
     "metadata": {},
     "output_type": "execute_result"
    }
   ]
  },
  {
   "cell_type": "markdown",
   "metadata": {
    "id": "FodJVx5sD1AP",
    "colab_type": "text",
    "pycharm": {
     "name": "#%% md\n"
    }
   },
   "source": [
    "# 3.3 Métodos de dicionários\n",
    "\n",
    "https://docs.python.org/3.6/tutorial/datastructures.html#dictionaries\n",
    "\n",
    "https://docs.python.org/3.6/library/stdtypes.html#typesmapping"
   ]
  },
  {
   "cell_type": "markdown",
   "metadata": {
    "id": "7pqdPOkYD1AP",
    "colab_type": "text",
    "pycharm": {
     "name": "#%% md\n"
    }
   },
   "source": [
    "## *dict.update()*\n",
    "\n",
    "Atualiza o dicionário."
   ]
  },
  {
   "cell_type": "code",
   "metadata": {
    "id": "V13UMIYirG-5",
    "colab_type": "code",
    "colab": {
     "base_uri": "https://localhost:8080/",
     "height": 34
    },
    "outputId": "bcc3ccaf-daa4-48c7-af66-e3105819fb2a",
    "pycharm": {
     "name": "#%%\n"
    }
   },
   "source": [
    "dados"
   ],
   "execution_count": 65,
   "outputs": [
    {
     "data": {
      "text/plain": "{'Jetta Variant': 88078.64, 'Crossfox': 72832.16, 'DS5': 124549.07}"
     },
     "execution_count": 65,
     "metadata": {},
     "output_type": "execute_result"
    }
   ]
  },
  {
   "cell_type": "code",
   "metadata": {
    "id": "DUySYxKQD1AQ",
    "colab_type": "code",
    "colab": {
     "base_uri": "https://localhost:8080/",
     "height": 85
    },
    "outputId": "c2cb498a-ec50-4823-bb38-3ce2a9b6206d",
    "pycharm": {
     "name": "#%%\n"
    }
   },
   "source": [
    "dados.update({'Passat': 106161.94})\n",
    "dados"
   ],
   "execution_count": 66,
   "outputs": [
    {
     "data": {
      "text/plain": "{'Jetta Variant': 88078.64,\n 'Crossfox': 72832.16,\n 'DS5': 124549.07,\n 'Passat': 106161.94}"
     },
     "execution_count": 66,
     "metadata": {},
     "output_type": "execute_result"
    }
   ]
  },
  {
   "cell_type": "code",
   "metadata": {
    "id": "DLsqp71cD1AR",
    "colab_type": "code",
    "colab": {
     "base_uri": "https://localhost:8080/",
     "height": 102
    },
    "outputId": "62d61e88-b5c0-43c5-c1ec-21773769fdea",
    "pycharm": {
     "name": "#%%\n"
    }
   },
   "source": [
    "dados.update({'Passat': 106161.95, 'Fusca': 150000})\n",
    "dados"
   ],
   "execution_count": 67,
   "outputs": [
    {
     "data": {
      "text/plain": "{'Jetta Variant': 88078.64,\n 'Crossfox': 72832.16,\n 'DS5': 124549.07,\n 'Passat': 106161.95,\n 'Fusca': 150000}"
     },
     "execution_count": 67,
     "metadata": {},
     "output_type": "execute_result"
    }
   ]
  },
  {
   "cell_type": "markdown",
   "metadata": {
    "id": "JLs5c0DeD1AR",
    "colab_type": "text",
    "pycharm": {
     "name": "#%% md\n"
    }
   },
   "source": [
    "## *dict.copy()*\n",
    "\n",
    "Cria uma cópia do dicionário."
   ]
  },
  {
   "cell_type": "code",
   "metadata": {
    "id": "X9F7OB3eD1AS",
    "colab_type": "code",
    "colab": {},
    "pycharm": {
     "name": "#%%\n"
    }
   },
   "source": [
    "dadosCopy = dados.copy()"
   ],
   "execution_count": 68,
   "outputs": []
  },
  {
   "cell_type": "code",
   "metadata": {
    "id": "v0rL0bveD1AS",
    "colab_type": "code",
    "colab": {
     "base_uri": "https://localhost:8080/",
     "height": 102
    },
    "outputId": "48ff7e36-f181-42e9-b435-415d174a210c",
    "pycharm": {
     "name": "#%%\n"
    }
   },
   "source": [
    "dadosCopy"
   ],
   "execution_count": 69,
   "outputs": [
    {
     "data": {
      "text/plain": "{'Jetta Variant': 88078.64,\n 'Crossfox': 72832.16,\n 'DS5': 124549.07,\n 'Passat': 106161.95,\n 'Fusca': 150000}"
     },
     "execution_count": 69,
     "metadata": {},
     "output_type": "execute_result"
    }
   ]
  },
  {
   "cell_type": "code",
   "metadata": {
    "id": "M-abRGGrD1AT",
    "colab_type": "code",
    "colab": {
     "base_uri": "https://localhost:8080/",
     "height": 85
    },
    "outputId": "9cca0f7d-cdab-4c3f-e86c-942a34face90",
    "pycharm": {
     "name": "#%%\n"
    }
   },
   "source": [
    "del dadosCopy['Fusca']\n",
    "dadosCopy"
   ],
   "execution_count": 70,
   "outputs": [
    {
     "data": {
      "text/plain": "{'Jetta Variant': 88078.64,\n 'Crossfox': 72832.16,\n 'DS5': 124549.07,\n 'Passat': 106161.95}"
     },
     "execution_count": 70,
     "metadata": {},
     "output_type": "execute_result"
    }
   ]
  },
  {
   "cell_type": "code",
   "metadata": {
    "id": "ETBD0TkND1AU",
    "colab_type": "code",
    "colab": {
     "base_uri": "https://localhost:8080/",
     "height": 102
    },
    "outputId": "9df3ef6b-6d61-46e1-c5b9-48317fd922d8",
    "pycharm": {
     "name": "#%%\n"
    }
   },
   "source": [
    "dados"
   ],
   "execution_count": 71,
   "outputs": [
    {
     "data": {
      "text/plain": "{'Jetta Variant': 88078.64,\n 'Crossfox': 72832.16,\n 'DS5': 124549.07,\n 'Passat': 106161.95,\n 'Fusca': 150000}"
     },
     "execution_count": 71,
     "metadata": {},
     "output_type": "execute_result"
    }
   ]
  },
  {
   "cell_type": "markdown",
   "metadata": {
    "id": "mNODkmHCD1AV",
    "colab_type": "text",
    "pycharm": {
     "name": "#%% md\n"
    }
   },
   "source": [
    "## *dict.pop(key[, default ])*\n",
    "\n",
    "Se a chave for encontrada no dicionário, o item é removido e seu valor é retornado. Caso contrário, o valor especificado como *default* é retornado. Se o valor *default* não for fornecido e a chave não for encontrada no dicionário um erro será gerado."
   ]
  },
  {
   "cell_type": "code",
   "metadata": {
    "id": "_4QEPwScD1AW",
    "colab_type": "code",
    "colab": {
     "base_uri": "https://localhost:8080/",
     "height": 85
    },
    "outputId": "078fe98f-bc43-435e-cf6e-fd38bcab3142",
    "pycharm": {
     "name": "#%%\n"
    }
   },
   "source": [
    "dadosCopy"
   ],
   "execution_count": 72,
   "outputs": [
    {
     "data": {
      "text/plain": "{'Jetta Variant': 88078.64,\n 'Crossfox': 72832.16,\n 'DS5': 124549.07,\n 'Passat': 106161.95}"
     },
     "execution_count": 72,
     "metadata": {},
     "output_type": "execute_result"
    }
   ]
  },
  {
   "cell_type": "code",
   "metadata": {
    "id": "Hjh0MuymD1AX",
    "colab_type": "code",
    "colab": {
     "base_uri": "https://localhost:8080/",
     "height": 34
    },
    "outputId": "363df00d-601a-4dac-c7a3-ee32f69f6aaf",
    "pycharm": {
     "name": "#%%\n"
    }
   },
   "source": [
    "dadosCopy.pop('Passat')"
   ],
   "execution_count": 73,
   "outputs": [
    {
     "data": {
      "text/plain": "106161.95"
     },
     "execution_count": 73,
     "metadata": {},
     "output_type": "execute_result"
    }
   ]
  },
  {
   "cell_type": "code",
   "metadata": {
    "id": "f51rKjkuD1AX",
    "colab_type": "code",
    "colab": {
     "base_uri": "https://localhost:8080/",
     "height": 34
    },
    "outputId": "b0ff1343-2edb-4d29-ad57-20adc43447be",
    "pycharm": {
     "name": "#%%\n"
    }
   },
   "source": [
    "dadosCopy"
   ],
   "execution_count": 74,
   "outputs": [
    {
     "data": {
      "text/plain": "{'Jetta Variant': 88078.64, 'Crossfox': 72832.16, 'DS5': 124549.07}"
     },
     "execution_count": 74,
     "metadata": {},
     "output_type": "execute_result"
    }
   ]
  },
  {
   "cell_type": "code",
   "metadata": {
    "id": "Ah4sZ7axD1AZ",
    "colab_type": "code",
    "colab": {},
    "pycharm": {
     "name": "#%%\n"
    }
   },
   "source": [
    "# dadosCopy.pop('Passat')"
   ],
   "execution_count": 75,
   "outputs": []
  },
  {
   "cell_type": "code",
   "metadata": {
    "id": "SJATRY8RD1Aa",
    "colab_type": "code",
    "colab": {
     "base_uri": "https://localhost:8080/",
     "height": 34
    },
    "outputId": "660fe386-1b2b-4cba-a41a-2287913b4f34",
    "pycharm": {
     "name": "#%%\n"
    }
   },
   "source": [
    "dadosCopy.pop('Passat', 'Chave não encontrada')"
   ],
   "execution_count": 76,
   "outputs": [
    {
     "data": {
      "text/plain": "'Chave não encontrada'"
     },
     "execution_count": 76,
     "metadata": {},
     "output_type": "execute_result"
    }
   ]
  },
  {
   "cell_type": "code",
   "metadata": {
    "id": "V36wHdzmD1Ab",
    "colab_type": "code",
    "colab": {
     "base_uri": "https://localhost:8080/",
     "height": 34
    },
    "outputId": "237bf996-0643-4969-d105-4e702529c53a",
    "pycharm": {
     "name": "#%%\n"
    }
   },
   "source": [
    "dadosCopy.pop('DS5', 'Chave não encontrada')"
   ],
   "execution_count": 77,
   "outputs": [
    {
     "data": {
      "text/plain": "124549.07"
     },
     "execution_count": 77,
     "metadata": {},
     "output_type": "execute_result"
    }
   ]
  },
  {
   "cell_type": "code",
   "metadata": {
    "id": "LJ0lQIrdD1Ac",
    "colab_type": "code",
    "colab": {
     "base_uri": "https://localhost:8080/",
     "height": 34
    },
    "outputId": "4e223dcd-cc09-4e64-f1d6-7da83288f9f6",
    "pycharm": {
     "name": "#%%\n"
    }
   },
   "source": [
    "dadosCopy"
   ],
   "execution_count": 78,
   "outputs": [
    {
     "data": {
      "text/plain": "{'Jetta Variant': 88078.64, 'Crossfox': 72832.16}"
     },
     "execution_count": 78,
     "metadata": {},
     "output_type": "execute_result"
    }
   ]
  },
  {
   "cell_type": "markdown",
   "metadata": {
    "id": "Q5J0R7d3D1Ag",
    "colab_type": "text",
    "pycharm": {
     "name": "#%% md\n"
    }
   },
   "source": [
    "## *dict.clear()*\n",
    "\n",
    "Remove todos os itens do dicionário."
   ]
  },
  {
   "cell_type": "code",
   "metadata": {
    "id": "AvkP_8mND1Ag",
    "colab_type": "code",
    "colab": {},
    "pycharm": {
     "name": "#%%\n"
    }
   },
   "source": [
    "dadosCopy.clear()"
   ],
   "execution_count": 79,
   "outputs": []
  },
  {
   "cell_type": "code",
   "metadata": {
    "id": "S69pMYboD1Ah",
    "colab_type": "code",
    "colab": {
     "base_uri": "https://localhost:8080/",
     "height": 34
    },
    "outputId": "a3d8a765-69df-4dd6-8b84-7f5512bb1fc7",
    "pycharm": {
     "name": "#%%\n"
    }
   },
   "source": [
    "dadosCopy"
   ],
   "execution_count": 80,
   "outputs": [
    {
     "data": {
      "text/plain": "{}"
     },
     "execution_count": 80,
     "metadata": {},
     "output_type": "execute_result"
    }
   ]
  },
  {
   "cell_type": "markdown",
   "metadata": {
    "id": "QhoSRfPsD1Ai",
    "colab_type": "text",
    "pycharm": {
     "name": "#%% md\n"
    }
   },
   "source": [
    "# 3.4 Iterando em dicionários"
   ]
  },
  {
   "cell_type": "code",
   "metadata": {
    "id": "XC-gb-tywDFI",
    "colab_type": "code",
    "colab": {
     "base_uri": "https://localhost:8080/",
     "height": 102
    },
    "outputId": "1be2d866-4c69-432f-cdfd-d57e133ba65c",
    "pycharm": {
     "name": "#%%\n"
    }
   },
   "source": [
    "dados = {'Crossfox': 72832.16, 'DS5': 124549.07, 'Fusca': 150000, 'Jetta Variant': 88078.64, 'Passat': 106161.95}\n",
    "dados"
   ],
   "execution_count": 81,
   "outputs": [
    {
     "data": {
      "text/plain": "{'Crossfox': 72832.16,\n 'DS5': 124549.07,\n 'Fusca': 150000,\n 'Jetta Variant': 88078.64,\n 'Passat': 106161.95}"
     },
     "execution_count": 81,
     "metadata": {},
     "output_type": "execute_result"
    }
   ]
  },
  {
   "cell_type": "markdown",
   "metadata": {
    "id": "E-agaqakD1Ai",
    "colab_type": "text",
    "pycharm": {
     "name": "#%% md\n"
    }
   },
   "source": [
    "## *dict.keys()*\n",
    "\n",
    "Retorna uma lista contendo as chaves (*keys*) do dicionário."
   ]
  },
  {
   "cell_type": "code",
   "metadata": {
    "id": "qFADEYmBD1Aj",
    "colab_type": "code",
    "colab": {
     "base_uri": "https://localhost:8080/",
     "height": 34
    },
    "outputId": "d47048dd-c104-43f6-8206-8aa4e4465b6c",
    "pycharm": {
     "name": "#%%\n"
    }
   },
   "source": [
    "dados.keys()"
   ],
   "execution_count": 82,
   "outputs": [
    {
     "data": {
      "text/plain": "dict_keys(['Crossfox', 'DS5', 'Fusca', 'Jetta Variant', 'Passat'])"
     },
     "execution_count": 82,
     "metadata": {},
     "output_type": "execute_result"
    }
   ]
  },
  {
   "cell_type": "code",
   "metadata": {
    "id": "niwh9AgDD1Aj",
    "colab_type": "code",
    "colab": {
     "base_uri": "https://localhost:8080/",
     "height": 102
    },
    "outputId": "e73602b8-1bd4-4493-c3f4-55fa46b5d4f5",
    "pycharm": {
     "name": "#%%\n"
    }
   },
   "source": [
    "for key in dados.keys():\n",
    "  print(dados[key])"
   ],
   "execution_count": 83,
   "outputs": [
    {
     "name": "stdout",
     "output_type": "stream",
     "text": [
      "72832.16\n",
      "124549.07\n",
      "150000\n",
      "88078.64\n",
      "106161.95\n"
     ]
    }
   ]
  },
  {
   "cell_type": "markdown",
   "metadata": {
    "id": "qFj6Cc7dD1Ak",
    "colab_type": "text",
    "pycharm": {
     "name": "#%% md\n"
    }
   },
   "source": [
    "## *dict.values()*\n",
    "\n",
    "Retorna uma lista com todos os valores (*values*) do dicionário."
   ]
  },
  {
   "cell_type": "code",
   "metadata": {
    "id": "nfpLxrQVD1Al",
    "colab_type": "code",
    "colab": {
     "base_uri": "https://localhost:8080/",
     "height": 34
    },
    "outputId": "9ef84206-62bb-45c2-c9ab-e3c6b7845d1a",
    "pycharm": {
     "name": "#%%\n"
    }
   },
   "source": [
    "dados.values()"
   ],
   "execution_count": 84,
   "outputs": [
    {
     "data": {
      "text/plain": "dict_values([72832.16, 124549.07, 150000, 88078.64, 106161.95])"
     },
     "execution_count": 84,
     "metadata": {},
     "output_type": "execute_result"
    }
   ]
  },
  {
   "cell_type": "markdown",
   "metadata": {
    "id": "-NGRwX0AD1Al",
    "colab_type": "text",
    "pycharm": {
     "name": "#%% md\n"
    }
   },
   "source": [
    "## *dict.items()*\n",
    "\n",
    "Retorna uma lista contendo uma tupla para cada par chave-valor (*key-value*) do dicionário."
   ]
  },
  {
   "cell_type": "code",
   "metadata": {
    "id": "Q2I9_6YvD1Am",
    "colab_type": "code",
    "colab": {
     "base_uri": "https://localhost:8080/",
     "height": 34
    },
    "outputId": "9032a2c1-3b56-4920-e6f8-676eea73033e",
    "pycharm": {
     "name": "#%%\n"
    }
   },
   "source": [
    "dados.items()"
   ],
   "execution_count": 85,
   "outputs": [
    {
     "data": {
      "text/plain": "dict_items([('Crossfox', 72832.16), ('DS5', 124549.07), ('Fusca', 150000), ('Jetta Variant', 88078.64), ('Passat', 106161.95)])"
     },
     "execution_count": 85,
     "metadata": {},
     "output_type": "execute_result"
    }
   ]
  },
  {
   "cell_type": "code",
   "metadata": {
    "id": "0j41ZqgQD1Am",
    "colab_type": "code",
    "colab": {
     "base_uri": "https://localhost:8080/",
     "height": 102
    },
    "outputId": "2b73a883-bb59-4d6c-b533-2669bf5c0501",
    "pycharm": {
     "name": "#%%\n"
    }
   },
   "source": [
    "for item in dados.items():\n",
    "  print(item)"
   ],
   "execution_count": 86,
   "outputs": [
    {
     "name": "stdout",
     "output_type": "stream",
     "text": [
      "('Crossfox', 72832.16)\n",
      "('DS5', 124549.07)\n",
      "('Fusca', 150000)\n",
      "('Jetta Variant', 88078.64)\n",
      "('Passat', 106161.95)\n"
     ]
    }
   ]
  },
  {
   "cell_type": "code",
   "metadata": {
    "id": "OVY9rIwFD1An",
    "colab_type": "code",
    "colab": {
     "base_uri": "https://localhost:8080/",
     "height": 102
    },
    "outputId": "1d72f3f6-fdbd-47c7-a561-1effe9df6da3",
    "pycharm": {
     "name": "#%%\n"
    }
   },
   "source": [
    "for key, value in dados.items():\n",
    "  print(key, value)\n"
   ],
   "execution_count": 87,
   "outputs": [
    {
     "name": "stdout",
     "output_type": "stream",
     "text": [
      "Crossfox 72832.16\n",
      "DS5 124549.07\n",
      "Fusca 150000\n",
      "Jetta Variant 88078.64\n",
      "Passat 106161.95\n"
     ]
    }
   ]
  },
  {
   "cell_type": "code",
   "metadata": {
    "id": "ma2Ol8vcD1Ap",
    "colab_type": "code",
    "colab": {
     "base_uri": "https://localhost:8080/",
     "height": 68
    },
    "outputId": "c07681bb-3edb-4090-bbb7-e063285babda",
    "pycharm": {
     "name": "#%%\n"
    }
   },
   "source": [
    "for key, value in dados.items():\n",
    "  if(value > 100000):\n",
    "    print(key)"
   ],
   "execution_count": 88,
   "outputs": [
    {
     "name": "stdout",
     "output_type": "stream",
     "text": [
      "DS5\n",
      "Fusca\n",
      "Passat\n"
     ]
    }
   ]
  },
  {
   "cell_type": "markdown",
   "metadata": {
    "id": "-q3AlSg3D1Aq",
    "colab_type": "text",
    "pycharm": {
     "name": "#%% md\n"
    }
   },
   "source": [
    "# <font color=green> 4. FUNÇÕES\n",
    "---\n",
    "    \n",
    "Funções são unidades de código reutilizáveis que realizam uma tarefa específica, podem receber alguma entrada e também podem retornar alguma resultado."
   ]
  },
  {
   "cell_type": "markdown",
   "metadata": {
    "id": "5CfEcU58D1Aq",
    "colab_type": "text",
    "pycharm": {
     "name": "#%% md\n"
    }
   },
   "source": [
    "# 4.1 Built-in function\n",
    "\n",
    "A linguagem Python possui várias funções integradas que estão sempre acessíveis. Algumas já utilizamos em nosso treinamento: type(), print(), zip(), len(), set() etc.\n",
    "\n",
    "https://docs.python.org/3.6/library/functions.html"
   ]
  },
  {
   "cell_type": "code",
   "metadata": {
    "id": "DP7cmY7xD1Aq",
    "colab_type": "code",
    "colab": {
     "base_uri": "https://localhost:8080/",
     "height": 34
    },
    "outputId": "ab094fdd-5e11-4e82-da79-8dda501e2c88",
    "pycharm": {
     "name": "#%%\n"
    }
   },
   "source": [
    "dados = {'Jetta Variant': 88078.64, 'Passat': 106161.94, 'Crossfox': 72832.16}\n",
    "dados"
   ],
   "execution_count": 89,
   "outputs": [
    {
     "data": {
      "text/plain": "{'Jetta Variant': 88078.64, 'Passat': 106161.94, 'Crossfox': 72832.16}"
     },
     "execution_count": 89,
     "metadata": {},
     "output_type": "execute_result"
    }
   ]
  },
  {
   "cell_type": "code",
   "metadata": {
    "id": "5zAcGSCbD1Ar",
    "colab_type": "code",
    "colab": {
     "base_uri": "https://localhost:8080/",
     "height": 34
    },
    "outputId": "bd4bdaef-94d0-4e95-f1ef-d297cbcb4de5",
    "pycharm": {
     "name": "#%%\n"
    }
   },
   "source": [
    "valores = []\n",
    "for valor in dados.values():\n",
    "  valores.append(valor)\n",
    "valores"
   ],
   "execution_count": 90,
   "outputs": [
    {
     "data": {
      "text/plain": "[88078.64, 106161.94, 72832.16]"
     },
     "execution_count": 90,
     "metadata": {},
     "output_type": "execute_result"
    }
   ]
  },
  {
   "cell_type": "code",
   "metadata": {
    "id": "zG9_jU_1D1At",
    "colab_type": "code",
    "colab": {
     "base_uri": "https://localhost:8080/",
     "height": 34
    },
    "outputId": "e336bcc5-282b-45bf-9506-66b2b7115e17",
    "pycharm": {
     "name": "#%%\n"
    }
   },
   "source": [
    "soma = 0\n",
    "for valor in dados.values():\n",
    "  soma += valor\n",
    "soma"
   ],
   "execution_count": 91,
   "outputs": [
    {
     "data": {
      "text/plain": "267072.74"
     },
     "execution_count": 91,
     "metadata": {},
     "output_type": "execute_result"
    }
   ]
  },
  {
   "cell_type": "code",
   "metadata": {
    "id": "jn0O3uXZD1Au",
    "colab_type": "code",
    "colab": {
     "base_uri": "https://localhost:8080/",
     "height": 34
    },
    "outputId": "7cfb5a10-bd0d-4ae8-da72-03d6ee7d3247",
    "pycharm": {
     "name": "#%%\n"
    }
   },
   "source": [
    "list(dados.values())"
   ],
   "execution_count": 92,
   "outputs": [
    {
     "data": {
      "text/plain": "[88078.64, 106161.94, 72832.16]"
     },
     "execution_count": 92,
     "metadata": {},
     "output_type": "execute_result"
    }
   ]
  },
  {
   "cell_type": "code",
   "metadata": {
    "id": "lnUjKVnoD1Aw",
    "colab_type": "code",
    "colab": {
     "base_uri": "https://localhost:8080/",
     "height": 34
    },
    "outputId": "0b93840f-ac66-4466-9852-be43d1ad463e",
    "pycharm": {
     "name": "#%%\n"
    }
   },
   "source": [
    "sum(dados.values())"
   ],
   "execution_count": 93,
   "outputs": [
    {
     "data": {
      "text/plain": "267072.74"
     },
     "execution_count": 93,
     "metadata": {},
     "output_type": "execute_result"
    }
   ]
  },
  {
   "cell_type": "code",
   "metadata": {
    "scrolled": false,
    "id": "WdEuYXe2D1Ay",
    "colab_type": "code",
    "colab": {
     "base_uri": "https://localhost:8080/",
     "height": 221
    },
    "outputId": "a8eed4c9-ef50-4a5a-e2f9-b57d40f3b287",
    "pycharm": {
     "name": "#%%\n"
    }
   },
   "source": [
    "help(print)"
   ],
   "execution_count": 94,
   "outputs": [
    {
     "name": "stdout",
     "output_type": "stream",
     "text": [
      "Help on built-in function print in module builtins:\n",
      "\n",
      "print(...)\n",
      "    print(value, ..., sep=' ', end='\\n', file=sys.stdout, flush=False)\n",
      "    \n",
      "    Prints the values to a stream, or to sys.stdout by default.\n",
      "    Optional keyword arguments:\n",
      "    file:  a file-like object (stream); defaults to the current sys.stdout.\n",
      "    sep:   string inserted between values, default a space.\n",
      "    end:   string appended after the last value, default a newline.\n",
      "    flush: whether to forcibly flush the stream.\n",
      "\n"
     ]
    }
   ]
  },
  {
   "cell_type": "code",
   "metadata": {
    "id": "hIA29O3tD1Az",
    "colab_type": "code",
    "colab": {},
    "pycharm": {
     "name": "#%%\n"
    }
   },
   "source": [
    "print?"
   ],
   "execution_count": 95,
   "outputs": []
  },
  {
   "cell_type": "markdown",
   "metadata": {
    "id": "6w62Sl5ZD1A0",
    "colab_type": "text",
    "pycharm": {
     "name": "#%% md\n"
    }
   },
   "source": [
    "# 4.2 Definindo funções sem e com parâmetros"
   ]
  },
  {
   "cell_type": "markdown",
   "metadata": {
    "id": "OADZiBP2D1A0",
    "colab_type": "text",
    "pycharm": {
     "name": "#%% md\n"
    }
   },
   "source": [
    "### Funções sem parâmetros\n",
    "\n",
    "#### Formato padrão\n",
    "\n",
    "```\n",
    "def <nome>():\n",
    "    <instruções>\n",
    "```"
   ]
  },
  {
   "cell_type": "code",
   "metadata": {
    "id": "uCkplEpQD1A0",
    "colab_type": "code",
    "colab": {},
    "pycharm": {
     "name": "#%%\n"
    }
   },
   "source": [
    "def media():\n",
    "  valor = (1 + 2 + 3) / 3\n",
    "  print(valor)"
   ],
   "execution_count": 96,
   "outputs": []
  },
  {
   "cell_type": "code",
   "metadata": {
    "id": "fOCEGq5VD1A1",
    "colab_type": "code",
    "colab": {
     "base_uri": "https://localhost:8080/",
     "height": 34
    },
    "outputId": "61615e5c-1490-4876-c94d-8eb905891b5d",
    "pycharm": {
     "name": "#%%\n"
    }
   },
   "source": [
    "media()"
   ],
   "execution_count": 97,
   "outputs": [
    {
     "name": "stdout",
     "output_type": "stream",
     "text": [
      "2.0\n"
     ]
    }
   ]
  },
  {
   "cell_type": "markdown",
   "metadata": {
    "id": "PwSlYSVAD1A2",
    "colab_type": "text",
    "pycharm": {
     "name": "#%% md\n"
    }
   },
   "source": [
    "### Funções com parâmetros\n",
    "\n",
    "#### Formato padrão\n",
    "\n",
    "```\n",
    "def <nome>(<param_1>, <param_2>, ..., <param_n>):\n",
    "    <instruções>\n",
    "```"
   ]
  },
  {
   "cell_type": "code",
   "metadata": {
    "id": "A3YnBUduD1A3",
    "colab_type": "code",
    "colab": {},
    "pycharm": {
     "name": "#%%\n"
    }
   },
   "source": [
    "def media(number_1, number_2, number_3):\n",
    "  valor = (number_1 + number_2 + number_3) / 3\n",
    "  print(valor)"
   ],
   "execution_count": 98,
   "outputs": []
  },
  {
   "cell_type": "code",
   "metadata": {
    "id": "rGUZbRERD1A3",
    "colab_type": "code",
    "colab": {
     "base_uri": "https://localhost:8080/",
     "height": 34
    },
    "outputId": "08251fd2-5d77-4bca-f611-d585e1246b16",
    "pycharm": {
     "name": "#%%\n"
    }
   },
   "source": [
    "media(1, 2, 3)"
   ],
   "execution_count": 99,
   "outputs": [
    {
     "name": "stdout",
     "output_type": "stream",
     "text": [
      "2.0\n"
     ]
    }
   ]
  },
  {
   "cell_type": "code",
   "metadata": {
    "id": "B9WDlRE7D1A5",
    "colab_type": "code",
    "colab": {
     "base_uri": "https://localhost:8080/",
     "height": 34
    },
    "outputId": "49bd30ad-5659-466d-8170-d41570781283",
    "pycharm": {
     "name": "#%%\n"
    }
   },
   "source": [
    "media(23, 45, 67)"
   ],
   "execution_count": 100,
   "outputs": [
    {
     "name": "stdout",
     "output_type": "stream",
     "text": [
      "45.0\n"
     ]
    }
   ]
  },
  {
   "cell_type": "code",
   "metadata": {
    "id": "1HAy8OK_D1A6",
    "colab_type": "code",
    "colab": {},
    "pycharm": {
     "name": "#%%\n"
    }
   },
   "source": [
    "def media(lista):\n",
    "  valor = sum(lista) / len(lista)\n",
    "  print(valor)"
   ],
   "execution_count": 101,
   "outputs": []
  },
  {
   "cell_type": "code",
   "metadata": {
    "id": "_CDa4oOfD1A6",
    "colab_type": "code",
    "colab": {
     "base_uri": "https://localhost:8080/",
     "height": 34
    },
    "outputId": "2b43b210-6e59-4fa6-b139-b2312d150ffc",
    "pycharm": {
     "name": "#%%\n"
    }
   },
   "source": [
    "resultado = media([1, 2, 3, 4, 5, 6, 7, 8, 9])"
   ],
   "execution_count": 102,
   "outputs": [
    {
     "name": "stdout",
     "output_type": "stream",
     "text": [
      "5.0\n"
     ]
    }
   ]
  },
  {
   "cell_type": "code",
   "metadata": {
    "id": "xH-mxqYAD1A8",
    "colab_type": "code",
    "colab": {},
    "pycharm": {
     "name": "#%%\n"
    }
   },
   "source": [
    "resultado"
   ],
   "execution_count": 103,
   "outputs": []
  },
  {
   "cell_type": "code",
   "metadata": {
    "id": "WXXC_UidD1A8",
    "colab_type": "code",
    "colab": {
     "base_uri": "https://localhost:8080/",
     "height": 34
    },
    "outputId": "4bc91454-c5c0-46f2-ff8a-d98f1480e464",
    "pycharm": {
     "name": "#%%\n"
    }
   },
   "source": [
    "type(resultado)"
   ],
   "execution_count": 104,
   "outputs": [
    {
     "data": {
      "text/plain": "NoneType"
     },
     "execution_count": 104,
     "metadata": {},
     "output_type": "execute_result"
    }
   ]
  },
  {
   "cell_type": "markdown",
   "metadata": {
    "id": "8zNYrmFbD1A9",
    "colab_type": "text",
    "pycharm": {
     "name": "#%% md\n"
    }
   },
   "source": [
    "# 4.3 Definindo funções que retornam valores"
   ]
  },
  {
   "cell_type": "markdown",
   "metadata": {
    "id": "J44K-dMOD1A9",
    "colab_type": "text",
    "pycharm": {
     "name": "#%% md\n"
    }
   },
   "source": [
    "### Funções que retornam um valor\n",
    "\n",
    "#### Formato padrão\n",
    "\n",
    "```\n",
    "def <nome>(<param_1>, <param_2>, ..., <param_n>):\n",
    "    <instruções>\n",
    "    return <resultado>\n",
    "```"
   ]
  },
  {
   "cell_type": "code",
   "metadata": {
    "id": "-UG42RQJD1A9",
    "colab_type": "code",
    "colab": {},
    "pycharm": {
     "name": "#%%\n"
    }
   },
   "source": [
    "def media(lista):\n",
    "  valor = sum(lista) / len(lista)\n",
    "  return valor"
   ],
   "execution_count": 105,
   "outputs": []
  },
  {
   "cell_type": "code",
   "metadata": {
    "id": "VJwdvoT5D1A-",
    "colab_type": "code",
    "colab": {
     "base_uri": "https://localhost:8080/",
     "height": 34
    },
    "outputId": "f3eb28a2-dd28-465b-b531-f4eba511cccf",
    "pycharm": {
     "name": "#%%\n"
    }
   },
   "source": [
    "media([1, 2, 3, 4, 5, 6, 7, 8])"
   ],
   "execution_count": 106,
   "outputs": [
    {
     "data": {
      "text/plain": "4.5"
     },
     "execution_count": 106,
     "metadata": {},
     "output_type": "execute_result"
    }
   ]
  },
  {
   "cell_type": "code",
   "metadata": {
    "id": "AgAeJkpND1A-",
    "colab_type": "code",
    "colab": {},
    "pycharm": {
     "name": "#%%\n"
    }
   },
   "source": [
    "resultado = media([1, 2, 3, 4, 5, 6, 7, 8])"
   ],
   "execution_count": 107,
   "outputs": []
  },
  {
   "cell_type": "code",
   "metadata": {
    "id": "_r616TevD1A_",
    "colab_type": "code",
    "colab": {
     "base_uri": "https://localhost:8080/",
     "height": 34
    },
    "outputId": "88d74b8e-aea9-47ef-9160-735d94d455db",
    "pycharm": {
     "name": "#%%\n"
    }
   },
   "source": [
    "resultado"
   ],
   "execution_count": 108,
   "outputs": [
    {
     "data": {
      "text/plain": "4.5"
     },
     "execution_count": 108,
     "metadata": {},
     "output_type": "execute_result"
    }
   ]
  },
  {
   "cell_type": "markdown",
   "metadata": {
    "id": "MQaK8GV5D1BA",
    "colab_type": "text",
    "pycharm": {
     "name": "#%% md\n"
    }
   },
   "source": [
    "### Funções que retornam mais de um valor\n",
    "\n",
    "#### Formato padrão\n",
    "\n",
    "```\n",
    "def <nome>(<param_1>, <param_2>, ..., <param_n>):\n",
    "    <instruções>\n",
    "    return (<resultado_1>, <resultado_2>, ..., <resultado_n>)\n",
    "```"
   ]
  },
  {
   "cell_type": "code",
   "metadata": {
    "id": "v0PUMegVD1BA",
    "colab_type": "code",
    "colab": {},
    "pycharm": {
     "name": "#%%\n"
    }
   },
   "source": [
    "def media(lista):\n",
    "  valor = sum(lista) / len(lista)\n",
    "  return (valor, len(lista))"
   ],
   "execution_count": 109,
   "outputs": []
  },
  {
   "cell_type": "code",
   "metadata": {
    "id": "Ys-etom8D1BA",
    "colab_type": "code",
    "colab": {
     "base_uri": "https://localhost:8080/",
     "height": 34
    },
    "outputId": "bab245ec-289b-4013-91d3-d94c397f93c5",
    "pycharm": {
     "name": "#%%\n"
    }
   },
   "source": [
    "media([1, 2, 3, 4, 5, 6, 7, 8, 9])"
   ],
   "execution_count": 110,
   "outputs": [
    {
     "data": {
      "text/plain": "(5.0, 9)"
     },
     "execution_count": 110,
     "metadata": {},
     "output_type": "execute_result"
    }
   ]
  },
  {
   "cell_type": "code",
   "metadata": {
    "id": "LERrvkMHD1BC",
    "colab_type": "code",
    "colab": {},
    "pycharm": {
     "name": "#%%\n"
    }
   },
   "source": [
    "resultado, n = media([1, 2, 3, 4, 5, 6, 7, 8, 9])"
   ],
   "execution_count": 111,
   "outputs": []
  },
  {
   "cell_type": "code",
   "metadata": {
    "id": "sqoFOWSsD1BC",
    "colab_type": "code",
    "colab": {
     "base_uri": "https://localhost:8080/",
     "height": 34
    },
    "outputId": "7d2426e5-151c-47ba-9a28-9cb861fabe1a",
    "pycharm": {
     "name": "#%%\n"
    }
   },
   "source": [
    "resultado"
   ],
   "execution_count": 112,
   "outputs": [
    {
     "data": {
      "text/plain": "5.0"
     },
     "execution_count": 112,
     "metadata": {},
     "output_type": "execute_result"
    }
   ]
  },
  {
   "cell_type": "code",
   "metadata": {
    "id": "NdB_Jyw_D1BD",
    "colab_type": "code",
    "colab": {
     "base_uri": "https://localhost:8080/",
     "height": 34
    },
    "outputId": "08a88e25-834c-4ef7-b49f-521259444911",
    "pycharm": {
     "name": "#%%\n"
    }
   },
   "source": [
    "n"
   ],
   "execution_count": 113,
   "outputs": [
    {
     "data": {
      "text/plain": "9"
     },
     "execution_count": 113,
     "metadata": {},
     "output_type": "execute_result"
    }
   ]
  },
  {
   "cell_type": "markdown",
   "metadata": {
    "id": "uQ5lNnKrD1BD",
    "colab_type": "text",
    "pycharm": {
     "name": "#%% md\n"
    }
   },
   "source": [
    "# <font color=green> 5. PANDAS BÁSICO\n",
    "---\n",
    "\n",
    "**versão: 0.25.2**\n",
    "  \n",
    "Pandas é uma ferramenta de manipulação de dados de alto nível, construída com base no pacote Numpy. O pacote pandas possui estruturas de dados bastante interessantes para manipulação de dados e por isso é muito utilizado por cientistas de dados.\n",
    "\n",
    "\n",
    "## Estruturas de Dados\n",
    "\n",
    "### Series\n",
    "\n",
    "Series são arrays unidimensionais rotulados capazes de armazenar qualquer tipo de dado. Os rótulos das linhas são chamados de **index**. A forma básica de criação de uma Series é a seguinte:\n",
    "\n",
    "\n",
    "```\n",
    "    s = pd.Series(dados, index = index)\n",
    "```\n",
    "\n",
    "O argumento *dados* pode ser um dicionário, uma lista, um array Numpy ou uma constante.\n",
    "\n",
    "### DataFrames\n",
    "\n",
    "DataFrame é uma estrutura de dados tabular bidimensional com rótulos nas linha e colunas. Como a Series, os DataFrames são capazes de armazenar qualquer tipo de dados.\n",
    "\n",
    "\n",
    "```\n",
    "    df = pd.DataFrame(dados, index = index, columns = columns)\n",
    "```\n",
    "\n",
    "O argumento *dados* pode ser um dicionário, uma lista, um array Numpy, uma Series e outro DataFrame.\n",
    "\n",
    "**Documentação:** https://pandas.pydata.org/pandas-docs/version/0.25/"
   ]
  },
  {
   "cell_type": "markdown",
   "metadata": {
    "id": "2qa7RC03D1BD",
    "colab_type": "text",
    "pycharm": {
     "name": "#%% md\n"
    }
   },
   "source": [
    "# 5.1 Estruturas de dados"
   ]
  },
  {
   "cell_type": "code",
   "metadata": {
    "id": "4QyFDeS4D1BD",
    "colab_type": "code",
    "colab": {},
    "pycharm": {
     "name": "#%%\n"
    }
   },
   "source": [
    "import pandas as pd"
   ],
   "execution_count": 114,
   "outputs": []
  },
  {
   "cell_type": "markdown",
   "metadata": {
    "id": "kIey8_OcD1BF",
    "colab_type": "text",
    "pycharm": {
     "name": "#%% md\n"
    }
   },
   "source": [
    "### Criando uma Series a partir de uma lista"
   ]
  },
  {
   "cell_type": "code",
   "metadata": {
    "id": "yEZR6DWiD1BF",
    "colab_type": "code",
    "colab": {
     "base_uri": "https://localhost:8080/",
     "height": 34
    },
    "outputId": "4b71cc5c-12bb-4182-d642-ac3b1049868a",
    "pycharm": {
     "name": "#%%\n"
    }
   },
   "source": [
    "carros = ['Jetta Variant', 'Passat', 'Crossfox']\n",
    "carros"
   ],
   "execution_count": 115,
   "outputs": [
    {
     "data": {
      "text/plain": "['Jetta Variant', 'Passat', 'Crossfox']"
     },
     "execution_count": 115,
     "metadata": {},
     "output_type": "execute_result"
    }
   ]
  },
  {
   "cell_type": "code",
   "metadata": {
    "id": "rLudWKZ_D1BF",
    "colab_type": "code",
    "colab": {
     "base_uri": "https://localhost:8080/",
     "height": 85
    },
    "outputId": "c01b5306-d679-4f6e-c22d-a2d0b946a66e",
    "pycharm": {
     "name": "#%%\n"
    }
   },
   "source": [
    "pd.Series(carros)"
   ],
   "execution_count": 116,
   "outputs": [
    {
     "data": {
      "text/plain": "0    Jetta Variant\n1           Passat\n2         Crossfox\ndtype: object"
     },
     "execution_count": 116,
     "metadata": {},
     "output_type": "execute_result"
    }
   ]
  },
  {
   "cell_type": "markdown",
   "metadata": {
    "id": "VYVIKd1-D1BG",
    "colab_type": "text",
    "pycharm": {
     "name": "#%% md\n"
    }
   },
   "source": [
    "### Criando um DataFrame a partir de uma lista de dicionários"
   ]
  },
  {
   "cell_type": "code",
   "metadata": {
    "id": "QFNS9PckD1BG",
    "colab_type": "code",
    "colab": {},
    "pycharm": {
     "name": "#%%\n"
    }
   },
   "source": [
    "dados = [\n",
    "    {'Nome': 'Jetta Variant', 'Motor': 'Motor 4.0 Turbo', 'Ano': 2003, 'Quilometragem': 44410.0, 'Zero_km': False, 'Valor': 88078.64},\n",
    "    {'Nome': 'Passat', 'Motor': 'Motor Diesel', 'Ano': 1991, 'Quilometragem': 5712.0, 'Zero_km': False, 'Valor': 106161.94},\n",
    "    {'Nome': 'Crossfox', 'Motor': 'Motor Diesel V8', 'Ano': 1990, 'Quilometragem': 37123.0, 'Zero_km': False, 'Valor': 72832.16}\n",
    "]"
   ],
   "execution_count": 117,
   "outputs": []
  },
  {
   "cell_type": "code",
   "metadata": {
    "id": "WDQb9AnKD1BH",
    "colab_type": "code",
    "colab": {},
    "pycharm": {
     "name": "#%%\n"
    }
   },
   "source": [
    "dataset = pd.DataFrame(dados)"
   ],
   "execution_count": 118,
   "outputs": []
  },
  {
   "cell_type": "code",
   "metadata": {
    "id": "-2-jGvmGD1BI",
    "colab_type": "code",
    "colab": {
     "base_uri": "https://localhost:8080/",
     "height": 142
    },
    "outputId": "f0be5dd5-57a8-4bbb-f017-8c9a513b25c2",
    "pycharm": {
     "name": "#%%\n"
    }
   },
   "source": [
    "dataset"
   ],
   "execution_count": 119,
   "outputs": [
    {
     "data": {
      "text/plain": "            Nome            Motor   Ano  Quilometragem  Zero_km      Valor\n0  Jetta Variant  Motor 4.0 Turbo  2003        44410.0    False   88078.64\n1         Passat     Motor Diesel  1991         5712.0    False  106161.94\n2       Crossfox  Motor Diesel V8  1990        37123.0    False   72832.16",
      "text/html": "<div>\n<style scoped>\n    .dataframe tbody tr th:only-of-type {\n        vertical-align: middle;\n    }\n\n    .dataframe tbody tr th {\n        vertical-align: top;\n    }\n\n    .dataframe thead th {\n        text-align: right;\n    }\n</style>\n<table border=\"1\" class=\"dataframe\">\n  <thead>\n    <tr style=\"text-align: right;\">\n      <th></th>\n      <th>Nome</th>\n      <th>Motor</th>\n      <th>Ano</th>\n      <th>Quilometragem</th>\n      <th>Zero_km</th>\n      <th>Valor</th>\n    </tr>\n  </thead>\n  <tbody>\n    <tr>\n      <th>0</th>\n      <td>Jetta Variant</td>\n      <td>Motor 4.0 Turbo</td>\n      <td>2003</td>\n      <td>44410.0</td>\n      <td>False</td>\n      <td>88078.64</td>\n    </tr>\n    <tr>\n      <th>1</th>\n      <td>Passat</td>\n      <td>Motor Diesel</td>\n      <td>1991</td>\n      <td>5712.0</td>\n      <td>False</td>\n      <td>106161.94</td>\n    </tr>\n    <tr>\n      <th>2</th>\n      <td>Crossfox</td>\n      <td>Motor Diesel V8</td>\n      <td>1990</td>\n      <td>37123.0</td>\n      <td>False</td>\n      <td>72832.16</td>\n    </tr>\n  </tbody>\n</table>\n</div>"
     },
     "execution_count": 119,
     "metadata": {},
     "output_type": "execute_result"
    }
   ]
  },
  {
   "cell_type": "code",
   "metadata": {
    "id": "2kbyOThiD1BJ",
    "colab_type": "code",
    "colab": {
     "base_uri": "https://localhost:8080/",
     "height": 142
    },
    "outputId": "8ae9e13f-f5b6-46b6-d8f2-a83a4a62a5f5",
    "pycharm": {
     "name": "#%%\n"
    }
   },
   "source": [
    "dataset[['Nome', 'Motor', 'Ano', 'Quilometragem', 'Zero_km', 'Valor']]"
   ],
   "execution_count": 120,
   "outputs": [
    {
     "data": {
      "text/plain": "            Nome            Motor   Ano  Quilometragem  Zero_km      Valor\n0  Jetta Variant  Motor 4.0 Turbo  2003        44410.0    False   88078.64\n1         Passat     Motor Diesel  1991         5712.0    False  106161.94\n2       Crossfox  Motor Diesel V8  1990        37123.0    False   72832.16",
      "text/html": "<div>\n<style scoped>\n    .dataframe tbody tr th:only-of-type {\n        vertical-align: middle;\n    }\n\n    .dataframe tbody tr th {\n        vertical-align: top;\n    }\n\n    .dataframe thead th {\n        text-align: right;\n    }\n</style>\n<table border=\"1\" class=\"dataframe\">\n  <thead>\n    <tr style=\"text-align: right;\">\n      <th></th>\n      <th>Nome</th>\n      <th>Motor</th>\n      <th>Ano</th>\n      <th>Quilometragem</th>\n      <th>Zero_km</th>\n      <th>Valor</th>\n    </tr>\n  </thead>\n  <tbody>\n    <tr>\n      <th>0</th>\n      <td>Jetta Variant</td>\n      <td>Motor 4.0 Turbo</td>\n      <td>2003</td>\n      <td>44410.0</td>\n      <td>False</td>\n      <td>88078.64</td>\n    </tr>\n    <tr>\n      <th>1</th>\n      <td>Passat</td>\n      <td>Motor Diesel</td>\n      <td>1991</td>\n      <td>5712.0</td>\n      <td>False</td>\n      <td>106161.94</td>\n    </tr>\n    <tr>\n      <th>2</th>\n      <td>Crossfox</td>\n      <td>Motor Diesel V8</td>\n      <td>1990</td>\n      <td>37123.0</td>\n      <td>False</td>\n      <td>72832.16</td>\n    </tr>\n  </tbody>\n</table>\n</div>"
     },
     "execution_count": 120,
     "metadata": {},
     "output_type": "execute_result"
    }
   ]
  },
  {
   "cell_type": "markdown",
   "metadata": {
    "id": "pJK2tQgYD1BK",
    "colab_type": "text",
    "pycharm": {
     "name": "#%% md\n"
    }
   },
   "source": [
    "### Criando um DataFrame a partir de um dicionário"
   ]
  },
  {
   "cell_type": "code",
   "metadata": {
    "id": "WKNQwKucD1BK",
    "colab_type": "code",
    "colab": {},
    "pycharm": {
     "name": "#%%\n"
    }
   },
   "source": [
    "dados = {\n",
    "    'Nome': ['Jetta Variant', 'Passat', 'Crossfox'], \n",
    "    'Motor': ['Motor 4.0 Turbo', 'Motor Diesel', 'Motor Diesel V8'],\n",
    "    'Ano': [2003, 1991, 1990],\n",
    "    'Quilometragem': [44410.0, 5712.0, 37123.0],\n",
    "    'Zero_km': [False, False, False],\n",
    "    'Valor': [88078.64, 106161.94, 72832.16]\n",
    "}"
   ],
   "execution_count": 121,
   "outputs": []
  },
  {
   "cell_type": "code",
   "metadata": {
    "id": "lKnuZfzcD1BK",
    "colab_type": "code",
    "colab": {},
    "pycharm": {
     "name": "#%%\n"
    }
   },
   "source": [
    "dataset = pd.DataFrame(dados)"
   ],
   "execution_count": 122,
   "outputs": []
  },
  {
   "cell_type": "code",
   "metadata": {
    "id": "PNqTytC-D1BL",
    "colab_type": "code",
    "colab": {
     "base_uri": "https://localhost:8080/",
     "height": 142
    },
    "outputId": "71834bf9-6ffe-49c2-b6bb-e1da41a7eefe",
    "pycharm": {
     "name": "#%%\n"
    }
   },
   "source": [
    "dataset"
   ],
   "execution_count": 123,
   "outputs": [
    {
     "data": {
      "text/plain": "            Nome            Motor   Ano  Quilometragem  Zero_km      Valor\n0  Jetta Variant  Motor 4.0 Turbo  2003        44410.0    False   88078.64\n1         Passat     Motor Diesel  1991         5712.0    False  106161.94\n2       Crossfox  Motor Diesel V8  1990        37123.0    False   72832.16",
      "text/html": "<div>\n<style scoped>\n    .dataframe tbody tr th:only-of-type {\n        vertical-align: middle;\n    }\n\n    .dataframe tbody tr th {\n        vertical-align: top;\n    }\n\n    .dataframe thead th {\n        text-align: right;\n    }\n</style>\n<table border=\"1\" class=\"dataframe\">\n  <thead>\n    <tr style=\"text-align: right;\">\n      <th></th>\n      <th>Nome</th>\n      <th>Motor</th>\n      <th>Ano</th>\n      <th>Quilometragem</th>\n      <th>Zero_km</th>\n      <th>Valor</th>\n    </tr>\n  </thead>\n  <tbody>\n    <tr>\n      <th>0</th>\n      <td>Jetta Variant</td>\n      <td>Motor 4.0 Turbo</td>\n      <td>2003</td>\n      <td>44410.0</td>\n      <td>False</td>\n      <td>88078.64</td>\n    </tr>\n    <tr>\n      <th>1</th>\n      <td>Passat</td>\n      <td>Motor Diesel</td>\n      <td>1991</td>\n      <td>5712.0</td>\n      <td>False</td>\n      <td>106161.94</td>\n    </tr>\n    <tr>\n      <th>2</th>\n      <td>Crossfox</td>\n      <td>Motor Diesel V8</td>\n      <td>1990</td>\n      <td>37123.0</td>\n      <td>False</td>\n      <td>72832.16</td>\n    </tr>\n  </tbody>\n</table>\n</div>"
     },
     "execution_count": 123,
     "metadata": {},
     "output_type": "execute_result"
    }
   ]
  },
  {
   "cell_type": "markdown",
   "metadata": {
    "id": "fCCXs0reD1BL",
    "colab_type": "text",
    "pycharm": {
     "name": "#%% md\n"
    }
   },
   "source": [
    "### Criando um DataFrame a partir de uma arquivo externo"
   ]
  },
  {
   "cell_type": "code",
   "metadata": {
    "id": "78PRHGeZD1BL",
    "colab_type": "code",
    "colab": {},
    "pycharm": {
     "name": "#%%\n"
    }
   },
   "source": [
    "dataset = pd.read_csv('data/db.csv', sep = ';', index_col = 0)"
   ],
   "execution_count": 126,
   "outputs": []
  },
  {
   "cell_type": "code",
   "metadata": {
    "scrolled": true,
    "id": "1o1YlnVPD1BM",
    "colab_type": "code",
    "colab": {
     "base_uri": "https://localhost:8080/",
     "height": 450
    },
    "outputId": "96424e64-91a0-4d46-e18e-c62819f68f75",
    "pycharm": {
     "name": "#%%\n"
    }
   },
   "source": [
    "dataset"
   ],
   "execution_count": 127,
   "outputs": [
    {
     "data": {
      "text/plain": "                                       Motor   Ano  Quilometragem  Zero_km  \\\nNome                                                                         \nJetta Variant                Motor 4.0 Turbo  2003        44410.0    False   \nPassat                          Motor Diesel  1991         5712.0    False   \nCrossfox                     Motor Diesel V8  1990        37123.0    False   \nDS5                          Motor 2.4 Turbo  2019            NaN     True   \nAston Martin DB4             Motor 2.4 Turbo  2006        25757.0    False   \n...                                      ...   ...            ...      ...   \nPhantom 2013                        Motor V8  2014        27505.0    False   \nCadillac Ciel concept               Motor V8  1991        29981.0    False   \nClasse GLK             Motor 5.0 V8 Bi-Turbo  2002        52637.0    False   \nAston Martin DB5                Motor Diesel  1996         7685.0    False   \nMacan                        Motor Diesel V6  1992        50188.0    False   \n\n                                                              Acessórios  \\\nNome                                                                       \nJetta Variant          ['Rodas de liga', 'Travas elétricas', 'Piloto ...   \nPassat                 ['Central multimídia', 'Teto panorâmico', 'Fre...   \nCrossfox               ['Piloto automático', 'Controle de estabilidad...   \nDS5                    ['Travas elétricas', '4 X 4', 'Vidros elétrico...   \nAston Martin DB4       ['Rodas de liga', '4 X 4', 'Central multimídia...   \n...                                                                  ...   \nPhantom 2013           ['Controle de estabilidade', 'Piloto automátic...   \nCadillac Ciel concept  ['Bancos de couro', 'Painel digital', 'Sensor ...   \nClasse GLK             ['Rodas de liga', 'Controle de tração', 'Câmbi...   \nAston Martin DB5       ['Ar condicionado', '4 X 4', 'Câmbio automátic...   \nMacan                  ['Central multimídia', 'Teto panorâmico', 'Vid...   \n\n                           Valor  \nNome                              \nJetta Variant           88078.64  \nPassat                 106161.94  \nCrossfox                72832.16  \nDS5                    124549.07  \nAston Martin DB4        92612.10  \n...                          ...  \nPhantom 2013            51759.58  \nCadillac Ciel concept   51667.06  \nClasse GLK              68934.03  \nAston Martin DB5       122110.90  \nMacan                   90381.47  \n\n[258 rows x 6 columns]",
      "text/html": "<div>\n<style scoped>\n    .dataframe tbody tr th:only-of-type {\n        vertical-align: middle;\n    }\n\n    .dataframe tbody tr th {\n        vertical-align: top;\n    }\n\n    .dataframe thead th {\n        text-align: right;\n    }\n</style>\n<table border=\"1\" class=\"dataframe\">\n  <thead>\n    <tr style=\"text-align: right;\">\n      <th></th>\n      <th>Motor</th>\n      <th>Ano</th>\n      <th>Quilometragem</th>\n      <th>Zero_km</th>\n      <th>Acessórios</th>\n      <th>Valor</th>\n    </tr>\n    <tr>\n      <th>Nome</th>\n      <th></th>\n      <th></th>\n      <th></th>\n      <th></th>\n      <th></th>\n      <th></th>\n    </tr>\n  </thead>\n  <tbody>\n    <tr>\n      <th>Jetta Variant</th>\n      <td>Motor 4.0 Turbo</td>\n      <td>2003</td>\n      <td>44410.0</td>\n      <td>False</td>\n      <td>['Rodas de liga', 'Travas elétricas', 'Piloto ...</td>\n      <td>88078.64</td>\n    </tr>\n    <tr>\n      <th>Passat</th>\n      <td>Motor Diesel</td>\n      <td>1991</td>\n      <td>5712.0</td>\n      <td>False</td>\n      <td>['Central multimídia', 'Teto panorâmico', 'Fre...</td>\n      <td>106161.94</td>\n    </tr>\n    <tr>\n      <th>Crossfox</th>\n      <td>Motor Diesel V8</td>\n      <td>1990</td>\n      <td>37123.0</td>\n      <td>False</td>\n      <td>['Piloto automático', 'Controle de estabilidad...</td>\n      <td>72832.16</td>\n    </tr>\n    <tr>\n      <th>DS5</th>\n      <td>Motor 2.4 Turbo</td>\n      <td>2019</td>\n      <td>NaN</td>\n      <td>True</td>\n      <td>['Travas elétricas', '4 X 4', 'Vidros elétrico...</td>\n      <td>124549.07</td>\n    </tr>\n    <tr>\n      <th>Aston Martin DB4</th>\n      <td>Motor 2.4 Turbo</td>\n      <td>2006</td>\n      <td>25757.0</td>\n      <td>False</td>\n      <td>['Rodas de liga', '4 X 4', 'Central multimídia...</td>\n      <td>92612.10</td>\n    </tr>\n    <tr>\n      <th>...</th>\n      <td>...</td>\n      <td>...</td>\n      <td>...</td>\n      <td>...</td>\n      <td>...</td>\n      <td>...</td>\n    </tr>\n    <tr>\n      <th>Phantom 2013</th>\n      <td>Motor V8</td>\n      <td>2014</td>\n      <td>27505.0</td>\n      <td>False</td>\n      <td>['Controle de estabilidade', 'Piloto automátic...</td>\n      <td>51759.58</td>\n    </tr>\n    <tr>\n      <th>Cadillac Ciel concept</th>\n      <td>Motor V8</td>\n      <td>1991</td>\n      <td>29981.0</td>\n      <td>False</td>\n      <td>['Bancos de couro', 'Painel digital', 'Sensor ...</td>\n      <td>51667.06</td>\n    </tr>\n    <tr>\n      <th>Classe GLK</th>\n      <td>Motor 5.0 V8 Bi-Turbo</td>\n      <td>2002</td>\n      <td>52637.0</td>\n      <td>False</td>\n      <td>['Rodas de liga', 'Controle de tração', 'Câmbi...</td>\n      <td>68934.03</td>\n    </tr>\n    <tr>\n      <th>Aston Martin DB5</th>\n      <td>Motor Diesel</td>\n      <td>1996</td>\n      <td>7685.0</td>\n      <td>False</td>\n      <td>['Ar condicionado', '4 X 4', 'Câmbio automátic...</td>\n      <td>122110.90</td>\n    </tr>\n    <tr>\n      <th>Macan</th>\n      <td>Motor Diesel V6</td>\n      <td>1992</td>\n      <td>50188.0</td>\n      <td>False</td>\n      <td>['Central multimídia', 'Teto panorâmico', 'Vid...</td>\n      <td>90381.47</td>\n    </tr>\n  </tbody>\n</table>\n<p>258 rows × 6 columns</p>\n</div>"
     },
     "execution_count": 127,
     "metadata": {},
     "output_type": "execute_result"
    }
   ]
  },
  {
   "cell_type": "markdown",
   "metadata": {
    "id": "y5V-1AK-D1BN",
    "colab_type": "text",
    "pycharm": {
     "name": "#%% md\n"
    }
   },
   "source": [
    "# 5.2 Seleções com DataFrames"
   ]
  },
  {
   "cell_type": "code",
   "metadata": {
    "id": "dhDGQTT8IDqu",
    "colab_type": "code",
    "colab": {
     "base_uri": "https://localhost:8080/",
     "height": 235
    },
    "outputId": "08ca19f7-a643-4bec-bc64-d12626b256e8",
    "pycharm": {
     "name": "#%%\n"
    }
   },
   "source": [
    "dataset.head()"
   ],
   "execution_count": 128,
   "outputs": [
    {
     "data": {
      "text/plain": "                            Motor   Ano  Quilometragem  Zero_km  \\\nNome                                                              \nJetta Variant     Motor 4.0 Turbo  2003        44410.0    False   \nPassat               Motor Diesel  1991         5712.0    False   \nCrossfox          Motor Diesel V8  1990        37123.0    False   \nDS5               Motor 2.4 Turbo  2019            NaN     True   \nAston Martin DB4  Motor 2.4 Turbo  2006        25757.0    False   \n\n                                                         Acessórios      Valor  \nNome                                                                            \nJetta Variant     ['Rodas de liga', 'Travas elétricas', 'Piloto ...   88078.64  \nPassat            ['Central multimídia', 'Teto panorâmico', 'Fre...  106161.94  \nCrossfox          ['Piloto automático', 'Controle de estabilidad...   72832.16  \nDS5               ['Travas elétricas', '4 X 4', 'Vidros elétrico...  124549.07  \nAston Martin DB4  ['Rodas de liga', '4 X 4', 'Central multimídia...   92612.10  ",
      "text/html": "<div>\n<style scoped>\n    .dataframe tbody tr th:only-of-type {\n        vertical-align: middle;\n    }\n\n    .dataframe tbody tr th {\n        vertical-align: top;\n    }\n\n    .dataframe thead th {\n        text-align: right;\n    }\n</style>\n<table border=\"1\" class=\"dataframe\">\n  <thead>\n    <tr style=\"text-align: right;\">\n      <th></th>\n      <th>Motor</th>\n      <th>Ano</th>\n      <th>Quilometragem</th>\n      <th>Zero_km</th>\n      <th>Acessórios</th>\n      <th>Valor</th>\n    </tr>\n    <tr>\n      <th>Nome</th>\n      <th></th>\n      <th></th>\n      <th></th>\n      <th></th>\n      <th></th>\n      <th></th>\n    </tr>\n  </thead>\n  <tbody>\n    <tr>\n      <th>Jetta Variant</th>\n      <td>Motor 4.0 Turbo</td>\n      <td>2003</td>\n      <td>44410.0</td>\n      <td>False</td>\n      <td>['Rodas de liga', 'Travas elétricas', 'Piloto ...</td>\n      <td>88078.64</td>\n    </tr>\n    <tr>\n      <th>Passat</th>\n      <td>Motor Diesel</td>\n      <td>1991</td>\n      <td>5712.0</td>\n      <td>False</td>\n      <td>['Central multimídia', 'Teto panorâmico', 'Fre...</td>\n      <td>106161.94</td>\n    </tr>\n    <tr>\n      <th>Crossfox</th>\n      <td>Motor Diesel V8</td>\n      <td>1990</td>\n      <td>37123.0</td>\n      <td>False</td>\n      <td>['Piloto automático', 'Controle de estabilidad...</td>\n      <td>72832.16</td>\n    </tr>\n    <tr>\n      <th>DS5</th>\n      <td>Motor 2.4 Turbo</td>\n      <td>2019</td>\n      <td>NaN</td>\n      <td>True</td>\n      <td>['Travas elétricas', '4 X 4', 'Vidros elétrico...</td>\n      <td>124549.07</td>\n    </tr>\n    <tr>\n      <th>Aston Martin DB4</th>\n      <td>Motor 2.4 Turbo</td>\n      <td>2006</td>\n      <td>25757.0</td>\n      <td>False</td>\n      <td>['Rodas de liga', '4 X 4', 'Central multimídia...</td>\n      <td>92612.10</td>\n    </tr>\n  </tbody>\n</table>\n</div>"
     },
     "execution_count": 128,
     "metadata": {},
     "output_type": "execute_result"
    }
   ]
  },
  {
   "cell_type": "markdown",
   "metadata": {
    "id": "wZjqlHe9D1BN",
    "colab_type": "text",
    "pycharm": {
     "name": "#%% md\n"
    }
   },
   "source": [
    "### Selecionando colunas"
   ]
  },
  {
   "cell_type": "code",
   "metadata": {
    "scrolled": true,
    "id": "gM3LbtzlD1BN",
    "colab_type": "code",
    "colab": {
     "base_uri": "https://localhost:8080/",
     "height": 238
    },
    "outputId": "89c53b8d-2cd2-4551-cc3d-195455c1633e",
    "pycharm": {
     "name": "#%%\n"
    }
   },
   "source": [
    "dataset['Valor']"
   ],
   "execution_count": 129,
   "outputs": [
    {
     "data": {
      "text/plain": "Nome\nJetta Variant             88078.64\nPassat                   106161.94\nCrossfox                  72832.16\nDS5                      124549.07\nAston Martin DB4          92612.10\n                           ...    \nPhantom 2013              51759.58\nCadillac Ciel concept     51667.06\nClasse GLK                68934.03\nAston Martin DB5         122110.90\nMacan                     90381.47\nName: Valor, Length: 258, dtype: float64"
     },
     "execution_count": 129,
     "metadata": {},
     "output_type": "execute_result"
    }
   ]
  },
  {
   "cell_type": "code",
   "metadata": {
    "id": "R2FWgCM_D1BO",
    "colab_type": "code",
    "colab": {
     "base_uri": "https://localhost:8080/",
     "height": 34
    },
    "outputId": "35c3ec09-a8b5-43ff-e53a-4d83554080cf",
    "pycharm": {
     "name": "#%%\n"
    }
   },
   "source": [
    "type(dataset['Valor'])"
   ],
   "execution_count": 130,
   "outputs": [
    {
     "data": {
      "text/plain": "pandas.core.series.Series"
     },
     "execution_count": 130,
     "metadata": {},
     "output_type": "execute_result"
    }
   ]
  },
  {
   "cell_type": "code",
   "metadata": {
    "scrolled": true,
    "id": "lCCumsxsD1BP",
    "colab_type": "code",
    "colab": {
     "base_uri": "https://localhost:8080/",
     "height": 450
    },
    "outputId": "6535f469-f728-4be1-fd28-fd42591c6fda",
    "pycharm": {
     "name": "#%%\n"
    }
   },
   "source": [
    "dataset[['Valor']]"
   ],
   "execution_count": 131,
   "outputs": [
    {
     "data": {
      "text/plain": "                           Valor\nNome                            \nJetta Variant           88078.64\nPassat                 106161.94\nCrossfox                72832.16\nDS5                    124549.07\nAston Martin DB4        92612.10\n...                          ...\nPhantom 2013            51759.58\nCadillac Ciel concept   51667.06\nClasse GLK              68934.03\nAston Martin DB5       122110.90\nMacan                   90381.47\n\n[258 rows x 1 columns]",
      "text/html": "<div>\n<style scoped>\n    .dataframe tbody tr th:only-of-type {\n        vertical-align: middle;\n    }\n\n    .dataframe tbody tr th {\n        vertical-align: top;\n    }\n\n    .dataframe thead th {\n        text-align: right;\n    }\n</style>\n<table border=\"1\" class=\"dataframe\">\n  <thead>\n    <tr style=\"text-align: right;\">\n      <th></th>\n      <th>Valor</th>\n    </tr>\n    <tr>\n      <th>Nome</th>\n      <th></th>\n    </tr>\n  </thead>\n  <tbody>\n    <tr>\n      <th>Jetta Variant</th>\n      <td>88078.64</td>\n    </tr>\n    <tr>\n      <th>Passat</th>\n      <td>106161.94</td>\n    </tr>\n    <tr>\n      <th>Crossfox</th>\n      <td>72832.16</td>\n    </tr>\n    <tr>\n      <th>DS5</th>\n      <td>124549.07</td>\n    </tr>\n    <tr>\n      <th>Aston Martin DB4</th>\n      <td>92612.10</td>\n    </tr>\n    <tr>\n      <th>...</th>\n      <td>...</td>\n    </tr>\n    <tr>\n      <th>Phantom 2013</th>\n      <td>51759.58</td>\n    </tr>\n    <tr>\n      <th>Cadillac Ciel concept</th>\n      <td>51667.06</td>\n    </tr>\n    <tr>\n      <th>Classe GLK</th>\n      <td>68934.03</td>\n    </tr>\n    <tr>\n      <th>Aston Martin DB5</th>\n      <td>122110.90</td>\n    </tr>\n    <tr>\n      <th>Macan</th>\n      <td>90381.47</td>\n    </tr>\n  </tbody>\n</table>\n<p>258 rows × 1 columns</p>\n</div>"
     },
     "execution_count": 131,
     "metadata": {},
     "output_type": "execute_result"
    }
   ]
  },
  {
   "cell_type": "code",
   "metadata": {
    "id": "zxlyC3B8D1BP",
    "colab_type": "code",
    "colab": {
     "base_uri": "https://localhost:8080/",
     "height": 34
    },
    "outputId": "99c148b1-49d8-4962-aad0-82aed0f9522c",
    "pycharm": {
     "name": "#%%\n"
    }
   },
   "source": [
    "type(dataset[['Valor']])"
   ],
   "execution_count": 132,
   "outputs": [
    {
     "data": {
      "text/plain": "pandas.core.frame.DataFrame"
     },
     "execution_count": 132,
     "metadata": {},
     "output_type": "execute_result"
    }
   ]
  },
  {
   "cell_type": "markdown",
   "metadata": {
    "id": "7RPXPm1XD1BQ",
    "colab_type": "text",
    "pycharm": {
     "name": "#%% md\n"
    }
   },
   "source": [
    "### Selecionando linhas - [ i : j ] \n",
    "\n",
    "<font color=red>**Observação:**</font> A indexação tem origem no zero e nos fatiamentos (*slices*) a linha com índice i é **incluída** e a linha com índice j **não é incluída** no resultado."
   ]
  },
  {
   "cell_type": "code",
   "metadata": {
    "id": "PdDUwPw3D1BQ",
    "colab_type": "code",
    "colab": {
     "base_uri": "https://localhost:8080/",
     "height": 173
    },
    "outputId": "aefc6e5d-f983-404f-8b6e-37ba6012b51a",
    "pycharm": {
     "name": "#%%\n"
    }
   },
   "source": [
    "dataset[0:3]"
   ],
   "execution_count": 133,
   "outputs": [
    {
     "data": {
      "text/plain": "                         Motor   Ano  Quilometragem  Zero_km  \\\nNome                                                           \nJetta Variant  Motor 4.0 Turbo  2003        44410.0    False   \nPassat            Motor Diesel  1991         5712.0    False   \nCrossfox       Motor Diesel V8  1990        37123.0    False   \n\n                                                      Acessórios      Valor  \nNome                                                                         \nJetta Variant  ['Rodas de liga', 'Travas elétricas', 'Piloto ...   88078.64  \nPassat         ['Central multimídia', 'Teto panorâmico', 'Fre...  106161.94  \nCrossfox       ['Piloto automático', 'Controle de estabilidad...   72832.16  ",
      "text/html": "<div>\n<style scoped>\n    .dataframe tbody tr th:only-of-type {\n        vertical-align: middle;\n    }\n\n    .dataframe tbody tr th {\n        vertical-align: top;\n    }\n\n    .dataframe thead th {\n        text-align: right;\n    }\n</style>\n<table border=\"1\" class=\"dataframe\">\n  <thead>\n    <tr style=\"text-align: right;\">\n      <th></th>\n      <th>Motor</th>\n      <th>Ano</th>\n      <th>Quilometragem</th>\n      <th>Zero_km</th>\n      <th>Acessórios</th>\n      <th>Valor</th>\n    </tr>\n    <tr>\n      <th>Nome</th>\n      <th></th>\n      <th></th>\n      <th></th>\n      <th></th>\n      <th></th>\n      <th></th>\n    </tr>\n  </thead>\n  <tbody>\n    <tr>\n      <th>Jetta Variant</th>\n      <td>Motor 4.0 Turbo</td>\n      <td>2003</td>\n      <td>44410.0</td>\n      <td>False</td>\n      <td>['Rodas de liga', 'Travas elétricas', 'Piloto ...</td>\n      <td>88078.64</td>\n    </tr>\n    <tr>\n      <th>Passat</th>\n      <td>Motor Diesel</td>\n      <td>1991</td>\n      <td>5712.0</td>\n      <td>False</td>\n      <td>['Central multimídia', 'Teto panorâmico', 'Fre...</td>\n      <td>106161.94</td>\n    </tr>\n    <tr>\n      <th>Crossfox</th>\n      <td>Motor Diesel V8</td>\n      <td>1990</td>\n      <td>37123.0</td>\n      <td>False</td>\n      <td>['Piloto automático', 'Controle de estabilidad...</td>\n      <td>72832.16</td>\n    </tr>\n  </tbody>\n</table>\n</div>"
     },
     "execution_count": 133,
     "metadata": {},
     "output_type": "execute_result"
    }
   ]
  },
  {
   "cell_type": "markdown",
   "metadata": {
    "id": "G3DMSk97D1BR",
    "colab_type": "text",
    "pycharm": {
     "name": "#%% md\n"
    }
   },
   "source": [
    "### Utilizando .loc para seleções\n",
    "\n",
    "<font color=red>**Observação:**</font> Seleciona um grupo de linhas e colunas segundo os rótulos ou uma matriz booleana."
   ]
  },
  {
   "cell_type": "code",
   "metadata": {
    "id": "Ftg-hNOoD1BR",
    "colab_type": "code",
    "colab": {
     "base_uri": "https://localhost:8080/",
     "height": 136
    },
    "outputId": "9762e3fd-496b-405f-9998-150bc186843f",
    "pycharm": {
     "name": "#%%\n"
    }
   },
   "source": [
    "dataset.loc['Passat']"
   ],
   "execution_count": 134,
   "outputs": [
    {
     "data": {
      "text/plain": "Motor                                                 Motor Diesel\nAno                                                           1991\nQuilometragem                                               5712.0\nZero_km                                                      False\nAcessórios       ['Central multimídia', 'Teto panorâmico', 'Fre...\nValor                                                    106161.94\nName: Passat, dtype: object"
     },
     "execution_count": 134,
     "metadata": {},
     "output_type": "execute_result"
    }
   ]
  },
  {
   "cell_type": "code",
   "metadata": {
    "id": "xdxkDrHvD1BS",
    "colab_type": "code",
    "colab": {
     "base_uri": "https://localhost:8080/",
     "height": 142
    },
    "outputId": "dd88fe86-5bc9-4128-8041-2526ebbf5e38",
    "pycharm": {
     "name": "#%%\n"
    }
   },
   "source": [
    "dataset.loc[['Passat', 'DS5']]"
   ],
   "execution_count": 135,
   "outputs": [
    {
     "data": {
      "text/plain": "                  Motor   Ano  Quilometragem  Zero_km  \\\nNome                                                    \nPassat     Motor Diesel  1991         5712.0    False   \nDS5     Motor 2.4 Turbo  2019            NaN     True   \n\n                                               Acessórios      Valor  \nNome                                                                  \nPassat  ['Central multimídia', 'Teto panorâmico', 'Fre...  106161.94  \nDS5     ['Travas elétricas', '4 X 4', 'Vidros elétrico...  124549.07  ",
      "text/html": "<div>\n<style scoped>\n    .dataframe tbody tr th:only-of-type {\n        vertical-align: middle;\n    }\n\n    .dataframe tbody tr th {\n        vertical-align: top;\n    }\n\n    .dataframe thead th {\n        text-align: right;\n    }\n</style>\n<table border=\"1\" class=\"dataframe\">\n  <thead>\n    <tr style=\"text-align: right;\">\n      <th></th>\n      <th>Motor</th>\n      <th>Ano</th>\n      <th>Quilometragem</th>\n      <th>Zero_km</th>\n      <th>Acessórios</th>\n      <th>Valor</th>\n    </tr>\n    <tr>\n      <th>Nome</th>\n      <th></th>\n      <th></th>\n      <th></th>\n      <th></th>\n      <th></th>\n      <th></th>\n    </tr>\n  </thead>\n  <tbody>\n    <tr>\n      <th>Passat</th>\n      <td>Motor Diesel</td>\n      <td>1991</td>\n      <td>5712.0</td>\n      <td>False</td>\n      <td>['Central multimídia', 'Teto panorâmico', 'Fre...</td>\n      <td>106161.94</td>\n    </tr>\n    <tr>\n      <th>DS5</th>\n      <td>Motor 2.4 Turbo</td>\n      <td>2019</td>\n      <td>NaN</td>\n      <td>True</td>\n      <td>['Travas elétricas', '4 X 4', 'Vidros elétrico...</td>\n      <td>124549.07</td>\n    </tr>\n  </tbody>\n</table>\n</div>"
     },
     "execution_count": 135,
     "metadata": {},
     "output_type": "execute_result"
    }
   ]
  },
  {
   "cell_type": "code",
   "metadata": {
    "id": "pMN3U1KjD1BS",
    "colab_type": "code",
    "colab": {
     "base_uri": "https://localhost:8080/",
     "height": 142
    },
    "outputId": "6fdfeb38-95a8-4b13-a285-2fe964d8b8a3",
    "pycharm": {
     "name": "#%%\n"
    }
   },
   "source": [
    "dataset.loc[['Passat', 'DS5'], ['Motor', 'Valor']]"
   ],
   "execution_count": 136,
   "outputs": [
    {
     "data": {
      "text/plain": "                  Motor      Valor\nNome                              \nPassat     Motor Diesel  106161.94\nDS5     Motor 2.4 Turbo  124549.07",
      "text/html": "<div>\n<style scoped>\n    .dataframe tbody tr th:only-of-type {\n        vertical-align: middle;\n    }\n\n    .dataframe tbody tr th {\n        vertical-align: top;\n    }\n\n    .dataframe thead th {\n        text-align: right;\n    }\n</style>\n<table border=\"1\" class=\"dataframe\">\n  <thead>\n    <tr style=\"text-align: right;\">\n      <th></th>\n      <th>Motor</th>\n      <th>Valor</th>\n    </tr>\n    <tr>\n      <th>Nome</th>\n      <th></th>\n      <th></th>\n    </tr>\n  </thead>\n  <tbody>\n    <tr>\n      <th>Passat</th>\n      <td>Motor Diesel</td>\n      <td>106161.94</td>\n    </tr>\n    <tr>\n      <th>DS5</th>\n      <td>Motor 2.4 Turbo</td>\n      <td>124549.07</td>\n    </tr>\n  </tbody>\n</table>\n</div>"
     },
     "execution_count": 136,
     "metadata": {},
     "output_type": "execute_result"
    }
   ]
  },
  {
   "cell_type": "code",
   "metadata": {
    "scrolled": true,
    "id": "oOEO72uZD1BT",
    "colab_type": "code",
    "colab": {
     "base_uri": "https://localhost:8080/",
     "height": 450
    },
    "outputId": "3449b7b5-cdd6-4139-a52b-10a9553ea07e",
    "pycharm": {
     "name": "#%%\n"
    }
   },
   "source": [
    "dataset.loc[:, ['Motor', 'Valor']]"
   ],
   "execution_count": 137,
   "outputs": [
    {
     "data": {
      "text/plain": "                                       Motor      Valor\nNome                                                   \nJetta Variant                Motor 4.0 Turbo   88078.64\nPassat                          Motor Diesel  106161.94\nCrossfox                     Motor Diesel V8   72832.16\nDS5                          Motor 2.4 Turbo  124549.07\nAston Martin DB4             Motor 2.4 Turbo   92612.10\n...                                      ...        ...\nPhantom 2013                        Motor V8   51759.58\nCadillac Ciel concept               Motor V8   51667.06\nClasse GLK             Motor 5.0 V8 Bi-Turbo   68934.03\nAston Martin DB5                Motor Diesel  122110.90\nMacan                        Motor Diesel V6   90381.47\n\n[258 rows x 2 columns]",
      "text/html": "<div>\n<style scoped>\n    .dataframe tbody tr th:only-of-type {\n        vertical-align: middle;\n    }\n\n    .dataframe tbody tr th {\n        vertical-align: top;\n    }\n\n    .dataframe thead th {\n        text-align: right;\n    }\n</style>\n<table border=\"1\" class=\"dataframe\">\n  <thead>\n    <tr style=\"text-align: right;\">\n      <th></th>\n      <th>Motor</th>\n      <th>Valor</th>\n    </tr>\n    <tr>\n      <th>Nome</th>\n      <th></th>\n      <th></th>\n    </tr>\n  </thead>\n  <tbody>\n    <tr>\n      <th>Jetta Variant</th>\n      <td>Motor 4.0 Turbo</td>\n      <td>88078.64</td>\n    </tr>\n    <tr>\n      <th>Passat</th>\n      <td>Motor Diesel</td>\n      <td>106161.94</td>\n    </tr>\n    <tr>\n      <th>Crossfox</th>\n      <td>Motor Diesel V8</td>\n      <td>72832.16</td>\n    </tr>\n    <tr>\n      <th>DS5</th>\n      <td>Motor 2.4 Turbo</td>\n      <td>124549.07</td>\n    </tr>\n    <tr>\n      <th>Aston Martin DB4</th>\n      <td>Motor 2.4 Turbo</td>\n      <td>92612.10</td>\n    </tr>\n    <tr>\n      <th>...</th>\n      <td>...</td>\n      <td>...</td>\n    </tr>\n    <tr>\n      <th>Phantom 2013</th>\n      <td>Motor V8</td>\n      <td>51759.58</td>\n    </tr>\n    <tr>\n      <th>Cadillac Ciel concept</th>\n      <td>Motor V8</td>\n      <td>51667.06</td>\n    </tr>\n    <tr>\n      <th>Classe GLK</th>\n      <td>Motor 5.0 V8 Bi-Turbo</td>\n      <td>68934.03</td>\n    </tr>\n    <tr>\n      <th>Aston Martin DB5</th>\n      <td>Motor Diesel</td>\n      <td>122110.90</td>\n    </tr>\n    <tr>\n      <th>Macan</th>\n      <td>Motor Diesel V6</td>\n      <td>90381.47</td>\n    </tr>\n  </tbody>\n</table>\n<p>258 rows × 2 columns</p>\n</div>"
     },
     "execution_count": 137,
     "metadata": {},
     "output_type": "execute_result"
    }
   ]
  },
  {
   "cell_type": "markdown",
   "metadata": {
    "id": "SYKEe3vCD1BT",
    "colab_type": "text",
    "pycharm": {
     "name": "#%% md\n"
    }
   },
   "source": [
    "### Utilizando .iloc para seleções\n",
    "\n",
    "<font color=red>**Observação:**</font> Seleciona com base nos índices, ou seja, se baseia na posição das informações."
   ]
  },
  {
   "cell_type": "code",
   "metadata": {
    "id": "Rh7TskYEKYdk",
    "colab_type": "code",
    "colab": {
     "base_uri": "https://localhost:8080/",
     "height": 235
    },
    "outputId": "e724005d-a159-406e-bcf1-258b85570da7",
    "pycharm": {
     "name": "#%%\n"
    }
   },
   "source": [
    "dataset.head()"
   ],
   "execution_count": 138,
   "outputs": [
    {
     "data": {
      "text/plain": "                            Motor   Ano  Quilometragem  Zero_km  \\\nNome                                                              \nJetta Variant     Motor 4.0 Turbo  2003        44410.0    False   \nPassat               Motor Diesel  1991         5712.0    False   \nCrossfox          Motor Diesel V8  1990        37123.0    False   \nDS5               Motor 2.4 Turbo  2019            NaN     True   \nAston Martin DB4  Motor 2.4 Turbo  2006        25757.0    False   \n\n                                                         Acessórios      Valor  \nNome                                                                            \nJetta Variant     ['Rodas de liga', 'Travas elétricas', 'Piloto ...   88078.64  \nPassat            ['Central multimídia', 'Teto panorâmico', 'Fre...  106161.94  \nCrossfox          ['Piloto automático', 'Controle de estabilidad...   72832.16  \nDS5               ['Travas elétricas', '4 X 4', 'Vidros elétrico...  124549.07  \nAston Martin DB4  ['Rodas de liga', '4 X 4', 'Central multimídia...   92612.10  ",
      "text/html": "<div>\n<style scoped>\n    .dataframe tbody tr th:only-of-type {\n        vertical-align: middle;\n    }\n\n    .dataframe tbody tr th {\n        vertical-align: top;\n    }\n\n    .dataframe thead th {\n        text-align: right;\n    }\n</style>\n<table border=\"1\" class=\"dataframe\">\n  <thead>\n    <tr style=\"text-align: right;\">\n      <th></th>\n      <th>Motor</th>\n      <th>Ano</th>\n      <th>Quilometragem</th>\n      <th>Zero_km</th>\n      <th>Acessórios</th>\n      <th>Valor</th>\n    </tr>\n    <tr>\n      <th>Nome</th>\n      <th></th>\n      <th></th>\n      <th></th>\n      <th></th>\n      <th></th>\n      <th></th>\n    </tr>\n  </thead>\n  <tbody>\n    <tr>\n      <th>Jetta Variant</th>\n      <td>Motor 4.0 Turbo</td>\n      <td>2003</td>\n      <td>44410.0</td>\n      <td>False</td>\n      <td>['Rodas de liga', 'Travas elétricas', 'Piloto ...</td>\n      <td>88078.64</td>\n    </tr>\n    <tr>\n      <th>Passat</th>\n      <td>Motor Diesel</td>\n      <td>1991</td>\n      <td>5712.0</td>\n      <td>False</td>\n      <td>['Central multimídia', 'Teto panorâmico', 'Fre...</td>\n      <td>106161.94</td>\n    </tr>\n    <tr>\n      <th>Crossfox</th>\n      <td>Motor Diesel V8</td>\n      <td>1990</td>\n      <td>37123.0</td>\n      <td>False</td>\n      <td>['Piloto automático', 'Controle de estabilidad...</td>\n      <td>72832.16</td>\n    </tr>\n    <tr>\n      <th>DS5</th>\n      <td>Motor 2.4 Turbo</td>\n      <td>2019</td>\n      <td>NaN</td>\n      <td>True</td>\n      <td>['Travas elétricas', '4 X 4', 'Vidros elétrico...</td>\n      <td>124549.07</td>\n    </tr>\n    <tr>\n      <th>Aston Martin DB4</th>\n      <td>Motor 2.4 Turbo</td>\n      <td>2006</td>\n      <td>25757.0</td>\n      <td>False</td>\n      <td>['Rodas de liga', '4 X 4', 'Central multimídia...</td>\n      <td>92612.10</td>\n    </tr>\n  </tbody>\n</table>\n</div>"
     },
     "execution_count": 138,
     "metadata": {},
     "output_type": "execute_result"
    }
   ]
  },
  {
   "cell_type": "code",
   "metadata": {
    "id": "U4Bru90bD1BT",
    "colab_type": "code",
    "colab": {
     "base_uri": "https://localhost:8080/",
     "height": 111
    },
    "outputId": "42cd8f40-ce06-4f0a-eb66-3f8f43af2ed1",
    "pycharm": {
     "name": "#%%\n"
    }
   },
   "source": [
    "dataset.iloc[[1]]"
   ],
   "execution_count": 139,
   "outputs": [
    {
     "data": {
      "text/plain": "               Motor   Ano  Quilometragem  Zero_km  \\\nNome                                                 \nPassat  Motor Diesel  1991         5712.0    False   \n\n                                               Acessórios      Valor  \nNome                                                                  \nPassat  ['Central multimídia', 'Teto panorâmico', 'Fre...  106161.94  ",
      "text/html": "<div>\n<style scoped>\n    .dataframe tbody tr th:only-of-type {\n        vertical-align: middle;\n    }\n\n    .dataframe tbody tr th {\n        vertical-align: top;\n    }\n\n    .dataframe thead th {\n        text-align: right;\n    }\n</style>\n<table border=\"1\" class=\"dataframe\">\n  <thead>\n    <tr style=\"text-align: right;\">\n      <th></th>\n      <th>Motor</th>\n      <th>Ano</th>\n      <th>Quilometragem</th>\n      <th>Zero_km</th>\n      <th>Acessórios</th>\n      <th>Valor</th>\n    </tr>\n    <tr>\n      <th>Nome</th>\n      <th></th>\n      <th></th>\n      <th></th>\n      <th></th>\n      <th></th>\n      <th></th>\n    </tr>\n  </thead>\n  <tbody>\n    <tr>\n      <th>Passat</th>\n      <td>Motor Diesel</td>\n      <td>1991</td>\n      <td>5712.0</td>\n      <td>False</td>\n      <td>['Central multimídia', 'Teto panorâmico', 'Fre...</td>\n      <td>106161.94</td>\n    </tr>\n  </tbody>\n</table>\n</div>"
     },
     "execution_count": 139,
     "metadata": {},
     "output_type": "execute_result"
    }
   ]
  },
  {
   "cell_type": "code",
   "metadata": {
    "id": "iLKUyrzND1BU",
    "colab_type": "code",
    "colab": {
     "base_uri": "https://localhost:8080/",
     "height": 173
    },
    "outputId": "f2034873-8b68-48a3-98a3-e0a58b5da2c8",
    "pycharm": {
     "name": "#%%\n"
    }
   },
   "source": [
    "dataset.iloc[1:4]"
   ],
   "execution_count": 140,
   "outputs": [
    {
     "data": {
      "text/plain": "                    Motor   Ano  Quilometragem  Zero_km  \\\nNome                                                      \nPassat       Motor Diesel  1991         5712.0    False   \nCrossfox  Motor Diesel V8  1990        37123.0    False   \nDS5       Motor 2.4 Turbo  2019            NaN     True   \n\n                                                 Acessórios      Valor  \nNome                                                                    \nPassat    ['Central multimídia', 'Teto panorâmico', 'Fre...  106161.94  \nCrossfox  ['Piloto automático', 'Controle de estabilidad...   72832.16  \nDS5       ['Travas elétricas', '4 X 4', 'Vidros elétrico...  124549.07  ",
      "text/html": "<div>\n<style scoped>\n    .dataframe tbody tr th:only-of-type {\n        vertical-align: middle;\n    }\n\n    .dataframe tbody tr th {\n        vertical-align: top;\n    }\n\n    .dataframe thead th {\n        text-align: right;\n    }\n</style>\n<table border=\"1\" class=\"dataframe\">\n  <thead>\n    <tr style=\"text-align: right;\">\n      <th></th>\n      <th>Motor</th>\n      <th>Ano</th>\n      <th>Quilometragem</th>\n      <th>Zero_km</th>\n      <th>Acessórios</th>\n      <th>Valor</th>\n    </tr>\n    <tr>\n      <th>Nome</th>\n      <th></th>\n      <th></th>\n      <th></th>\n      <th></th>\n      <th></th>\n      <th></th>\n    </tr>\n  </thead>\n  <tbody>\n    <tr>\n      <th>Passat</th>\n      <td>Motor Diesel</td>\n      <td>1991</td>\n      <td>5712.0</td>\n      <td>False</td>\n      <td>['Central multimídia', 'Teto panorâmico', 'Fre...</td>\n      <td>106161.94</td>\n    </tr>\n    <tr>\n      <th>Crossfox</th>\n      <td>Motor Diesel V8</td>\n      <td>1990</td>\n      <td>37123.0</td>\n      <td>False</td>\n      <td>['Piloto automático', 'Controle de estabilidad...</td>\n      <td>72832.16</td>\n    </tr>\n    <tr>\n      <th>DS5</th>\n      <td>Motor 2.4 Turbo</td>\n      <td>2019</td>\n      <td>NaN</td>\n      <td>True</td>\n      <td>['Travas elétricas', '4 X 4', 'Vidros elétrico...</td>\n      <td>124549.07</td>\n    </tr>\n  </tbody>\n</table>\n</div>"
     },
     "execution_count": 140,
     "metadata": {},
     "output_type": "execute_result"
    }
   ]
  },
  {
   "cell_type": "code",
   "metadata": {
    "id": "KGZpixYUD1BU",
    "colab_type": "code",
    "colab": {
     "base_uri": "https://localhost:8080/",
     "height": 173
    },
    "outputId": "f99cd24e-114c-4858-91ea-8e44bf91ebcf",
    "pycharm": {
     "name": "#%%\n"
    }
   },
   "source": [
    "dataset.iloc[1:4, [0, 5, 2]]"
   ],
   "execution_count": 141,
   "outputs": [
    {
     "data": {
      "text/plain": "                    Motor      Valor  Quilometragem\nNome                                               \nPassat       Motor Diesel  106161.94         5712.0\nCrossfox  Motor Diesel V8   72832.16        37123.0\nDS5       Motor 2.4 Turbo  124549.07            NaN",
      "text/html": "<div>\n<style scoped>\n    .dataframe tbody tr th:only-of-type {\n        vertical-align: middle;\n    }\n\n    .dataframe tbody tr th {\n        vertical-align: top;\n    }\n\n    .dataframe thead th {\n        text-align: right;\n    }\n</style>\n<table border=\"1\" class=\"dataframe\">\n  <thead>\n    <tr style=\"text-align: right;\">\n      <th></th>\n      <th>Motor</th>\n      <th>Valor</th>\n      <th>Quilometragem</th>\n    </tr>\n    <tr>\n      <th>Nome</th>\n      <th></th>\n      <th></th>\n      <th></th>\n    </tr>\n  </thead>\n  <tbody>\n    <tr>\n      <th>Passat</th>\n      <td>Motor Diesel</td>\n      <td>106161.94</td>\n      <td>5712.0</td>\n    </tr>\n    <tr>\n      <th>Crossfox</th>\n      <td>Motor Diesel V8</td>\n      <td>72832.16</td>\n      <td>37123.0</td>\n    </tr>\n    <tr>\n      <th>DS5</th>\n      <td>Motor 2.4 Turbo</td>\n      <td>124549.07</td>\n      <td>NaN</td>\n    </tr>\n  </tbody>\n</table>\n</div>"
     },
     "execution_count": 141,
     "metadata": {},
     "output_type": "execute_result"
    }
   ]
  },
  {
   "cell_type": "code",
   "metadata": {
    "id": "GxdqIz4LD1BV",
    "colab_type": "code",
    "colab": {
     "base_uri": "https://localhost:8080/",
     "height": 173
    },
    "outputId": "fa565ea1-259c-4fe5-b12d-72f1e8c48b51",
    "pycharm": {
     "name": "#%%\n"
    }
   },
   "source": [
    "dataset.iloc[[1, 42, 22], [0, 5, 2]]"
   ],
   "execution_count": 142,
   "outputs": [
    {
     "data": {
      "text/plain": "                               Motor      Valor  Quilometragem\nNome                                                          \nPassat                  Motor Diesel  106161.94         5712.0\nOptima                 Motor 1.8 16v   86641.34            NaN\nLamborghini Obvious  Motor Diesel V6  133529.84        98079.0",
      "text/html": "<div>\n<style scoped>\n    .dataframe tbody tr th:only-of-type {\n        vertical-align: middle;\n    }\n\n    .dataframe tbody tr th {\n        vertical-align: top;\n    }\n\n    .dataframe thead th {\n        text-align: right;\n    }\n</style>\n<table border=\"1\" class=\"dataframe\">\n  <thead>\n    <tr style=\"text-align: right;\">\n      <th></th>\n      <th>Motor</th>\n      <th>Valor</th>\n      <th>Quilometragem</th>\n    </tr>\n    <tr>\n      <th>Nome</th>\n      <th></th>\n      <th></th>\n      <th></th>\n    </tr>\n  </thead>\n  <tbody>\n    <tr>\n      <th>Passat</th>\n      <td>Motor Diesel</td>\n      <td>106161.94</td>\n      <td>5712.0</td>\n    </tr>\n    <tr>\n      <th>Optima</th>\n      <td>Motor 1.8 16v</td>\n      <td>86641.34</td>\n      <td>NaN</td>\n    </tr>\n    <tr>\n      <th>Lamborghini Obvious</th>\n      <td>Motor Diesel V6</td>\n      <td>133529.84</td>\n      <td>98079.0</td>\n    </tr>\n  </tbody>\n</table>\n</div>"
     },
     "execution_count": 142,
     "metadata": {},
     "output_type": "execute_result"
    }
   ]
  },
  {
   "cell_type": "code",
   "metadata": {
    "scrolled": true,
    "id": "AVIhs7uLD1BW",
    "colab_type": "code",
    "colab": {
     "base_uri": "https://localhost:8080/",
     "height": 450
    },
    "outputId": "654fac45-065a-4f93-b2d7-bbd1f3fc6a14",
    "pycharm": {
     "name": "#%%\n"
    }
   },
   "source": [
    "dataset.iloc[:, [0, 5, 2]]"
   ],
   "execution_count": 143,
   "outputs": [
    {
     "data": {
      "text/plain": "                                       Motor      Valor  Quilometragem\nNome                                                                  \nJetta Variant                Motor 4.0 Turbo   88078.64        44410.0\nPassat                          Motor Diesel  106161.94         5712.0\nCrossfox                     Motor Diesel V8   72832.16        37123.0\nDS5                          Motor 2.4 Turbo  124549.07            NaN\nAston Martin DB4             Motor 2.4 Turbo   92612.10        25757.0\n...                                      ...        ...            ...\nPhantom 2013                        Motor V8   51759.58        27505.0\nCadillac Ciel concept               Motor V8   51667.06        29981.0\nClasse GLK             Motor 5.0 V8 Bi-Turbo   68934.03        52637.0\nAston Martin DB5                Motor Diesel  122110.90         7685.0\nMacan                        Motor Diesel V6   90381.47        50188.0\n\n[258 rows x 3 columns]",
      "text/html": "<div>\n<style scoped>\n    .dataframe tbody tr th:only-of-type {\n        vertical-align: middle;\n    }\n\n    .dataframe tbody tr th {\n        vertical-align: top;\n    }\n\n    .dataframe thead th {\n        text-align: right;\n    }\n</style>\n<table border=\"1\" class=\"dataframe\">\n  <thead>\n    <tr style=\"text-align: right;\">\n      <th></th>\n      <th>Motor</th>\n      <th>Valor</th>\n      <th>Quilometragem</th>\n    </tr>\n    <tr>\n      <th>Nome</th>\n      <th></th>\n      <th></th>\n      <th></th>\n    </tr>\n  </thead>\n  <tbody>\n    <tr>\n      <th>Jetta Variant</th>\n      <td>Motor 4.0 Turbo</td>\n      <td>88078.64</td>\n      <td>44410.0</td>\n    </tr>\n    <tr>\n      <th>Passat</th>\n      <td>Motor Diesel</td>\n      <td>106161.94</td>\n      <td>5712.0</td>\n    </tr>\n    <tr>\n      <th>Crossfox</th>\n      <td>Motor Diesel V8</td>\n      <td>72832.16</td>\n      <td>37123.0</td>\n    </tr>\n    <tr>\n      <th>DS5</th>\n      <td>Motor 2.4 Turbo</td>\n      <td>124549.07</td>\n      <td>NaN</td>\n    </tr>\n    <tr>\n      <th>Aston Martin DB4</th>\n      <td>Motor 2.4 Turbo</td>\n      <td>92612.10</td>\n      <td>25757.0</td>\n    </tr>\n    <tr>\n      <th>...</th>\n      <td>...</td>\n      <td>...</td>\n      <td>...</td>\n    </tr>\n    <tr>\n      <th>Phantom 2013</th>\n      <td>Motor V8</td>\n      <td>51759.58</td>\n      <td>27505.0</td>\n    </tr>\n    <tr>\n      <th>Cadillac Ciel concept</th>\n      <td>Motor V8</td>\n      <td>51667.06</td>\n      <td>29981.0</td>\n    </tr>\n    <tr>\n      <th>Classe GLK</th>\n      <td>Motor 5.0 V8 Bi-Turbo</td>\n      <td>68934.03</td>\n      <td>52637.0</td>\n    </tr>\n    <tr>\n      <th>Aston Martin DB5</th>\n      <td>Motor Diesel</td>\n      <td>122110.90</td>\n      <td>7685.0</td>\n    </tr>\n    <tr>\n      <th>Macan</th>\n      <td>Motor Diesel V6</td>\n      <td>90381.47</td>\n      <td>50188.0</td>\n    </tr>\n  </tbody>\n</table>\n<p>258 rows × 3 columns</p>\n</div>"
     },
     "execution_count": 143,
     "metadata": {},
     "output_type": "execute_result"
    }
   ]
  },
  {
   "cell_type": "markdown",
   "metadata": {
    "id": "eAbwq1oLD1BW",
    "colab_type": "text",
    "pycharm": {
     "name": "#%% md\n"
    }
   },
   "source": [
    "# 5.3 Queries com DataFrames"
   ]
  },
  {
   "cell_type": "code",
   "metadata": {
    "id": "Du0dD8IfMiBk",
    "colab_type": "code",
    "colab": {
     "base_uri": "https://localhost:8080/",
     "height": 235
    },
    "outputId": "19e6f979-f2ae-4e72-d041-60cbf83991a8",
    "pycharm": {
     "name": "#%%\n"
    }
   },
   "source": [
    "dataset.head()"
   ],
   "execution_count": 144,
   "outputs": [
    {
     "data": {
      "text/plain": "                            Motor   Ano  Quilometragem  Zero_km  \\\nNome                                                              \nJetta Variant     Motor 4.0 Turbo  2003        44410.0    False   \nPassat               Motor Diesel  1991         5712.0    False   \nCrossfox          Motor Diesel V8  1990        37123.0    False   \nDS5               Motor 2.4 Turbo  2019            NaN     True   \nAston Martin DB4  Motor 2.4 Turbo  2006        25757.0    False   \n\n                                                         Acessórios      Valor  \nNome                                                                            \nJetta Variant     ['Rodas de liga', 'Travas elétricas', 'Piloto ...   88078.64  \nPassat            ['Central multimídia', 'Teto panorâmico', 'Fre...  106161.94  \nCrossfox          ['Piloto automático', 'Controle de estabilidad...   72832.16  \nDS5               ['Travas elétricas', '4 X 4', 'Vidros elétrico...  124549.07  \nAston Martin DB4  ['Rodas de liga', '4 X 4', 'Central multimídia...   92612.10  ",
      "text/html": "<div>\n<style scoped>\n    .dataframe tbody tr th:only-of-type {\n        vertical-align: middle;\n    }\n\n    .dataframe tbody tr th {\n        vertical-align: top;\n    }\n\n    .dataframe thead th {\n        text-align: right;\n    }\n</style>\n<table border=\"1\" class=\"dataframe\">\n  <thead>\n    <tr style=\"text-align: right;\">\n      <th></th>\n      <th>Motor</th>\n      <th>Ano</th>\n      <th>Quilometragem</th>\n      <th>Zero_km</th>\n      <th>Acessórios</th>\n      <th>Valor</th>\n    </tr>\n    <tr>\n      <th>Nome</th>\n      <th></th>\n      <th></th>\n      <th></th>\n      <th></th>\n      <th></th>\n      <th></th>\n    </tr>\n  </thead>\n  <tbody>\n    <tr>\n      <th>Jetta Variant</th>\n      <td>Motor 4.0 Turbo</td>\n      <td>2003</td>\n      <td>44410.0</td>\n      <td>False</td>\n      <td>['Rodas de liga', 'Travas elétricas', 'Piloto ...</td>\n      <td>88078.64</td>\n    </tr>\n    <tr>\n      <th>Passat</th>\n      <td>Motor Diesel</td>\n      <td>1991</td>\n      <td>5712.0</td>\n      <td>False</td>\n      <td>['Central multimídia', 'Teto panorâmico', 'Fre...</td>\n      <td>106161.94</td>\n    </tr>\n    <tr>\n      <th>Crossfox</th>\n      <td>Motor Diesel V8</td>\n      <td>1990</td>\n      <td>37123.0</td>\n      <td>False</td>\n      <td>['Piloto automático', 'Controle de estabilidad...</td>\n      <td>72832.16</td>\n    </tr>\n    <tr>\n      <th>DS5</th>\n      <td>Motor 2.4 Turbo</td>\n      <td>2019</td>\n      <td>NaN</td>\n      <td>True</td>\n      <td>['Travas elétricas', '4 X 4', 'Vidros elétrico...</td>\n      <td>124549.07</td>\n    </tr>\n    <tr>\n      <th>Aston Martin DB4</th>\n      <td>Motor 2.4 Turbo</td>\n      <td>2006</td>\n      <td>25757.0</td>\n      <td>False</td>\n      <td>['Rodas de liga', '4 X 4', 'Central multimídia...</td>\n      <td>92612.10</td>\n    </tr>\n  </tbody>\n</table>\n</div>"
     },
     "execution_count": 144,
     "metadata": {},
     "output_type": "execute_result"
    }
   ]
  },
  {
   "cell_type": "code",
   "metadata": {
    "id": "_mWydEpUMDSM",
    "colab_type": "code",
    "colab": {
     "base_uri": "https://localhost:8080/",
     "height": 238
    },
    "outputId": "d346edd3-5f89-489a-888e-7d77ef6dfdb4",
    "pycharm": {
     "name": "#%%\n"
    }
   },
   "source": [
    "dataset.Motor"
   ],
   "execution_count": 145,
   "outputs": [
    {
     "data": {
      "text/plain": "Nome\nJetta Variant                  Motor 4.0 Turbo\nPassat                            Motor Diesel\nCrossfox                       Motor Diesel V8\nDS5                            Motor 2.4 Turbo\nAston Martin DB4               Motor 2.4 Turbo\n                                 ...          \nPhantom 2013                          Motor V8\nCadillac Ciel concept                 Motor V8\nClasse GLK               Motor 5.0 V8 Bi-Turbo\nAston Martin DB5                  Motor Diesel\nMacan                          Motor Diesel V6\nName: Motor, Length: 258, dtype: object"
     },
     "execution_count": 145,
     "metadata": {},
     "output_type": "execute_result"
    }
   ]
  },
  {
   "cell_type": "code",
   "metadata": {
    "scrolled": true,
    "id": "AOZTWzehD1BW",
    "colab_type": "code",
    "colab": {},
    "pycharm": {
     "name": "#%%\n"
    }
   },
   "source": [
    "select = dataset.Motor == 'Motor Diesel'"
   ],
   "execution_count": 146,
   "outputs": []
  },
  {
   "cell_type": "code",
   "metadata": {
    "scrolled": true,
    "id": "rO5T4h94D1BX",
    "colab_type": "code",
    "colab": {
     "base_uri": "https://localhost:8080/",
     "height": 34
    },
    "outputId": "9ee8bc92-36c7-4f76-83c9-8f5108e8d23f",
    "pycharm": {
     "name": "#%%\n"
    }
   },
   "source": [
    "type(select)"
   ],
   "execution_count": 147,
   "outputs": [
    {
     "data": {
      "text/plain": "pandas.core.series.Series"
     },
     "execution_count": 147,
     "metadata": {},
     "output_type": "execute_result"
    }
   ]
  },
  {
   "cell_type": "code",
   "metadata": {
    "id": "STZ-l8oaD1BX",
    "colab_type": "code",
    "colab": {
     "base_uri": "https://localhost:8080/",
     "height": 450
    },
    "outputId": "1a137fff-67fc-4556-96dd-dbfed0808e06",
    "pycharm": {
     "name": "#%%\n"
    }
   },
   "source": [
    "dataset[select]"
   ],
   "execution_count": 148,
   "outputs": [
    {
     "data": {
      "text/plain": "                              Motor   Ano  Quilometragem  Zero_km  \\\nNome                                                                \nPassat                 Motor Diesel  1991         5712.0    False   \nEffa Hafei Picape Baú  Motor Diesel  1991       102959.0    False   \nSorento                Motor Diesel  2019            NaN     True   \nNew Fiesta Hatch       Motor Diesel  2017       118895.0    False   \nKangoo Express         Motor Diesel  2007        29132.0    False   \nFit                    Motor Diesel  2013        44329.0    False   \nCielo Hatch            Motor Diesel  2019            NaN     True   \nSymbol                 Motor Diesel  2016       117714.0    False   \nA4 Sedan               Motor Diesel  2002        30511.0    False   \nA4 Avant               Motor Diesel  2014        17357.0    False   \nSilver Shadow          Motor Diesel  2015        99052.0    False   \nCamry                  Motor Diesel  2019            NaN     True   \nClio                   Motor Diesel  1990        66437.0    False   \nSérie 3 M3 Coupé       Motor Diesel  2013        19896.0    False   \nGallardo LP 560 – 4    Motor Diesel  2000       113045.0    False   \nChana Utility          Motor Diesel  2009        52034.0    False   \nTT Roadster            Motor Diesel  1998       107392.0    False   \nAston Martin Virage    Motor Diesel  2019            NaN     True   \nSandero                Motor Diesel  2015        34783.0    False   \nXKR                    Motor Diesel  1996        85127.0    False   \nX5                     Motor Diesel  2002        13606.0    False   \nDodge Dakota           Motor Diesel  1993        71544.0    False   \ni30 CW                 Motor Diesel  2015         8497.0    False   \nSérie 7 Sedã           Motor Diesel  2019            NaN     True   \nV60                    Motor Diesel  2004        91840.0    False   \nAston Martin DB5       Motor Diesel  1996         7685.0    False   \n\n                                                              Acessórios  \\\nNome                                                                       \nPassat                 ['Central multimídia', 'Teto panorâmico', 'Fre...   \nEffa Hafei Picape Baú  ['Controle de estabilidade', 'Painel digital',...   \nSorento                ['Sensor de chuva', 'Câmera de estacionamento'...   \nNew Fiesta Hatch       ['Sensor de estacionamento', 'Travas elétricas...   \nKangoo Express         ['Bancos de couro', 'Câmbio automático', 'Pilo...   \nFit                    ['Freios ABS', 'Câmera de estacionamento', 'Câ...   \nCielo Hatch            ['Painel digital', 'Central multimídia', 'Câme...   \nSymbol                 ['4 X 4', 'Piloto automático', 'Sensor crepusc...   \nA4 Sedan               ['Câmera de estacionamento', '4 X 4', 'Travas ...   \nA4 Avant               ['Teto panorâmico', '4 X 4', 'Bancos de couro'...   \nSilver Shadow          ['4 X 4', 'Central multimídia', 'Ar condiciona...   \nCamry                  ['Travas elétricas', 'Rodas de liga', 'Sensor ...   \nClio                   ['4 X 4', 'Câmbio automático', 'Freios ABS', '...   \nSérie 3 M3 Coupé       ['Bancos de couro', 'Sensor de chuva', 'Ar con...   \nGallardo LP 560 – 4    ['Freios ABS', 'Teto panorâmico', 'Central mul...   \nChana Utility          ['Ar condicionado', 'Sensor de estacionamento'...   \nTT Roadster            ['Ar condicionado', 'Sensor de estacionamento'...   \nAston Martin Virage    ['Travas elétricas', 'Controle de tração', 'Câ...   \nSandero                ['Piloto automático', 'Teto panorâmico', 'Câmb...   \nXKR                    ['Controle de tração', 'Ar condicionado', 'Tra...   \nX5                     ['Controle de tração', 'Piloto automático', 'T...   \nDodge Dakota           ['Controle de tração', 'Sensor de estacionamen...   \ni30 CW                 ['Sensor de chuva', 'Vidros elétricos', 'Contr...   \nSérie 7 Sedã           ['Vidros elétricos', 'Travas elétricas', 'Roda...   \nV60                    ['Rodas de liga', 'Sensor crepuscular', 'Ar co...   \nAston Martin DB5       ['Ar condicionado', '4 X 4', 'Câmbio automátic...   \n\n                           Valor  \nNome                              \nPassat                 106161.94  \nEffa Hafei Picape Baú  125684.65  \nSorento                 81399.35  \nNew Fiesta Hatch        66007.16  \nKangoo Express         146716.91  \nFit                     77836.23  \nCielo Hatch            145197.70  \nSymbol                 133030.60  \nA4 Sedan                96369.04  \nA4 Avant               138946.88  \nSilver Shadow          143568.22  \nCamry                  138597.27  \nClio                   111130.33  \nSérie 3 M3 Coupé        69219.89  \nGallardo LP 560 – 4    144118.91  \nChana Utility          132662.32  \nTT Roadster             85311.40  \nAston Martin Virage     97290.18  \nSandero                112350.61  \nXKR                     54263.16  \nX5                      62041.32  \nDodge Dakota           141083.35  \ni30 CW                  73311.75  \nSérie 7 Sedã            67539.79  \nV60                    114728.74  \nAston Martin DB5       122110.90  ",
      "text/html": "<div>\n<style scoped>\n    .dataframe tbody tr th:only-of-type {\n        vertical-align: middle;\n    }\n\n    .dataframe tbody tr th {\n        vertical-align: top;\n    }\n\n    .dataframe thead th {\n        text-align: right;\n    }\n</style>\n<table border=\"1\" class=\"dataframe\">\n  <thead>\n    <tr style=\"text-align: right;\">\n      <th></th>\n      <th>Motor</th>\n      <th>Ano</th>\n      <th>Quilometragem</th>\n      <th>Zero_km</th>\n      <th>Acessórios</th>\n      <th>Valor</th>\n    </tr>\n    <tr>\n      <th>Nome</th>\n      <th></th>\n      <th></th>\n      <th></th>\n      <th></th>\n      <th></th>\n      <th></th>\n    </tr>\n  </thead>\n  <tbody>\n    <tr>\n      <th>Passat</th>\n      <td>Motor Diesel</td>\n      <td>1991</td>\n      <td>5712.0</td>\n      <td>False</td>\n      <td>['Central multimídia', 'Teto panorâmico', 'Fre...</td>\n      <td>106161.94</td>\n    </tr>\n    <tr>\n      <th>Effa Hafei Picape Baú</th>\n      <td>Motor Diesel</td>\n      <td>1991</td>\n      <td>102959.0</td>\n      <td>False</td>\n      <td>['Controle de estabilidade', 'Painel digital',...</td>\n      <td>125684.65</td>\n    </tr>\n    <tr>\n      <th>Sorento</th>\n      <td>Motor Diesel</td>\n      <td>2019</td>\n      <td>NaN</td>\n      <td>True</td>\n      <td>['Sensor de chuva', 'Câmera de estacionamento'...</td>\n      <td>81399.35</td>\n    </tr>\n    <tr>\n      <th>New Fiesta Hatch</th>\n      <td>Motor Diesel</td>\n      <td>2017</td>\n      <td>118895.0</td>\n      <td>False</td>\n      <td>['Sensor de estacionamento', 'Travas elétricas...</td>\n      <td>66007.16</td>\n    </tr>\n    <tr>\n      <th>Kangoo Express</th>\n      <td>Motor Diesel</td>\n      <td>2007</td>\n      <td>29132.0</td>\n      <td>False</td>\n      <td>['Bancos de couro', 'Câmbio automático', 'Pilo...</td>\n      <td>146716.91</td>\n    </tr>\n    <tr>\n      <th>Fit</th>\n      <td>Motor Diesel</td>\n      <td>2013</td>\n      <td>44329.0</td>\n      <td>False</td>\n      <td>['Freios ABS', 'Câmera de estacionamento', 'Câ...</td>\n      <td>77836.23</td>\n    </tr>\n    <tr>\n      <th>Cielo Hatch</th>\n      <td>Motor Diesel</td>\n      <td>2019</td>\n      <td>NaN</td>\n      <td>True</td>\n      <td>['Painel digital', 'Central multimídia', 'Câme...</td>\n      <td>145197.70</td>\n    </tr>\n    <tr>\n      <th>Symbol</th>\n      <td>Motor Diesel</td>\n      <td>2016</td>\n      <td>117714.0</td>\n      <td>False</td>\n      <td>['4 X 4', 'Piloto automático', 'Sensor crepusc...</td>\n      <td>133030.60</td>\n    </tr>\n    <tr>\n      <th>A4 Sedan</th>\n      <td>Motor Diesel</td>\n      <td>2002</td>\n      <td>30511.0</td>\n      <td>False</td>\n      <td>['Câmera de estacionamento', '4 X 4', 'Travas ...</td>\n      <td>96369.04</td>\n    </tr>\n    <tr>\n      <th>A4 Avant</th>\n      <td>Motor Diesel</td>\n      <td>2014</td>\n      <td>17357.0</td>\n      <td>False</td>\n      <td>['Teto panorâmico', '4 X 4', 'Bancos de couro'...</td>\n      <td>138946.88</td>\n    </tr>\n    <tr>\n      <th>Silver Shadow</th>\n      <td>Motor Diesel</td>\n      <td>2015</td>\n      <td>99052.0</td>\n      <td>False</td>\n      <td>['4 X 4', 'Central multimídia', 'Ar condiciona...</td>\n      <td>143568.22</td>\n    </tr>\n    <tr>\n      <th>Camry</th>\n      <td>Motor Diesel</td>\n      <td>2019</td>\n      <td>NaN</td>\n      <td>True</td>\n      <td>['Travas elétricas', 'Rodas de liga', 'Sensor ...</td>\n      <td>138597.27</td>\n    </tr>\n    <tr>\n      <th>Clio</th>\n      <td>Motor Diesel</td>\n      <td>1990</td>\n      <td>66437.0</td>\n      <td>False</td>\n      <td>['4 X 4', 'Câmbio automático', 'Freios ABS', '...</td>\n      <td>111130.33</td>\n    </tr>\n    <tr>\n      <th>Série 3 M3 Coupé</th>\n      <td>Motor Diesel</td>\n      <td>2013</td>\n      <td>19896.0</td>\n      <td>False</td>\n      <td>['Bancos de couro', 'Sensor de chuva', 'Ar con...</td>\n      <td>69219.89</td>\n    </tr>\n    <tr>\n      <th>Gallardo LP 560 – 4</th>\n      <td>Motor Diesel</td>\n      <td>2000</td>\n      <td>113045.0</td>\n      <td>False</td>\n      <td>['Freios ABS', 'Teto panorâmico', 'Central mul...</td>\n      <td>144118.91</td>\n    </tr>\n    <tr>\n      <th>Chana Utility</th>\n      <td>Motor Diesel</td>\n      <td>2009</td>\n      <td>52034.0</td>\n      <td>False</td>\n      <td>['Ar condicionado', 'Sensor de estacionamento'...</td>\n      <td>132662.32</td>\n    </tr>\n    <tr>\n      <th>TT Roadster</th>\n      <td>Motor Diesel</td>\n      <td>1998</td>\n      <td>107392.0</td>\n      <td>False</td>\n      <td>['Ar condicionado', 'Sensor de estacionamento'...</td>\n      <td>85311.40</td>\n    </tr>\n    <tr>\n      <th>Aston Martin Virage</th>\n      <td>Motor Diesel</td>\n      <td>2019</td>\n      <td>NaN</td>\n      <td>True</td>\n      <td>['Travas elétricas', 'Controle de tração', 'Câ...</td>\n      <td>97290.18</td>\n    </tr>\n    <tr>\n      <th>Sandero</th>\n      <td>Motor Diesel</td>\n      <td>2015</td>\n      <td>34783.0</td>\n      <td>False</td>\n      <td>['Piloto automático', 'Teto panorâmico', 'Câmb...</td>\n      <td>112350.61</td>\n    </tr>\n    <tr>\n      <th>XKR</th>\n      <td>Motor Diesel</td>\n      <td>1996</td>\n      <td>85127.0</td>\n      <td>False</td>\n      <td>['Controle de tração', 'Ar condicionado', 'Tra...</td>\n      <td>54263.16</td>\n    </tr>\n    <tr>\n      <th>X5</th>\n      <td>Motor Diesel</td>\n      <td>2002</td>\n      <td>13606.0</td>\n      <td>False</td>\n      <td>['Controle de tração', 'Piloto automático', 'T...</td>\n      <td>62041.32</td>\n    </tr>\n    <tr>\n      <th>Dodge Dakota</th>\n      <td>Motor Diesel</td>\n      <td>1993</td>\n      <td>71544.0</td>\n      <td>False</td>\n      <td>['Controle de tração', 'Sensor de estacionamen...</td>\n      <td>141083.35</td>\n    </tr>\n    <tr>\n      <th>i30 CW</th>\n      <td>Motor Diesel</td>\n      <td>2015</td>\n      <td>8497.0</td>\n      <td>False</td>\n      <td>['Sensor de chuva', 'Vidros elétricos', 'Contr...</td>\n      <td>73311.75</td>\n    </tr>\n    <tr>\n      <th>Série 7 Sedã</th>\n      <td>Motor Diesel</td>\n      <td>2019</td>\n      <td>NaN</td>\n      <td>True</td>\n      <td>['Vidros elétricos', 'Travas elétricas', 'Roda...</td>\n      <td>67539.79</td>\n    </tr>\n    <tr>\n      <th>V60</th>\n      <td>Motor Diesel</td>\n      <td>2004</td>\n      <td>91840.0</td>\n      <td>False</td>\n      <td>['Rodas de liga', 'Sensor crepuscular', 'Ar co...</td>\n      <td>114728.74</td>\n    </tr>\n    <tr>\n      <th>Aston Martin DB5</th>\n      <td>Motor Diesel</td>\n      <td>1996</td>\n      <td>7685.0</td>\n      <td>False</td>\n      <td>['Ar condicionado', '4 X 4', 'Câmbio automátic...</td>\n      <td>122110.90</td>\n    </tr>\n  </tbody>\n</table>\n</div>"
     },
     "execution_count": 148,
     "metadata": {},
     "output_type": "execute_result"
    }
   ]
  },
  {
   "cell_type": "code",
   "metadata": {
    "id": "OZC8NAn6D1BX",
    "colab_type": "code",
    "colab": {
     "base_uri": "https://localhost:8080/",
     "height": 235
    },
    "outputId": "1dca68ae-7063-4ae4-bc9e-eb9d803c732b",
    "pycharm": {
     "name": "#%%\n"
    }
   },
   "source": [
    "dataset[(dataset.Motor == 'Motor Diesel') & (dataset.Zero_km == True)]"
   ],
   "execution_count": 149,
   "outputs": [
    {
     "data": {
      "text/plain": "                            Motor   Ano  Quilometragem  Zero_km  \\\nNome                                                              \nSorento              Motor Diesel  2019            NaN     True   \nCielo Hatch          Motor Diesel  2019            NaN     True   \nCamry                Motor Diesel  2019            NaN     True   \nAston Martin Virage  Motor Diesel  2019            NaN     True   \nSérie 7 Sedã         Motor Diesel  2019            NaN     True   \n\n                                                            Acessórios  \\\nNome                                                                     \nSorento              ['Sensor de chuva', 'Câmera de estacionamento'...   \nCielo Hatch          ['Painel digital', 'Central multimídia', 'Câme...   \nCamry                ['Travas elétricas', 'Rodas de liga', 'Sensor ...   \nAston Martin Virage  ['Travas elétricas', 'Controle de tração', 'Câ...   \nSérie 7 Sedã         ['Vidros elétricos', 'Travas elétricas', 'Roda...   \n\n                         Valor  \nNome                            \nSorento               81399.35  \nCielo Hatch          145197.70  \nCamry                138597.27  \nAston Martin Virage   97290.18  \nSérie 7 Sedã          67539.79  ",
      "text/html": "<div>\n<style scoped>\n    .dataframe tbody tr th:only-of-type {\n        vertical-align: middle;\n    }\n\n    .dataframe tbody tr th {\n        vertical-align: top;\n    }\n\n    .dataframe thead th {\n        text-align: right;\n    }\n</style>\n<table border=\"1\" class=\"dataframe\">\n  <thead>\n    <tr style=\"text-align: right;\">\n      <th></th>\n      <th>Motor</th>\n      <th>Ano</th>\n      <th>Quilometragem</th>\n      <th>Zero_km</th>\n      <th>Acessórios</th>\n      <th>Valor</th>\n    </tr>\n    <tr>\n      <th>Nome</th>\n      <th></th>\n      <th></th>\n      <th></th>\n      <th></th>\n      <th></th>\n      <th></th>\n    </tr>\n  </thead>\n  <tbody>\n    <tr>\n      <th>Sorento</th>\n      <td>Motor Diesel</td>\n      <td>2019</td>\n      <td>NaN</td>\n      <td>True</td>\n      <td>['Sensor de chuva', 'Câmera de estacionamento'...</td>\n      <td>81399.35</td>\n    </tr>\n    <tr>\n      <th>Cielo Hatch</th>\n      <td>Motor Diesel</td>\n      <td>2019</td>\n      <td>NaN</td>\n      <td>True</td>\n      <td>['Painel digital', 'Central multimídia', 'Câme...</td>\n      <td>145197.70</td>\n    </tr>\n    <tr>\n      <th>Camry</th>\n      <td>Motor Diesel</td>\n      <td>2019</td>\n      <td>NaN</td>\n      <td>True</td>\n      <td>['Travas elétricas', 'Rodas de liga', 'Sensor ...</td>\n      <td>138597.27</td>\n    </tr>\n    <tr>\n      <th>Aston Martin Virage</th>\n      <td>Motor Diesel</td>\n      <td>2019</td>\n      <td>NaN</td>\n      <td>True</td>\n      <td>['Travas elétricas', 'Controle de tração', 'Câ...</td>\n      <td>97290.18</td>\n    </tr>\n    <tr>\n      <th>Série 7 Sedã</th>\n      <td>Motor Diesel</td>\n      <td>2019</td>\n      <td>NaN</td>\n      <td>True</td>\n      <td>['Vidros elétricos', 'Travas elétricas', 'Roda...</td>\n      <td>67539.79</td>\n    </tr>\n  </tbody>\n</table>\n</div>"
     },
     "execution_count": 149,
     "metadata": {},
     "output_type": "execute_result"
    }
   ]
  },
  {
   "cell_type": "code",
   "metadata": {
    "scrolled": true,
    "id": "OzXC2M40D1BY",
    "colab_type": "code",
    "colab": {
     "base_uri": "https://localhost:8080/",
     "height": 238
    },
    "outputId": "582c9da1-7502-4adf-beb6-33284eb2868f",
    "pycharm": {
     "name": "#%%\n"
    }
   },
   "source": [
    "(dataset.Motor == 'Motor Diesel') & (dataset.Zero_km == True)"
   ],
   "execution_count": 150,
   "outputs": [
    {
     "data": {
      "text/plain": "Nome\nJetta Variant            False\nPassat                   False\nCrossfox                 False\nDS5                      False\nAston Martin DB4         False\n                         ...  \nPhantom 2013             False\nCadillac Ciel concept    False\nClasse GLK               False\nAston Martin DB5         False\nMacan                    False\nLength: 258, dtype: bool"
     },
     "execution_count": 150,
     "metadata": {},
     "output_type": "execute_result"
    }
   ]
  },
  {
   "cell_type": "markdown",
   "metadata": {
    "id": "_XKXcWO-D1BY",
    "colab_type": "text",
    "pycharm": {
     "name": "#%% md\n"
    }
   },
   "source": [
    "### Utilizando o método query"
   ]
  },
  {
   "cell_type": "code",
   "metadata": {
    "id": "AB9JirSoD1BY",
    "colab_type": "code",
    "colab": {
     "base_uri": "https://localhost:8080/",
     "height": 235
    },
    "outputId": "7b4609e9-b36f-4f67-e0f2-0adbe842ace6",
    "pycharm": {
     "name": "#%%\n"
    }
   },
   "source": [
    "dataset.query('Motor == \"Motor Diesel\" and Zero_km == True')"
   ],
   "execution_count": 151,
   "outputs": [
    {
     "data": {
      "text/plain": "                            Motor   Ano  Quilometragem  Zero_km  \\\nNome                                                              \nSorento              Motor Diesel  2019            NaN     True   \nCielo Hatch          Motor Diesel  2019            NaN     True   \nCamry                Motor Diesel  2019            NaN     True   \nAston Martin Virage  Motor Diesel  2019            NaN     True   \nSérie 7 Sedã         Motor Diesel  2019            NaN     True   \n\n                                                            Acessórios  \\\nNome                                                                     \nSorento              ['Sensor de chuva', 'Câmera de estacionamento'...   \nCielo Hatch          ['Painel digital', 'Central multimídia', 'Câme...   \nCamry                ['Travas elétricas', 'Rodas de liga', 'Sensor ...   \nAston Martin Virage  ['Travas elétricas', 'Controle de tração', 'Câ...   \nSérie 7 Sedã         ['Vidros elétricos', 'Travas elétricas', 'Roda...   \n\n                         Valor  \nNome                            \nSorento               81399.35  \nCielo Hatch          145197.70  \nCamry                138597.27  \nAston Martin Virage   97290.18  \nSérie 7 Sedã          67539.79  ",
      "text/html": "<div>\n<style scoped>\n    .dataframe tbody tr th:only-of-type {\n        vertical-align: middle;\n    }\n\n    .dataframe tbody tr th {\n        vertical-align: top;\n    }\n\n    .dataframe thead th {\n        text-align: right;\n    }\n</style>\n<table border=\"1\" class=\"dataframe\">\n  <thead>\n    <tr style=\"text-align: right;\">\n      <th></th>\n      <th>Motor</th>\n      <th>Ano</th>\n      <th>Quilometragem</th>\n      <th>Zero_km</th>\n      <th>Acessórios</th>\n      <th>Valor</th>\n    </tr>\n    <tr>\n      <th>Nome</th>\n      <th></th>\n      <th></th>\n      <th></th>\n      <th></th>\n      <th></th>\n      <th></th>\n    </tr>\n  </thead>\n  <tbody>\n    <tr>\n      <th>Sorento</th>\n      <td>Motor Diesel</td>\n      <td>2019</td>\n      <td>NaN</td>\n      <td>True</td>\n      <td>['Sensor de chuva', 'Câmera de estacionamento'...</td>\n      <td>81399.35</td>\n    </tr>\n    <tr>\n      <th>Cielo Hatch</th>\n      <td>Motor Diesel</td>\n      <td>2019</td>\n      <td>NaN</td>\n      <td>True</td>\n      <td>['Painel digital', 'Central multimídia', 'Câme...</td>\n      <td>145197.70</td>\n    </tr>\n    <tr>\n      <th>Camry</th>\n      <td>Motor Diesel</td>\n      <td>2019</td>\n      <td>NaN</td>\n      <td>True</td>\n      <td>['Travas elétricas', 'Rodas de liga', 'Sensor ...</td>\n      <td>138597.27</td>\n    </tr>\n    <tr>\n      <th>Aston Martin Virage</th>\n      <td>Motor Diesel</td>\n      <td>2019</td>\n      <td>NaN</td>\n      <td>True</td>\n      <td>['Travas elétricas', 'Controle de tração', 'Câ...</td>\n      <td>97290.18</td>\n    </tr>\n    <tr>\n      <th>Série 7 Sedã</th>\n      <td>Motor Diesel</td>\n      <td>2019</td>\n      <td>NaN</td>\n      <td>True</td>\n      <td>['Vidros elétricos', 'Travas elétricas', 'Roda...</td>\n      <td>67539.79</td>\n    </tr>\n  </tbody>\n</table>\n</div>"
     },
     "execution_count": 151,
     "metadata": {},
     "output_type": "execute_result"
    }
   ]
  },
  {
   "cell_type": "markdown",
   "metadata": {
    "id": "ciJ4dw_FD1BZ",
    "colab_type": "text",
    "pycharm": {
     "name": "#%% md\n"
    }
   },
   "source": [
    "# 5.4 Iterando com DataFrames"
   ]
  },
  {
   "cell_type": "code",
   "metadata": {
    "id": "X5okdSDAQecV",
    "colab_type": "code",
    "colab": {
     "base_uri": "https://localhost:8080/",
     "height": 235
    },
    "outputId": "cd38b0f2-e9b8-49c2-8c27-6691cf7a6408",
    "pycharm": {
     "name": "#%%\n"
    }
   },
   "source": [
    "dataset.head()"
   ],
   "execution_count": 152,
   "outputs": [
    {
     "data": {
      "text/plain": "                            Motor   Ano  Quilometragem  Zero_km  \\\nNome                                                              \nJetta Variant     Motor 4.0 Turbo  2003        44410.0    False   \nPassat               Motor Diesel  1991         5712.0    False   \nCrossfox          Motor Diesel V8  1990        37123.0    False   \nDS5               Motor 2.4 Turbo  2019            NaN     True   \nAston Martin DB4  Motor 2.4 Turbo  2006        25757.0    False   \n\n                                                         Acessórios      Valor  \nNome                                                                            \nJetta Variant     ['Rodas de liga', 'Travas elétricas', 'Piloto ...   88078.64  \nPassat            ['Central multimídia', 'Teto panorâmico', 'Fre...  106161.94  \nCrossfox          ['Piloto automático', 'Controle de estabilidad...   72832.16  \nDS5               ['Travas elétricas', '4 X 4', 'Vidros elétrico...  124549.07  \nAston Martin DB4  ['Rodas de liga', '4 X 4', 'Central multimídia...   92612.10  ",
      "text/html": "<div>\n<style scoped>\n    .dataframe tbody tr th:only-of-type {\n        vertical-align: middle;\n    }\n\n    .dataframe tbody tr th {\n        vertical-align: top;\n    }\n\n    .dataframe thead th {\n        text-align: right;\n    }\n</style>\n<table border=\"1\" class=\"dataframe\">\n  <thead>\n    <tr style=\"text-align: right;\">\n      <th></th>\n      <th>Motor</th>\n      <th>Ano</th>\n      <th>Quilometragem</th>\n      <th>Zero_km</th>\n      <th>Acessórios</th>\n      <th>Valor</th>\n    </tr>\n    <tr>\n      <th>Nome</th>\n      <th></th>\n      <th></th>\n      <th></th>\n      <th></th>\n      <th></th>\n      <th></th>\n    </tr>\n  </thead>\n  <tbody>\n    <tr>\n      <th>Jetta Variant</th>\n      <td>Motor 4.0 Turbo</td>\n      <td>2003</td>\n      <td>44410.0</td>\n      <td>False</td>\n      <td>['Rodas de liga', 'Travas elétricas', 'Piloto ...</td>\n      <td>88078.64</td>\n    </tr>\n    <tr>\n      <th>Passat</th>\n      <td>Motor Diesel</td>\n      <td>1991</td>\n      <td>5712.0</td>\n      <td>False</td>\n      <td>['Central multimídia', 'Teto panorâmico', 'Fre...</td>\n      <td>106161.94</td>\n    </tr>\n    <tr>\n      <th>Crossfox</th>\n      <td>Motor Diesel V8</td>\n      <td>1990</td>\n      <td>37123.0</td>\n      <td>False</td>\n      <td>['Piloto automático', 'Controle de estabilidad...</td>\n      <td>72832.16</td>\n    </tr>\n    <tr>\n      <th>DS5</th>\n      <td>Motor 2.4 Turbo</td>\n      <td>2019</td>\n      <td>NaN</td>\n      <td>True</td>\n      <td>['Travas elétricas', '4 X 4', 'Vidros elétrico...</td>\n      <td>124549.07</td>\n    </tr>\n    <tr>\n      <th>Aston Martin DB4</th>\n      <td>Motor 2.4 Turbo</td>\n      <td>2006</td>\n      <td>25757.0</td>\n      <td>False</td>\n      <td>['Rodas de liga', '4 X 4', 'Central multimídia...</td>\n      <td>92612.10</td>\n    </tr>\n  </tbody>\n</table>\n</div>"
     },
     "execution_count": 152,
     "metadata": {},
     "output_type": "execute_result"
    }
   ]
  },
  {
   "cell_type": "code",
   "metadata": {
    "id": "TKAB-g5KD1BZ",
    "colab_type": "code",
    "colab": {
     "base_uri": "https://localhost:8080/",
     "height": 119
    },
    "outputId": "7ed45da4-92b5-4fd5-bb8c-21a23b932e2f",
    "pycharm": {
     "name": "#%%\n"
    }
   },
   "source": [
    "for item in dataset:\n",
    "  print(item)"
   ],
   "execution_count": 153,
   "outputs": [
    {
     "name": "stdout",
     "output_type": "stream",
     "text": [
      "Motor\n",
      "Ano\n",
      "Quilometragem\n",
      "Zero_km\n",
      "Acessórios\n",
      "Valor\n"
     ]
    }
   ]
  },
  {
   "cell_type": "code",
   "metadata": {
    "id": "eFTNtPRWD1Ba",
    "colab_type": "code",
    "colab": {
     "base_uri": "https://localhost:8080/",
     "height": 450
    },
    "outputId": "1135be5a-dd4c-436c-8b0d-b1d8258760d4",
    "pycharm": {
     "name": "#%%\n"
    }
   },
   "source": [
    "for index, row in dataset.iterrows():\n",
    "  if(2019 - row['Ano'] != 0):\n",
    "    dataset.loc[index, 'Km_media'] = row['Quilometragem'] / (2019 - row['Ano'])\n",
    "  else:\n",
    "    dataset.loc[index, 'Km_media'] = 0\n",
    "    \n",
    "dataset"
   ],
   "execution_count": 154,
   "outputs": [
    {
     "data": {
      "text/plain": "                                       Motor   Ano  Quilometragem  Zero_km  \\\nNome                                                                         \nJetta Variant                Motor 4.0 Turbo  2003        44410.0    False   \nPassat                          Motor Diesel  1991         5712.0    False   \nCrossfox                     Motor Diesel V8  1990        37123.0    False   \nDS5                          Motor 2.4 Turbo  2019            NaN     True   \nAston Martin DB4             Motor 2.4 Turbo  2006        25757.0    False   \n...                                      ...   ...            ...      ...   \nPhantom 2013                        Motor V8  2014        27505.0    False   \nCadillac Ciel concept               Motor V8  1991        29981.0    False   \nClasse GLK             Motor 5.0 V8 Bi-Turbo  2002        52637.0    False   \nAston Martin DB5                Motor Diesel  1996         7685.0    False   \nMacan                        Motor Diesel V6  1992        50188.0    False   \n\n                                                              Acessórios  \\\nNome                                                                       \nJetta Variant          ['Rodas de liga', 'Travas elétricas', 'Piloto ...   \nPassat                 ['Central multimídia', 'Teto panorâmico', 'Fre...   \nCrossfox               ['Piloto automático', 'Controle de estabilidad...   \nDS5                    ['Travas elétricas', '4 X 4', 'Vidros elétrico...   \nAston Martin DB4       ['Rodas de liga', '4 X 4', 'Central multimídia...   \n...                                                                  ...   \nPhantom 2013           ['Controle de estabilidade', 'Piloto automátic...   \nCadillac Ciel concept  ['Bancos de couro', 'Painel digital', 'Sensor ...   \nClasse GLK             ['Rodas de liga', 'Controle de tração', 'Câmbi...   \nAston Martin DB5       ['Ar condicionado', '4 X 4', 'Câmbio automátic...   \nMacan                  ['Central multimídia', 'Teto panorâmico', 'Vid...   \n\n                           Valor     Km_media  \nNome                                           \nJetta Variant           88078.64  2775.625000  \nPassat                 106161.94   204.000000  \nCrossfox                72832.16  1280.103448  \nDS5                    124549.07     0.000000  \nAston Martin DB4        92612.10  1981.307692  \n...                          ...          ...  \nPhantom 2013            51759.58  5501.000000  \nCadillac Ciel concept   51667.06  1070.750000  \nClasse GLK              68934.03  3096.294118  \nAston Martin DB5       122110.90   334.130435  \nMacan                   90381.47  1858.814815  \n\n[258 rows x 7 columns]",
      "text/html": "<div>\n<style scoped>\n    .dataframe tbody tr th:only-of-type {\n        vertical-align: middle;\n    }\n\n    .dataframe tbody tr th {\n        vertical-align: top;\n    }\n\n    .dataframe thead th {\n        text-align: right;\n    }\n</style>\n<table border=\"1\" class=\"dataframe\">\n  <thead>\n    <tr style=\"text-align: right;\">\n      <th></th>\n      <th>Motor</th>\n      <th>Ano</th>\n      <th>Quilometragem</th>\n      <th>Zero_km</th>\n      <th>Acessórios</th>\n      <th>Valor</th>\n      <th>Km_media</th>\n    </tr>\n    <tr>\n      <th>Nome</th>\n      <th></th>\n      <th></th>\n      <th></th>\n      <th></th>\n      <th></th>\n      <th></th>\n      <th></th>\n    </tr>\n  </thead>\n  <tbody>\n    <tr>\n      <th>Jetta Variant</th>\n      <td>Motor 4.0 Turbo</td>\n      <td>2003</td>\n      <td>44410.0</td>\n      <td>False</td>\n      <td>['Rodas de liga', 'Travas elétricas', 'Piloto ...</td>\n      <td>88078.64</td>\n      <td>2775.625000</td>\n    </tr>\n    <tr>\n      <th>Passat</th>\n      <td>Motor Diesel</td>\n      <td>1991</td>\n      <td>5712.0</td>\n      <td>False</td>\n      <td>['Central multimídia', 'Teto panorâmico', 'Fre...</td>\n      <td>106161.94</td>\n      <td>204.000000</td>\n    </tr>\n    <tr>\n      <th>Crossfox</th>\n      <td>Motor Diesel V8</td>\n      <td>1990</td>\n      <td>37123.0</td>\n      <td>False</td>\n      <td>['Piloto automático', 'Controle de estabilidad...</td>\n      <td>72832.16</td>\n      <td>1280.103448</td>\n    </tr>\n    <tr>\n      <th>DS5</th>\n      <td>Motor 2.4 Turbo</td>\n      <td>2019</td>\n      <td>NaN</td>\n      <td>True</td>\n      <td>['Travas elétricas', '4 X 4', 'Vidros elétrico...</td>\n      <td>124549.07</td>\n      <td>0.000000</td>\n    </tr>\n    <tr>\n      <th>Aston Martin DB4</th>\n      <td>Motor 2.4 Turbo</td>\n      <td>2006</td>\n      <td>25757.0</td>\n      <td>False</td>\n      <td>['Rodas de liga', '4 X 4', 'Central multimídia...</td>\n      <td>92612.10</td>\n      <td>1981.307692</td>\n    </tr>\n    <tr>\n      <th>...</th>\n      <td>...</td>\n      <td>...</td>\n      <td>...</td>\n      <td>...</td>\n      <td>...</td>\n      <td>...</td>\n      <td>...</td>\n    </tr>\n    <tr>\n      <th>Phantom 2013</th>\n      <td>Motor V8</td>\n      <td>2014</td>\n      <td>27505.0</td>\n      <td>False</td>\n      <td>['Controle de estabilidade', 'Piloto automátic...</td>\n      <td>51759.58</td>\n      <td>5501.000000</td>\n    </tr>\n    <tr>\n      <th>Cadillac Ciel concept</th>\n      <td>Motor V8</td>\n      <td>1991</td>\n      <td>29981.0</td>\n      <td>False</td>\n      <td>['Bancos de couro', 'Painel digital', 'Sensor ...</td>\n      <td>51667.06</td>\n      <td>1070.750000</td>\n    </tr>\n    <tr>\n      <th>Classe GLK</th>\n      <td>Motor 5.0 V8 Bi-Turbo</td>\n      <td>2002</td>\n      <td>52637.0</td>\n      <td>False</td>\n      <td>['Rodas de liga', 'Controle de tração', 'Câmbi...</td>\n      <td>68934.03</td>\n      <td>3096.294118</td>\n    </tr>\n    <tr>\n      <th>Aston Martin DB5</th>\n      <td>Motor Diesel</td>\n      <td>1996</td>\n      <td>7685.0</td>\n      <td>False</td>\n      <td>['Ar condicionado', '4 X 4', 'Câmbio automátic...</td>\n      <td>122110.90</td>\n      <td>334.130435</td>\n    </tr>\n    <tr>\n      <th>Macan</th>\n      <td>Motor Diesel V6</td>\n      <td>1992</td>\n      <td>50188.0</td>\n      <td>False</td>\n      <td>['Central multimídia', 'Teto panorâmico', 'Vid...</td>\n      <td>90381.47</td>\n      <td>1858.814815</td>\n    </tr>\n  </tbody>\n</table>\n<p>258 rows × 7 columns</p>\n</div>"
     },
     "execution_count": 154,
     "metadata": {},
     "output_type": "execute_result"
    }
   ]
  },
  {
   "cell_type": "markdown",
   "metadata": {
    "id": "HnUzHFQPD1Ba",
    "colab_type": "text",
    "pycharm": {
     "name": "#%% md\n"
    }
   },
   "source": [
    "# 5.5 Tratamento de dados"
   ]
  },
  {
   "cell_type": "code",
   "metadata": {
    "id": "FRxBWoBGD1Ba",
    "colab_type": "code",
    "colab": {
     "base_uri": "https://localhost:8080/",
     "height": 235
    },
    "outputId": "4e0a3c2e-8724-43c5-aa28-d1e41f4c6f60",
    "pycharm": {
     "name": "#%%\n"
    }
   },
   "source": [
    "dataset.head()"
   ],
   "execution_count": 155,
   "outputs": [
    {
     "data": {
      "text/plain": "                            Motor   Ano  Quilometragem  Zero_km  \\\nNome                                                              \nJetta Variant     Motor 4.0 Turbo  2003        44410.0    False   \nPassat               Motor Diesel  1991         5712.0    False   \nCrossfox          Motor Diesel V8  1990        37123.0    False   \nDS5               Motor 2.4 Turbo  2019            NaN     True   \nAston Martin DB4  Motor 2.4 Turbo  2006        25757.0    False   \n\n                                                         Acessórios  \\\nNome                                                                  \nJetta Variant     ['Rodas de liga', 'Travas elétricas', 'Piloto ...   \nPassat            ['Central multimídia', 'Teto panorâmico', 'Fre...   \nCrossfox          ['Piloto automático', 'Controle de estabilidad...   \nDS5               ['Travas elétricas', '4 X 4', 'Vidros elétrico...   \nAston Martin DB4  ['Rodas de liga', '4 X 4', 'Central multimídia...   \n\n                      Valor     Km_media  \nNome                                      \nJetta Variant      88078.64  2775.625000  \nPassat            106161.94   204.000000  \nCrossfox           72832.16  1280.103448  \nDS5               124549.07     0.000000  \nAston Martin DB4   92612.10  1981.307692  ",
      "text/html": "<div>\n<style scoped>\n    .dataframe tbody tr th:only-of-type {\n        vertical-align: middle;\n    }\n\n    .dataframe tbody tr th {\n        vertical-align: top;\n    }\n\n    .dataframe thead th {\n        text-align: right;\n    }\n</style>\n<table border=\"1\" class=\"dataframe\">\n  <thead>\n    <tr style=\"text-align: right;\">\n      <th></th>\n      <th>Motor</th>\n      <th>Ano</th>\n      <th>Quilometragem</th>\n      <th>Zero_km</th>\n      <th>Acessórios</th>\n      <th>Valor</th>\n      <th>Km_media</th>\n    </tr>\n    <tr>\n      <th>Nome</th>\n      <th></th>\n      <th></th>\n      <th></th>\n      <th></th>\n      <th></th>\n      <th></th>\n      <th></th>\n    </tr>\n  </thead>\n  <tbody>\n    <tr>\n      <th>Jetta Variant</th>\n      <td>Motor 4.0 Turbo</td>\n      <td>2003</td>\n      <td>44410.0</td>\n      <td>False</td>\n      <td>['Rodas de liga', 'Travas elétricas', 'Piloto ...</td>\n      <td>88078.64</td>\n      <td>2775.625000</td>\n    </tr>\n    <tr>\n      <th>Passat</th>\n      <td>Motor Diesel</td>\n      <td>1991</td>\n      <td>5712.0</td>\n      <td>False</td>\n      <td>['Central multimídia', 'Teto panorâmico', 'Fre...</td>\n      <td>106161.94</td>\n      <td>204.000000</td>\n    </tr>\n    <tr>\n      <th>Crossfox</th>\n      <td>Motor Diesel V8</td>\n      <td>1990</td>\n      <td>37123.0</td>\n      <td>False</td>\n      <td>['Piloto automático', 'Controle de estabilidad...</td>\n      <td>72832.16</td>\n      <td>1280.103448</td>\n    </tr>\n    <tr>\n      <th>DS5</th>\n      <td>Motor 2.4 Turbo</td>\n      <td>2019</td>\n      <td>NaN</td>\n      <td>True</td>\n      <td>['Travas elétricas', '4 X 4', 'Vidros elétrico...</td>\n      <td>124549.07</td>\n      <td>0.000000</td>\n    </tr>\n    <tr>\n      <th>Aston Martin DB4</th>\n      <td>Motor 2.4 Turbo</td>\n      <td>2006</td>\n      <td>25757.0</td>\n      <td>False</td>\n      <td>['Rodas de liga', '4 X 4', 'Central multimídia...</td>\n      <td>92612.10</td>\n      <td>1981.307692</td>\n    </tr>\n  </tbody>\n</table>\n</div>"
     },
     "execution_count": 155,
     "metadata": {},
     "output_type": "execute_result"
    }
   ]
  },
  {
   "cell_type": "code",
   "metadata": {
    "id": "HHSwH0ZaD1Bc",
    "colab_type": "code",
    "colab": {
     "base_uri": "https://localhost:8080/",
     "height": 221
    },
    "outputId": "dd0ab04f-738d-4d67-d975-cd1076c32618",
    "pycharm": {
     "name": "#%%\n"
    }
   },
   "source": [
    "dataset.info()"
   ],
   "execution_count": 156,
   "outputs": [
    {
     "name": "stdout",
     "output_type": "stream",
     "text": [
      "<class 'pandas.core.frame.DataFrame'>\n",
      "Index: 258 entries, Jetta Variant to Macan\n",
      "Data columns (total 7 columns):\n",
      " #   Column         Non-Null Count  Dtype  \n",
      "---  ------         --------------  -----  \n",
      " 0   Motor          258 non-null    object \n",
      " 1   Ano            258 non-null    int64  \n",
      " 2   Quilometragem  197 non-null    float64\n",
      " 3   Zero_km        258 non-null    bool   \n",
      " 4   Acessórios     258 non-null    object \n",
      " 5   Valor          258 non-null    float64\n",
      " 6   Km_media       258 non-null    float64\n",
      "dtypes: bool(1), float64(3), int64(1), object(2)\n",
      "memory usage: 22.5+ KB\n"
     ]
    }
   ]
  },
  {
   "cell_type": "code",
   "metadata": {
    "scrolled": true,
    "id": "G27pxgZ5D1Bd",
    "colab_type": "code",
    "colab": {
     "base_uri": "https://localhost:8080/",
     "height": 238
    },
    "outputId": "7bbe4767-fa5c-49da-b596-495bbbdb598c",
    "pycharm": {
     "name": "#%%\n"
    }
   },
   "source": [
    "dataset.Quilometragem.isna()"
   ],
   "execution_count": 157,
   "outputs": [
    {
     "data": {
      "text/plain": "Nome\nJetta Variant            False\nPassat                   False\nCrossfox                 False\nDS5                       True\nAston Martin DB4         False\n                         ...  \nPhantom 2013             False\nCadillac Ciel concept    False\nClasse GLK               False\nAston Martin DB5         False\nMacan                    False\nName: Quilometragem, Length: 258, dtype: bool"
     },
     "execution_count": 157,
     "metadata": {},
     "output_type": "execute_result"
    }
   ]
  },
  {
   "cell_type": "code",
   "metadata": {
    "scrolled": true,
    "id": "DhlRbxy2D1Bd",
    "colab_type": "code",
    "colab": {
     "base_uri": "https://localhost:8080/",
     "height": 450
    },
    "outputId": "447ca6d4-8e6b-439a-9707-704ce9b0e75c",
    "pycharm": {
     "name": "#%%\n"
    }
   },
   "source": [
    "dataset[dataset.Quilometragem.isna()]"
   ],
   "execution_count": 158,
   "outputs": [
    {
     "data": {
      "text/plain": "                                Motor   Ano  Quilometragem  Zero_km  \\\nNome                                                                  \nDS5                   Motor 2.4 Turbo  2019            NaN     True   \nA5                    Motor 4.0 Turbo  2019            NaN     True   \nJ5                           Motor V6  2019            NaN     True   \nA3                       Motor 1.0 8v  2019            NaN     True   \nSérie 1 M                    Motor V8  2019            NaN     True   \n...                               ...   ...            ...      ...   \nLamborghini Reventón  Motor 4.0 Turbo  2019            NaN     True   \nBenni Mini                   Motor V8  2019            NaN     True   \nUno                   Motor Diesel V6  2019            NaN     True   \nSanta Fe                Motor 3.0 32v  2019            NaN     True   \nXC60                  Motor 4.0 Turbo  2019            NaN     True   \n\n                                                             Acessórios  \\\nNome                                                                      \nDS5                   ['Travas elétricas', '4 X 4', 'Vidros elétrico...   \nA5                    ['Câmbio automático', 'Câmera de estacionament...   \nJ5                    ['Sensor crepuscular', 'Painel digital', 'Roda...   \nA3                    ['4 X 4', 'Piloto automático', 'Central multim...   \nSérie 1 M             ['Controle de estabilidade', 'Central multimíd...   \n...                                                                 ...   \nLamborghini Reventón  ['Controle de tração', 'Ar condicionado', 'Cen...   \nBenni Mini            ['Sensor crepuscular', 'Câmbio automático', 'C...   \nUno                   ['Central multimídia', 'Sensor crepuscular', '...   \nSanta Fe              ['Travas elétricas', 'Ar condicionado', '4 X 4...   \nXC60                  ['Painel digital', 'Piloto automático', 'Centr...   \n\n                          Valor  Km_media  \nNome                                       \nDS5                   124549.07       0.0  \nA5                     56445.20       0.0  \nJ5                     53183.38       0.0  \nA3                     88552.39       0.0  \nSérie 1 M              94564.40       0.0  \n...                         ...       ...  \nLamborghini Reventón   67664.86       0.0  \nBenni Mini            126247.84       0.0  \nUno                   128852.21       0.0  \nSanta Fe              129415.33       0.0  \nXC60                   77675.79       0.0  \n\n[61 rows x 7 columns]",
      "text/html": "<div>\n<style scoped>\n    .dataframe tbody tr th:only-of-type {\n        vertical-align: middle;\n    }\n\n    .dataframe tbody tr th {\n        vertical-align: top;\n    }\n\n    .dataframe thead th {\n        text-align: right;\n    }\n</style>\n<table border=\"1\" class=\"dataframe\">\n  <thead>\n    <tr style=\"text-align: right;\">\n      <th></th>\n      <th>Motor</th>\n      <th>Ano</th>\n      <th>Quilometragem</th>\n      <th>Zero_km</th>\n      <th>Acessórios</th>\n      <th>Valor</th>\n      <th>Km_media</th>\n    </tr>\n    <tr>\n      <th>Nome</th>\n      <th></th>\n      <th></th>\n      <th></th>\n      <th></th>\n      <th></th>\n      <th></th>\n      <th></th>\n    </tr>\n  </thead>\n  <tbody>\n    <tr>\n      <th>DS5</th>\n      <td>Motor 2.4 Turbo</td>\n      <td>2019</td>\n      <td>NaN</td>\n      <td>True</td>\n      <td>['Travas elétricas', '4 X 4', 'Vidros elétrico...</td>\n      <td>124549.07</td>\n      <td>0.0</td>\n    </tr>\n    <tr>\n      <th>A5</th>\n      <td>Motor 4.0 Turbo</td>\n      <td>2019</td>\n      <td>NaN</td>\n      <td>True</td>\n      <td>['Câmbio automático', 'Câmera de estacionament...</td>\n      <td>56445.20</td>\n      <td>0.0</td>\n    </tr>\n    <tr>\n      <th>J5</th>\n      <td>Motor V6</td>\n      <td>2019</td>\n      <td>NaN</td>\n      <td>True</td>\n      <td>['Sensor crepuscular', 'Painel digital', 'Roda...</td>\n      <td>53183.38</td>\n      <td>0.0</td>\n    </tr>\n    <tr>\n      <th>A3</th>\n      <td>Motor 1.0 8v</td>\n      <td>2019</td>\n      <td>NaN</td>\n      <td>True</td>\n      <td>['4 X 4', 'Piloto automático', 'Central multim...</td>\n      <td>88552.39</td>\n      <td>0.0</td>\n    </tr>\n    <tr>\n      <th>Série 1 M</th>\n      <td>Motor V8</td>\n      <td>2019</td>\n      <td>NaN</td>\n      <td>True</td>\n      <td>['Controle de estabilidade', 'Central multimíd...</td>\n      <td>94564.40</td>\n      <td>0.0</td>\n    </tr>\n    <tr>\n      <th>...</th>\n      <td>...</td>\n      <td>...</td>\n      <td>...</td>\n      <td>...</td>\n      <td>...</td>\n      <td>...</td>\n      <td>...</td>\n    </tr>\n    <tr>\n      <th>Lamborghini Reventón</th>\n      <td>Motor 4.0 Turbo</td>\n      <td>2019</td>\n      <td>NaN</td>\n      <td>True</td>\n      <td>['Controle de tração', 'Ar condicionado', 'Cen...</td>\n      <td>67664.86</td>\n      <td>0.0</td>\n    </tr>\n    <tr>\n      <th>Benni Mini</th>\n      <td>Motor V8</td>\n      <td>2019</td>\n      <td>NaN</td>\n      <td>True</td>\n      <td>['Sensor crepuscular', 'Câmbio automático', 'C...</td>\n      <td>126247.84</td>\n      <td>0.0</td>\n    </tr>\n    <tr>\n      <th>Uno</th>\n      <td>Motor Diesel V6</td>\n      <td>2019</td>\n      <td>NaN</td>\n      <td>True</td>\n      <td>['Central multimídia', 'Sensor crepuscular', '...</td>\n      <td>128852.21</td>\n      <td>0.0</td>\n    </tr>\n    <tr>\n      <th>Santa Fe</th>\n      <td>Motor 3.0 32v</td>\n      <td>2019</td>\n      <td>NaN</td>\n      <td>True</td>\n      <td>['Travas elétricas', 'Ar condicionado', '4 X 4...</td>\n      <td>129415.33</td>\n      <td>0.0</td>\n    </tr>\n    <tr>\n      <th>XC60</th>\n      <td>Motor 4.0 Turbo</td>\n      <td>2019</td>\n      <td>NaN</td>\n      <td>True</td>\n      <td>['Painel digital', 'Piloto automático', 'Centr...</td>\n      <td>77675.79</td>\n      <td>0.0</td>\n    </tr>\n  </tbody>\n</table>\n<p>61 rows × 7 columns</p>\n</div>"
     },
     "execution_count": 158,
     "metadata": {},
     "output_type": "execute_result"
    }
   ]
  },
  {
   "cell_type": "code",
   "metadata": {
    "id": "OL04QU5RD1Be",
    "colab_type": "code",
    "colab": {},
    "pycharm": {
     "name": "#%%\n"
    }
   },
   "source": [
    "dataset.fillna(0, inplace = True)"
   ],
   "execution_count": 159,
   "outputs": []
  },
  {
   "cell_type": "code",
   "metadata": {
    "scrolled": true,
    "id": "fTH2JkGDD1Bf",
    "colab_type": "code",
    "colab": {
     "base_uri": "https://localhost:8080/",
     "height": 450
    },
    "outputId": "b4c8495a-2077-4645-8139-20664a615b50",
    "pycharm": {
     "name": "#%%\n"
    }
   },
   "source": [
    "dataset.query(\"Zero_km == True\")"
   ],
   "execution_count": 160,
   "outputs": [
    {
     "data": {
      "text/plain": "                                Motor   Ano  Quilometragem  Zero_km  \\\nNome                                                                  \nDS5                   Motor 2.4 Turbo  2019            0.0     True   \nA5                    Motor 4.0 Turbo  2019            0.0     True   \nJ5                           Motor V6  2019            0.0     True   \nA3                       Motor 1.0 8v  2019            0.0     True   \nSérie 1 M                    Motor V8  2019            0.0     True   \n...                               ...   ...            ...      ...   \nLamborghini Reventón  Motor 4.0 Turbo  2019            0.0     True   \nBenni Mini                   Motor V8  2019            0.0     True   \nUno                   Motor Diesel V6  2019            0.0     True   \nSanta Fe                Motor 3.0 32v  2019            0.0     True   \nXC60                  Motor 4.0 Turbo  2019            0.0     True   \n\n                                                             Acessórios  \\\nNome                                                                      \nDS5                   ['Travas elétricas', '4 X 4', 'Vidros elétrico...   \nA5                    ['Câmbio automático', 'Câmera de estacionament...   \nJ5                    ['Sensor crepuscular', 'Painel digital', 'Roda...   \nA3                    ['4 X 4', 'Piloto automático', 'Central multim...   \nSérie 1 M             ['Controle de estabilidade', 'Central multimíd...   \n...                                                                 ...   \nLamborghini Reventón  ['Controle de tração', 'Ar condicionado', 'Cen...   \nBenni Mini            ['Sensor crepuscular', 'Câmbio automático', 'C...   \nUno                   ['Central multimídia', 'Sensor crepuscular', '...   \nSanta Fe              ['Travas elétricas', 'Ar condicionado', '4 X 4...   \nXC60                  ['Painel digital', 'Piloto automático', 'Centr...   \n\n                          Valor  Km_media  \nNome                                       \nDS5                   124549.07       0.0  \nA5                     56445.20       0.0  \nJ5                     53183.38       0.0  \nA3                     88552.39       0.0  \nSérie 1 M              94564.40       0.0  \n...                         ...       ...  \nLamborghini Reventón   67664.86       0.0  \nBenni Mini            126247.84       0.0  \nUno                   128852.21       0.0  \nSanta Fe              129415.33       0.0  \nXC60                   77675.79       0.0  \n\n[61 rows x 7 columns]",
      "text/html": "<div>\n<style scoped>\n    .dataframe tbody tr th:only-of-type {\n        vertical-align: middle;\n    }\n\n    .dataframe tbody tr th {\n        vertical-align: top;\n    }\n\n    .dataframe thead th {\n        text-align: right;\n    }\n</style>\n<table border=\"1\" class=\"dataframe\">\n  <thead>\n    <tr style=\"text-align: right;\">\n      <th></th>\n      <th>Motor</th>\n      <th>Ano</th>\n      <th>Quilometragem</th>\n      <th>Zero_km</th>\n      <th>Acessórios</th>\n      <th>Valor</th>\n      <th>Km_media</th>\n    </tr>\n    <tr>\n      <th>Nome</th>\n      <th></th>\n      <th></th>\n      <th></th>\n      <th></th>\n      <th></th>\n      <th></th>\n      <th></th>\n    </tr>\n  </thead>\n  <tbody>\n    <tr>\n      <th>DS5</th>\n      <td>Motor 2.4 Turbo</td>\n      <td>2019</td>\n      <td>0.0</td>\n      <td>True</td>\n      <td>['Travas elétricas', '4 X 4', 'Vidros elétrico...</td>\n      <td>124549.07</td>\n      <td>0.0</td>\n    </tr>\n    <tr>\n      <th>A5</th>\n      <td>Motor 4.0 Turbo</td>\n      <td>2019</td>\n      <td>0.0</td>\n      <td>True</td>\n      <td>['Câmbio automático', 'Câmera de estacionament...</td>\n      <td>56445.20</td>\n      <td>0.0</td>\n    </tr>\n    <tr>\n      <th>J5</th>\n      <td>Motor V6</td>\n      <td>2019</td>\n      <td>0.0</td>\n      <td>True</td>\n      <td>['Sensor crepuscular', 'Painel digital', 'Roda...</td>\n      <td>53183.38</td>\n      <td>0.0</td>\n    </tr>\n    <tr>\n      <th>A3</th>\n      <td>Motor 1.0 8v</td>\n      <td>2019</td>\n      <td>0.0</td>\n      <td>True</td>\n      <td>['4 X 4', 'Piloto automático', 'Central multim...</td>\n      <td>88552.39</td>\n      <td>0.0</td>\n    </tr>\n    <tr>\n      <th>Série 1 M</th>\n      <td>Motor V8</td>\n      <td>2019</td>\n      <td>0.0</td>\n      <td>True</td>\n      <td>['Controle de estabilidade', 'Central multimíd...</td>\n      <td>94564.40</td>\n      <td>0.0</td>\n    </tr>\n    <tr>\n      <th>...</th>\n      <td>...</td>\n      <td>...</td>\n      <td>...</td>\n      <td>...</td>\n      <td>...</td>\n      <td>...</td>\n      <td>...</td>\n    </tr>\n    <tr>\n      <th>Lamborghini Reventón</th>\n      <td>Motor 4.0 Turbo</td>\n      <td>2019</td>\n      <td>0.0</td>\n      <td>True</td>\n      <td>['Controle de tração', 'Ar condicionado', 'Cen...</td>\n      <td>67664.86</td>\n      <td>0.0</td>\n    </tr>\n    <tr>\n      <th>Benni Mini</th>\n      <td>Motor V8</td>\n      <td>2019</td>\n      <td>0.0</td>\n      <td>True</td>\n      <td>['Sensor crepuscular', 'Câmbio automático', 'C...</td>\n      <td>126247.84</td>\n      <td>0.0</td>\n    </tr>\n    <tr>\n      <th>Uno</th>\n      <td>Motor Diesel V6</td>\n      <td>2019</td>\n      <td>0.0</td>\n      <td>True</td>\n      <td>['Central multimídia', 'Sensor crepuscular', '...</td>\n      <td>128852.21</td>\n      <td>0.0</td>\n    </tr>\n    <tr>\n      <th>Santa Fe</th>\n      <td>Motor 3.0 32v</td>\n      <td>2019</td>\n      <td>0.0</td>\n      <td>True</td>\n      <td>['Travas elétricas', 'Ar condicionado', '4 X 4...</td>\n      <td>129415.33</td>\n      <td>0.0</td>\n    </tr>\n    <tr>\n      <th>XC60</th>\n      <td>Motor 4.0 Turbo</td>\n      <td>2019</td>\n      <td>0.0</td>\n      <td>True</td>\n      <td>['Painel digital', 'Piloto automático', 'Centr...</td>\n      <td>77675.79</td>\n      <td>0.0</td>\n    </tr>\n  </tbody>\n</table>\n<p>61 rows × 7 columns</p>\n</div>"
     },
     "execution_count": 160,
     "metadata": {},
     "output_type": "execute_result"
    }
   ]
  },
  {
   "cell_type": "code",
   "metadata": {
    "id": "lure2GvpD1Bg",
    "colab_type": "code",
    "colab": {},
    "pycharm": {
     "name": "#%%\n"
    }
   },
   "source": [
    "dataset = pd.read_csv('db.csv', sep = ';')"
   ],
   "execution_count": 161,
   "outputs": [
    {
     "ename": "FileNotFoundError",
     "evalue": "[Errno 2] No such file or directory: 'db.csv'",
     "output_type": "error",
     "traceback": [
      "\u001B[1;31m---------------------------------------------------------------------------\u001B[0m",
      "\u001B[1;31mFileNotFoundError\u001B[0m                         Traceback (most recent call last)",
      "Input \u001B[1;32mIn [161]\u001B[0m, in \u001B[0;36m<cell line: 1>\u001B[1;34m()\u001B[0m\n\u001B[1;32m----> 1\u001B[0m dataset \u001B[38;5;241m=\u001B[39m \u001B[43mpd\u001B[49m\u001B[38;5;241;43m.\u001B[39;49m\u001B[43mread_csv\u001B[49m\u001B[43m(\u001B[49m\u001B[38;5;124;43m'\u001B[39;49m\u001B[38;5;124;43mdb.csv\u001B[39;49m\u001B[38;5;124;43m'\u001B[39;49m\u001B[43m,\u001B[49m\u001B[43m \u001B[49m\u001B[43msep\u001B[49m\u001B[43m \u001B[49m\u001B[38;5;241;43m=\u001B[39;49m\u001B[43m \u001B[49m\u001B[38;5;124;43m'\u001B[39;49m\u001B[38;5;124;43m;\u001B[39;49m\u001B[38;5;124;43m'\u001B[39;49m\u001B[43m)\u001B[49m\n",
      "File \u001B[1;32m~\\Desktop\\Python\\Data Science\\venv\\lib\\site-packages\\pandas\\util\\_decorators.py:311\u001B[0m, in \u001B[0;36mdeprecate_nonkeyword_arguments.<locals>.decorate.<locals>.wrapper\u001B[1;34m(*args, **kwargs)\u001B[0m\n\u001B[0;32m    305\u001B[0m \u001B[38;5;28;01mif\u001B[39;00m \u001B[38;5;28mlen\u001B[39m(args) \u001B[38;5;241m>\u001B[39m num_allow_args:\n\u001B[0;32m    306\u001B[0m     warnings\u001B[38;5;241m.\u001B[39mwarn(\n\u001B[0;32m    307\u001B[0m         msg\u001B[38;5;241m.\u001B[39mformat(arguments\u001B[38;5;241m=\u001B[39marguments),\n\u001B[0;32m    308\u001B[0m         \u001B[38;5;167;01mFutureWarning\u001B[39;00m,\n\u001B[0;32m    309\u001B[0m         stacklevel\u001B[38;5;241m=\u001B[39mstacklevel,\n\u001B[0;32m    310\u001B[0m     )\n\u001B[1;32m--> 311\u001B[0m \u001B[38;5;28;01mreturn\u001B[39;00m \u001B[43mfunc\u001B[49m\u001B[43m(\u001B[49m\u001B[38;5;241;43m*\u001B[39;49m\u001B[43margs\u001B[49m\u001B[43m,\u001B[49m\u001B[43m \u001B[49m\u001B[38;5;241;43m*\u001B[39;49m\u001B[38;5;241;43m*\u001B[39;49m\u001B[43mkwargs\u001B[49m\u001B[43m)\u001B[49m\n",
      "File \u001B[1;32m~\\Desktop\\Python\\Data Science\\venv\\lib\\site-packages\\pandas\\io\\parsers\\readers.py:680\u001B[0m, in \u001B[0;36mread_csv\u001B[1;34m(filepath_or_buffer, sep, delimiter, header, names, index_col, usecols, squeeze, prefix, mangle_dupe_cols, dtype, engine, converters, true_values, false_values, skipinitialspace, skiprows, skipfooter, nrows, na_values, keep_default_na, na_filter, verbose, skip_blank_lines, parse_dates, infer_datetime_format, keep_date_col, date_parser, dayfirst, cache_dates, iterator, chunksize, compression, thousands, decimal, lineterminator, quotechar, quoting, doublequote, escapechar, comment, encoding, encoding_errors, dialect, error_bad_lines, warn_bad_lines, on_bad_lines, delim_whitespace, low_memory, memory_map, float_precision, storage_options)\u001B[0m\n\u001B[0;32m    665\u001B[0m kwds_defaults \u001B[38;5;241m=\u001B[39m _refine_defaults_read(\n\u001B[0;32m    666\u001B[0m     dialect,\n\u001B[0;32m    667\u001B[0m     delimiter,\n\u001B[1;32m   (...)\u001B[0m\n\u001B[0;32m    676\u001B[0m     defaults\u001B[38;5;241m=\u001B[39m{\u001B[38;5;124m\"\u001B[39m\u001B[38;5;124mdelimiter\u001B[39m\u001B[38;5;124m\"\u001B[39m: \u001B[38;5;124m\"\u001B[39m\u001B[38;5;124m,\u001B[39m\u001B[38;5;124m\"\u001B[39m},\n\u001B[0;32m    677\u001B[0m )\n\u001B[0;32m    678\u001B[0m kwds\u001B[38;5;241m.\u001B[39mupdate(kwds_defaults)\n\u001B[1;32m--> 680\u001B[0m \u001B[38;5;28;01mreturn\u001B[39;00m \u001B[43m_read\u001B[49m\u001B[43m(\u001B[49m\u001B[43mfilepath_or_buffer\u001B[49m\u001B[43m,\u001B[49m\u001B[43m \u001B[49m\u001B[43mkwds\u001B[49m\u001B[43m)\u001B[49m\n",
      "File \u001B[1;32m~\\Desktop\\Python\\Data Science\\venv\\lib\\site-packages\\pandas\\io\\parsers\\readers.py:575\u001B[0m, in \u001B[0;36m_read\u001B[1;34m(filepath_or_buffer, kwds)\u001B[0m\n\u001B[0;32m    572\u001B[0m _validate_names(kwds\u001B[38;5;241m.\u001B[39mget(\u001B[38;5;124m\"\u001B[39m\u001B[38;5;124mnames\u001B[39m\u001B[38;5;124m\"\u001B[39m, \u001B[38;5;28;01mNone\u001B[39;00m))\n\u001B[0;32m    574\u001B[0m \u001B[38;5;66;03m# Create the parser.\u001B[39;00m\n\u001B[1;32m--> 575\u001B[0m parser \u001B[38;5;241m=\u001B[39m \u001B[43mTextFileReader\u001B[49m\u001B[43m(\u001B[49m\u001B[43mfilepath_or_buffer\u001B[49m\u001B[43m,\u001B[49m\u001B[43m \u001B[49m\u001B[38;5;241;43m*\u001B[39;49m\u001B[38;5;241;43m*\u001B[39;49m\u001B[43mkwds\u001B[49m\u001B[43m)\u001B[49m\n\u001B[0;32m    577\u001B[0m \u001B[38;5;28;01mif\u001B[39;00m chunksize \u001B[38;5;129;01mor\u001B[39;00m iterator:\n\u001B[0;32m    578\u001B[0m     \u001B[38;5;28;01mreturn\u001B[39;00m parser\n",
      "File \u001B[1;32m~\\Desktop\\Python\\Data Science\\venv\\lib\\site-packages\\pandas\\io\\parsers\\readers.py:934\u001B[0m, in \u001B[0;36mTextFileReader.__init__\u001B[1;34m(self, f, engine, **kwds)\u001B[0m\n\u001B[0;32m    931\u001B[0m     \u001B[38;5;28mself\u001B[39m\u001B[38;5;241m.\u001B[39moptions[\u001B[38;5;124m\"\u001B[39m\u001B[38;5;124mhas_index_names\u001B[39m\u001B[38;5;124m\"\u001B[39m] \u001B[38;5;241m=\u001B[39m kwds[\u001B[38;5;124m\"\u001B[39m\u001B[38;5;124mhas_index_names\u001B[39m\u001B[38;5;124m\"\u001B[39m]\n\u001B[0;32m    933\u001B[0m \u001B[38;5;28mself\u001B[39m\u001B[38;5;241m.\u001B[39mhandles: IOHandles \u001B[38;5;241m|\u001B[39m \u001B[38;5;28;01mNone\u001B[39;00m \u001B[38;5;241m=\u001B[39m \u001B[38;5;28;01mNone\u001B[39;00m\n\u001B[1;32m--> 934\u001B[0m \u001B[38;5;28mself\u001B[39m\u001B[38;5;241m.\u001B[39m_engine \u001B[38;5;241m=\u001B[39m \u001B[38;5;28;43mself\u001B[39;49m\u001B[38;5;241;43m.\u001B[39;49m\u001B[43m_make_engine\u001B[49m\u001B[43m(\u001B[49m\u001B[43mf\u001B[49m\u001B[43m,\u001B[49m\u001B[43m \u001B[49m\u001B[38;5;28;43mself\u001B[39;49m\u001B[38;5;241;43m.\u001B[39;49m\u001B[43mengine\u001B[49m\u001B[43m)\u001B[49m\n",
      "File \u001B[1;32m~\\Desktop\\Python\\Data Science\\venv\\lib\\site-packages\\pandas\\io\\parsers\\readers.py:1218\u001B[0m, in \u001B[0;36mTextFileReader._make_engine\u001B[1;34m(self, f, engine)\u001B[0m\n\u001B[0;32m   1214\u001B[0m     mode \u001B[38;5;241m=\u001B[39m \u001B[38;5;124m\"\u001B[39m\u001B[38;5;124mrb\u001B[39m\u001B[38;5;124m\"\u001B[39m\n\u001B[0;32m   1215\u001B[0m \u001B[38;5;66;03m# error: No overload variant of \"get_handle\" matches argument types\u001B[39;00m\n\u001B[0;32m   1216\u001B[0m \u001B[38;5;66;03m# \"Union[str, PathLike[str], ReadCsvBuffer[bytes], ReadCsvBuffer[str]]\"\u001B[39;00m\n\u001B[0;32m   1217\u001B[0m \u001B[38;5;66;03m# , \"str\", \"bool\", \"Any\", \"Any\", \"Any\", \"Any\", \"Any\"\u001B[39;00m\n\u001B[1;32m-> 1218\u001B[0m \u001B[38;5;28mself\u001B[39m\u001B[38;5;241m.\u001B[39mhandles \u001B[38;5;241m=\u001B[39m \u001B[43mget_handle\u001B[49m\u001B[43m(\u001B[49m\u001B[43m  \u001B[49m\u001B[38;5;66;43;03m# type: ignore[call-overload]\u001B[39;49;00m\n\u001B[0;32m   1219\u001B[0m \u001B[43m    \u001B[49m\u001B[43mf\u001B[49m\u001B[43m,\u001B[49m\n\u001B[0;32m   1220\u001B[0m \u001B[43m    \u001B[49m\u001B[43mmode\u001B[49m\u001B[43m,\u001B[49m\n\u001B[0;32m   1221\u001B[0m \u001B[43m    \u001B[49m\u001B[43mencoding\u001B[49m\u001B[38;5;241;43m=\u001B[39;49m\u001B[38;5;28;43mself\u001B[39;49m\u001B[38;5;241;43m.\u001B[39;49m\u001B[43moptions\u001B[49m\u001B[38;5;241;43m.\u001B[39;49m\u001B[43mget\u001B[49m\u001B[43m(\u001B[49m\u001B[38;5;124;43m\"\u001B[39;49m\u001B[38;5;124;43mencoding\u001B[39;49m\u001B[38;5;124;43m\"\u001B[39;49m\u001B[43m,\u001B[49m\u001B[43m \u001B[49m\u001B[38;5;28;43;01mNone\u001B[39;49;00m\u001B[43m)\u001B[49m\u001B[43m,\u001B[49m\n\u001B[0;32m   1222\u001B[0m \u001B[43m    \u001B[49m\u001B[43mcompression\u001B[49m\u001B[38;5;241;43m=\u001B[39;49m\u001B[38;5;28;43mself\u001B[39;49m\u001B[38;5;241;43m.\u001B[39;49m\u001B[43moptions\u001B[49m\u001B[38;5;241;43m.\u001B[39;49m\u001B[43mget\u001B[49m\u001B[43m(\u001B[49m\u001B[38;5;124;43m\"\u001B[39;49m\u001B[38;5;124;43mcompression\u001B[39;49m\u001B[38;5;124;43m\"\u001B[39;49m\u001B[43m,\u001B[49m\u001B[43m \u001B[49m\u001B[38;5;28;43;01mNone\u001B[39;49;00m\u001B[43m)\u001B[49m\u001B[43m,\u001B[49m\n\u001B[0;32m   1223\u001B[0m \u001B[43m    \u001B[49m\u001B[43mmemory_map\u001B[49m\u001B[38;5;241;43m=\u001B[39;49m\u001B[38;5;28;43mself\u001B[39;49m\u001B[38;5;241;43m.\u001B[39;49m\u001B[43moptions\u001B[49m\u001B[38;5;241;43m.\u001B[39;49m\u001B[43mget\u001B[49m\u001B[43m(\u001B[49m\u001B[38;5;124;43m\"\u001B[39;49m\u001B[38;5;124;43mmemory_map\u001B[39;49m\u001B[38;5;124;43m\"\u001B[39;49m\u001B[43m,\u001B[49m\u001B[43m \u001B[49m\u001B[38;5;28;43;01mFalse\u001B[39;49;00m\u001B[43m)\u001B[49m\u001B[43m,\u001B[49m\n\u001B[0;32m   1224\u001B[0m \u001B[43m    \u001B[49m\u001B[43mis_text\u001B[49m\u001B[38;5;241;43m=\u001B[39;49m\u001B[43mis_text\u001B[49m\u001B[43m,\u001B[49m\n\u001B[0;32m   1225\u001B[0m \u001B[43m    \u001B[49m\u001B[43merrors\u001B[49m\u001B[38;5;241;43m=\u001B[39;49m\u001B[38;5;28;43mself\u001B[39;49m\u001B[38;5;241;43m.\u001B[39;49m\u001B[43moptions\u001B[49m\u001B[38;5;241;43m.\u001B[39;49m\u001B[43mget\u001B[49m\u001B[43m(\u001B[49m\u001B[38;5;124;43m\"\u001B[39;49m\u001B[38;5;124;43mencoding_errors\u001B[39;49m\u001B[38;5;124;43m\"\u001B[39;49m\u001B[43m,\u001B[49m\u001B[43m \u001B[49m\u001B[38;5;124;43m\"\u001B[39;49m\u001B[38;5;124;43mstrict\u001B[39;49m\u001B[38;5;124;43m\"\u001B[39;49m\u001B[43m)\u001B[49m\u001B[43m,\u001B[49m\n\u001B[0;32m   1226\u001B[0m \u001B[43m    \u001B[49m\u001B[43mstorage_options\u001B[49m\u001B[38;5;241;43m=\u001B[39;49m\u001B[38;5;28;43mself\u001B[39;49m\u001B[38;5;241;43m.\u001B[39;49m\u001B[43moptions\u001B[49m\u001B[38;5;241;43m.\u001B[39;49m\u001B[43mget\u001B[49m\u001B[43m(\u001B[49m\u001B[38;5;124;43m\"\u001B[39;49m\u001B[38;5;124;43mstorage_options\u001B[39;49m\u001B[38;5;124;43m\"\u001B[39;49m\u001B[43m,\u001B[49m\u001B[43m \u001B[49m\u001B[38;5;28;43;01mNone\u001B[39;49;00m\u001B[43m)\u001B[49m\u001B[43m,\u001B[49m\n\u001B[0;32m   1227\u001B[0m \u001B[43m\u001B[49m\u001B[43m)\u001B[49m\n\u001B[0;32m   1228\u001B[0m \u001B[38;5;28;01massert\u001B[39;00m \u001B[38;5;28mself\u001B[39m\u001B[38;5;241m.\u001B[39mhandles \u001B[38;5;129;01mis\u001B[39;00m \u001B[38;5;129;01mnot\u001B[39;00m \u001B[38;5;28;01mNone\u001B[39;00m\n\u001B[0;32m   1229\u001B[0m f \u001B[38;5;241m=\u001B[39m \u001B[38;5;28mself\u001B[39m\u001B[38;5;241m.\u001B[39mhandles\u001B[38;5;241m.\u001B[39mhandle\n",
      "File \u001B[1;32m~\\Desktop\\Python\\Data Science\\venv\\lib\\site-packages\\pandas\\io\\common.py:786\u001B[0m, in \u001B[0;36mget_handle\u001B[1;34m(path_or_buf, mode, encoding, compression, memory_map, is_text, errors, storage_options)\u001B[0m\n\u001B[0;32m    781\u001B[0m \u001B[38;5;28;01melif\u001B[39;00m \u001B[38;5;28misinstance\u001B[39m(handle, \u001B[38;5;28mstr\u001B[39m):\n\u001B[0;32m    782\u001B[0m     \u001B[38;5;66;03m# Check whether the filename is to be opened in binary mode.\u001B[39;00m\n\u001B[0;32m    783\u001B[0m     \u001B[38;5;66;03m# Binary mode does not support 'encoding' and 'newline'.\u001B[39;00m\n\u001B[0;32m    784\u001B[0m     \u001B[38;5;28;01mif\u001B[39;00m ioargs\u001B[38;5;241m.\u001B[39mencoding \u001B[38;5;129;01mand\u001B[39;00m \u001B[38;5;124m\"\u001B[39m\u001B[38;5;124mb\u001B[39m\u001B[38;5;124m\"\u001B[39m \u001B[38;5;129;01mnot\u001B[39;00m \u001B[38;5;129;01min\u001B[39;00m ioargs\u001B[38;5;241m.\u001B[39mmode:\n\u001B[0;32m    785\u001B[0m         \u001B[38;5;66;03m# Encoding\u001B[39;00m\n\u001B[1;32m--> 786\u001B[0m         handle \u001B[38;5;241m=\u001B[39m \u001B[38;5;28;43mopen\u001B[39;49m\u001B[43m(\u001B[49m\n\u001B[0;32m    787\u001B[0m \u001B[43m            \u001B[49m\u001B[43mhandle\u001B[49m\u001B[43m,\u001B[49m\n\u001B[0;32m    788\u001B[0m \u001B[43m            \u001B[49m\u001B[43mioargs\u001B[49m\u001B[38;5;241;43m.\u001B[39;49m\u001B[43mmode\u001B[49m\u001B[43m,\u001B[49m\n\u001B[0;32m    789\u001B[0m \u001B[43m            \u001B[49m\u001B[43mencoding\u001B[49m\u001B[38;5;241;43m=\u001B[39;49m\u001B[43mioargs\u001B[49m\u001B[38;5;241;43m.\u001B[39;49m\u001B[43mencoding\u001B[49m\u001B[43m,\u001B[49m\n\u001B[0;32m    790\u001B[0m \u001B[43m            \u001B[49m\u001B[43merrors\u001B[49m\u001B[38;5;241;43m=\u001B[39;49m\u001B[43merrors\u001B[49m\u001B[43m,\u001B[49m\n\u001B[0;32m    791\u001B[0m \u001B[43m            \u001B[49m\u001B[43mnewline\u001B[49m\u001B[38;5;241;43m=\u001B[39;49m\u001B[38;5;124;43m\"\u001B[39;49m\u001B[38;5;124;43m\"\u001B[39;49m\u001B[43m,\u001B[49m\n\u001B[0;32m    792\u001B[0m \u001B[43m        \u001B[49m\u001B[43m)\u001B[49m\n\u001B[0;32m    793\u001B[0m     \u001B[38;5;28;01melse\u001B[39;00m:\n\u001B[0;32m    794\u001B[0m         \u001B[38;5;66;03m# Binary mode\u001B[39;00m\n\u001B[0;32m    795\u001B[0m         handle \u001B[38;5;241m=\u001B[39m \u001B[38;5;28mopen\u001B[39m(handle, ioargs\u001B[38;5;241m.\u001B[39mmode)\n",
      "\u001B[1;31mFileNotFoundError\u001B[0m: [Errno 2] No such file or directory: 'db.csv'"
     ]
    }
   ]
  },
  {
   "cell_type": "code",
   "metadata": {
    "id": "4-ZvhXjvD1Bj",
    "colab_type": "code",
    "colab": {
     "base_uri": "https://localhost:8080/",
     "height": 419
    },
    "outputId": "03583ad8-3366-4203-f2bb-782f97bc7803",
    "pycharm": {
     "name": "#%%\n"
    }
   },
   "source": [
    "dataset"
   ],
   "execution_count": 162,
   "outputs": [
    {
     "data": {
      "text/plain": "                                       Motor   Ano  Quilometragem  Zero_km  \\\nNome                                                                         \nJetta Variant                Motor 4.0 Turbo  2003        44410.0    False   \nPassat                          Motor Diesel  1991         5712.0    False   \nCrossfox                     Motor Diesel V8  1990        37123.0    False   \nDS5                          Motor 2.4 Turbo  2019            0.0     True   \nAston Martin DB4             Motor 2.4 Turbo  2006        25757.0    False   \n...                                      ...   ...            ...      ...   \nPhantom 2013                        Motor V8  2014        27505.0    False   \nCadillac Ciel concept               Motor V8  1991        29981.0    False   \nClasse GLK             Motor 5.0 V8 Bi-Turbo  2002        52637.0    False   \nAston Martin DB5                Motor Diesel  1996         7685.0    False   \nMacan                        Motor Diesel V6  1992        50188.0    False   \n\n                                                              Acessórios  \\\nNome                                                                       \nJetta Variant          ['Rodas de liga', 'Travas elétricas', 'Piloto ...   \nPassat                 ['Central multimídia', 'Teto panorâmico', 'Fre...   \nCrossfox               ['Piloto automático', 'Controle de estabilidad...   \nDS5                    ['Travas elétricas', '4 X 4', 'Vidros elétrico...   \nAston Martin DB4       ['Rodas de liga', '4 X 4', 'Central multimídia...   \n...                                                                  ...   \nPhantom 2013           ['Controle de estabilidade', 'Piloto automátic...   \nCadillac Ciel concept  ['Bancos de couro', 'Painel digital', 'Sensor ...   \nClasse GLK             ['Rodas de liga', 'Controle de tração', 'Câmbi...   \nAston Martin DB5       ['Ar condicionado', '4 X 4', 'Câmbio automátic...   \nMacan                  ['Central multimídia', 'Teto panorâmico', 'Vid...   \n\n                           Valor     Km_media  \nNome                                           \nJetta Variant           88078.64  2775.625000  \nPassat                 106161.94   204.000000  \nCrossfox                72832.16  1280.103448  \nDS5                    124549.07     0.000000  \nAston Martin DB4        92612.10  1981.307692  \n...                          ...          ...  \nPhantom 2013            51759.58  5501.000000  \nCadillac Ciel concept   51667.06  1070.750000  \nClasse GLK              68934.03  3096.294118  \nAston Martin DB5       122110.90   334.130435  \nMacan                   90381.47  1858.814815  \n\n[258 rows x 7 columns]",
      "text/html": "<div>\n<style scoped>\n    .dataframe tbody tr th:only-of-type {\n        vertical-align: middle;\n    }\n\n    .dataframe tbody tr th {\n        vertical-align: top;\n    }\n\n    .dataframe thead th {\n        text-align: right;\n    }\n</style>\n<table border=\"1\" class=\"dataframe\">\n  <thead>\n    <tr style=\"text-align: right;\">\n      <th></th>\n      <th>Motor</th>\n      <th>Ano</th>\n      <th>Quilometragem</th>\n      <th>Zero_km</th>\n      <th>Acessórios</th>\n      <th>Valor</th>\n      <th>Km_media</th>\n    </tr>\n    <tr>\n      <th>Nome</th>\n      <th></th>\n      <th></th>\n      <th></th>\n      <th></th>\n      <th></th>\n      <th></th>\n      <th></th>\n    </tr>\n  </thead>\n  <tbody>\n    <tr>\n      <th>Jetta Variant</th>\n      <td>Motor 4.0 Turbo</td>\n      <td>2003</td>\n      <td>44410.0</td>\n      <td>False</td>\n      <td>['Rodas de liga', 'Travas elétricas', 'Piloto ...</td>\n      <td>88078.64</td>\n      <td>2775.625000</td>\n    </tr>\n    <tr>\n      <th>Passat</th>\n      <td>Motor Diesel</td>\n      <td>1991</td>\n      <td>5712.0</td>\n      <td>False</td>\n      <td>['Central multimídia', 'Teto panorâmico', 'Fre...</td>\n      <td>106161.94</td>\n      <td>204.000000</td>\n    </tr>\n    <tr>\n      <th>Crossfox</th>\n      <td>Motor Diesel V8</td>\n      <td>1990</td>\n      <td>37123.0</td>\n      <td>False</td>\n      <td>['Piloto automático', 'Controle de estabilidad...</td>\n      <td>72832.16</td>\n      <td>1280.103448</td>\n    </tr>\n    <tr>\n      <th>DS5</th>\n      <td>Motor 2.4 Turbo</td>\n      <td>2019</td>\n      <td>0.0</td>\n      <td>True</td>\n      <td>['Travas elétricas', '4 X 4', 'Vidros elétrico...</td>\n      <td>124549.07</td>\n      <td>0.000000</td>\n    </tr>\n    <tr>\n      <th>Aston Martin DB4</th>\n      <td>Motor 2.4 Turbo</td>\n      <td>2006</td>\n      <td>25757.0</td>\n      <td>False</td>\n      <td>['Rodas de liga', '4 X 4', 'Central multimídia...</td>\n      <td>92612.10</td>\n      <td>1981.307692</td>\n    </tr>\n    <tr>\n      <th>...</th>\n      <td>...</td>\n      <td>...</td>\n      <td>...</td>\n      <td>...</td>\n      <td>...</td>\n      <td>...</td>\n      <td>...</td>\n    </tr>\n    <tr>\n      <th>Phantom 2013</th>\n      <td>Motor V8</td>\n      <td>2014</td>\n      <td>27505.0</td>\n      <td>False</td>\n      <td>['Controle de estabilidade', 'Piloto automátic...</td>\n      <td>51759.58</td>\n      <td>5501.000000</td>\n    </tr>\n    <tr>\n      <th>Cadillac Ciel concept</th>\n      <td>Motor V8</td>\n      <td>1991</td>\n      <td>29981.0</td>\n      <td>False</td>\n      <td>['Bancos de couro', 'Painel digital', 'Sensor ...</td>\n      <td>51667.06</td>\n      <td>1070.750000</td>\n    </tr>\n    <tr>\n      <th>Classe GLK</th>\n      <td>Motor 5.0 V8 Bi-Turbo</td>\n      <td>2002</td>\n      <td>52637.0</td>\n      <td>False</td>\n      <td>['Rodas de liga', 'Controle de tração', 'Câmbi...</td>\n      <td>68934.03</td>\n      <td>3096.294118</td>\n    </tr>\n    <tr>\n      <th>Aston Martin DB5</th>\n      <td>Motor Diesel</td>\n      <td>1996</td>\n      <td>7685.0</td>\n      <td>False</td>\n      <td>['Ar condicionado', '4 X 4', 'Câmbio automátic...</td>\n      <td>122110.90</td>\n      <td>334.130435</td>\n    </tr>\n    <tr>\n      <th>Macan</th>\n      <td>Motor Diesel V6</td>\n      <td>1992</td>\n      <td>50188.0</td>\n      <td>False</td>\n      <td>['Central multimídia', 'Teto panorâmico', 'Vid...</td>\n      <td>90381.47</td>\n      <td>1858.814815</td>\n    </tr>\n  </tbody>\n</table>\n<p>258 rows × 7 columns</p>\n</div>"
     },
     "execution_count": 162,
     "metadata": {},
     "output_type": "execute_result"
    }
   ]
  },
  {
   "cell_type": "code",
   "metadata": {
    "scrolled": true,
    "id": "MQUw7i1OD1Bk",
    "colab_type": "code",
    "colab": {},
    "pycharm": {
     "name": "#%%\n"
    }
   },
   "source": [
    "dataset.dropna(subset = ['Quilometragem'], inplace = True)"
   ],
   "execution_count": 163,
   "outputs": []
  },
  {
   "cell_type": "code",
   "metadata": {
    "id": "U4Cse7miD1Bl",
    "colab_type": "code",
    "colab": {
     "base_uri": "https://localhost:8080/",
     "height": 419
    },
    "outputId": "9eac60f6-fb6e-4cf2-b8fa-0fac86fe5275",
    "pycharm": {
     "name": "#%%\n"
    }
   },
   "source": [
    "dataset"
   ],
   "execution_count": 164,
   "outputs": [
    {
     "data": {
      "text/plain": "                                       Motor   Ano  Quilometragem  Zero_km  \\\nNome                                                                         \nJetta Variant                Motor 4.0 Turbo  2003        44410.0    False   \nPassat                          Motor Diesel  1991         5712.0    False   \nCrossfox                     Motor Diesel V8  1990        37123.0    False   \nDS5                          Motor 2.4 Turbo  2019            0.0     True   \nAston Martin DB4             Motor 2.4 Turbo  2006        25757.0    False   \n...                                      ...   ...            ...      ...   \nPhantom 2013                        Motor V8  2014        27505.0    False   \nCadillac Ciel concept               Motor V8  1991        29981.0    False   \nClasse GLK             Motor 5.0 V8 Bi-Turbo  2002        52637.0    False   \nAston Martin DB5                Motor Diesel  1996         7685.0    False   \nMacan                        Motor Diesel V6  1992        50188.0    False   \n\n                                                              Acessórios  \\\nNome                                                                       \nJetta Variant          ['Rodas de liga', 'Travas elétricas', 'Piloto ...   \nPassat                 ['Central multimídia', 'Teto panorâmico', 'Fre...   \nCrossfox               ['Piloto automático', 'Controle de estabilidad...   \nDS5                    ['Travas elétricas', '4 X 4', 'Vidros elétrico...   \nAston Martin DB4       ['Rodas de liga', '4 X 4', 'Central multimídia...   \n...                                                                  ...   \nPhantom 2013           ['Controle de estabilidade', 'Piloto automátic...   \nCadillac Ciel concept  ['Bancos de couro', 'Painel digital', 'Sensor ...   \nClasse GLK             ['Rodas de liga', 'Controle de tração', 'Câmbi...   \nAston Martin DB5       ['Ar condicionado', '4 X 4', 'Câmbio automátic...   \nMacan                  ['Central multimídia', 'Teto panorâmico', 'Vid...   \n\n                           Valor     Km_media  \nNome                                           \nJetta Variant           88078.64  2775.625000  \nPassat                 106161.94   204.000000  \nCrossfox                72832.16  1280.103448  \nDS5                    124549.07     0.000000  \nAston Martin DB4        92612.10  1981.307692  \n...                          ...          ...  \nPhantom 2013            51759.58  5501.000000  \nCadillac Ciel concept   51667.06  1070.750000  \nClasse GLK              68934.03  3096.294118  \nAston Martin DB5       122110.90   334.130435  \nMacan                   90381.47  1858.814815  \n\n[258 rows x 7 columns]",
      "text/html": "<div>\n<style scoped>\n    .dataframe tbody tr th:only-of-type {\n        vertical-align: middle;\n    }\n\n    .dataframe tbody tr th {\n        vertical-align: top;\n    }\n\n    .dataframe thead th {\n        text-align: right;\n    }\n</style>\n<table border=\"1\" class=\"dataframe\">\n  <thead>\n    <tr style=\"text-align: right;\">\n      <th></th>\n      <th>Motor</th>\n      <th>Ano</th>\n      <th>Quilometragem</th>\n      <th>Zero_km</th>\n      <th>Acessórios</th>\n      <th>Valor</th>\n      <th>Km_media</th>\n    </tr>\n    <tr>\n      <th>Nome</th>\n      <th></th>\n      <th></th>\n      <th></th>\n      <th></th>\n      <th></th>\n      <th></th>\n      <th></th>\n    </tr>\n  </thead>\n  <tbody>\n    <tr>\n      <th>Jetta Variant</th>\n      <td>Motor 4.0 Turbo</td>\n      <td>2003</td>\n      <td>44410.0</td>\n      <td>False</td>\n      <td>['Rodas de liga', 'Travas elétricas', 'Piloto ...</td>\n      <td>88078.64</td>\n      <td>2775.625000</td>\n    </tr>\n    <tr>\n      <th>Passat</th>\n      <td>Motor Diesel</td>\n      <td>1991</td>\n      <td>5712.0</td>\n      <td>False</td>\n      <td>['Central multimídia', 'Teto panorâmico', 'Fre...</td>\n      <td>106161.94</td>\n      <td>204.000000</td>\n    </tr>\n    <tr>\n      <th>Crossfox</th>\n      <td>Motor Diesel V8</td>\n      <td>1990</td>\n      <td>37123.0</td>\n      <td>False</td>\n      <td>['Piloto automático', 'Controle de estabilidad...</td>\n      <td>72832.16</td>\n      <td>1280.103448</td>\n    </tr>\n    <tr>\n      <th>DS5</th>\n      <td>Motor 2.4 Turbo</td>\n      <td>2019</td>\n      <td>0.0</td>\n      <td>True</td>\n      <td>['Travas elétricas', '4 X 4', 'Vidros elétrico...</td>\n      <td>124549.07</td>\n      <td>0.000000</td>\n    </tr>\n    <tr>\n      <th>Aston Martin DB4</th>\n      <td>Motor 2.4 Turbo</td>\n      <td>2006</td>\n      <td>25757.0</td>\n      <td>False</td>\n      <td>['Rodas de liga', '4 X 4', 'Central multimídia...</td>\n      <td>92612.10</td>\n      <td>1981.307692</td>\n    </tr>\n    <tr>\n      <th>...</th>\n      <td>...</td>\n      <td>...</td>\n      <td>...</td>\n      <td>...</td>\n      <td>...</td>\n      <td>...</td>\n      <td>...</td>\n    </tr>\n    <tr>\n      <th>Phantom 2013</th>\n      <td>Motor V8</td>\n      <td>2014</td>\n      <td>27505.0</td>\n      <td>False</td>\n      <td>['Controle de estabilidade', 'Piloto automátic...</td>\n      <td>51759.58</td>\n      <td>5501.000000</td>\n    </tr>\n    <tr>\n      <th>Cadillac Ciel concept</th>\n      <td>Motor V8</td>\n      <td>1991</td>\n      <td>29981.0</td>\n      <td>False</td>\n      <td>['Bancos de couro', 'Painel digital', 'Sensor ...</td>\n      <td>51667.06</td>\n      <td>1070.750000</td>\n    </tr>\n    <tr>\n      <th>Classe GLK</th>\n      <td>Motor 5.0 V8 Bi-Turbo</td>\n      <td>2002</td>\n      <td>52637.0</td>\n      <td>False</td>\n      <td>['Rodas de liga', 'Controle de tração', 'Câmbi...</td>\n      <td>68934.03</td>\n      <td>3096.294118</td>\n    </tr>\n    <tr>\n      <th>Aston Martin DB5</th>\n      <td>Motor Diesel</td>\n      <td>1996</td>\n      <td>7685.0</td>\n      <td>False</td>\n      <td>['Ar condicionado', '4 X 4', 'Câmbio automátic...</td>\n      <td>122110.90</td>\n      <td>334.130435</td>\n    </tr>\n    <tr>\n      <th>Macan</th>\n      <td>Motor Diesel V6</td>\n      <td>1992</td>\n      <td>50188.0</td>\n      <td>False</td>\n      <td>['Central multimídia', 'Teto panorâmico', 'Vid...</td>\n      <td>90381.47</td>\n      <td>1858.814815</td>\n    </tr>\n  </tbody>\n</table>\n<p>258 rows × 7 columns</p>\n</div>"
     },
     "execution_count": 164,
     "metadata": {},
     "output_type": "execute_result"
    }
   ]
  },
  {
   "cell_type": "code",
   "metadata": {
    "scrolled": true,
    "id": "8L4wum05D1Bl",
    "colab_type": "code",
    "colab": {},
    "pycharm": {
     "name": "#%%\n"
    }
   },
   "source": [],
   "execution_count": 164,
   "outputs": []
  }
 ]
}